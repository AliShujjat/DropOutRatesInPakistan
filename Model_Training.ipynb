{
  "nbformat": 4,
  "nbformat_minor": 0,
  "metadata": {
    "colab": {
      "name": "Model Training.ipynb",
      "provenance": [],
      "include_colab_link": true
    },
    "kernelspec": {
      "display_name": "Python 3",
      "language": "python",
      "name": "python3"
    },
    "language_info": {
      "codemirror_mode": {
        "name": "ipython",
        "version": 3
      },
      "file_extension": ".py",
      "mimetype": "text/x-python",
      "name": "python",
      "nbconvert_exporter": "python",
      "pygments_lexer": "ipython3",
      "version": "3.7.1"
    }
  },
  "cells": [
    {
      "cell_type": "markdown",
      "metadata": {
        "id": "view-in-github",
        "colab_type": "text"
      },
      "source": [
        "<a href=\"https://colab.research.google.com/github/AliShujjat/DropOutRatesInPakistan/blob/main/Model_Training.ipynb\" target=\"_parent\"><img src=\"https://colab.research.google.com/assets/colab-badge.svg\" alt=\"Open In Colab\"/></a>"
      ]
    },
    {
      "cell_type": "code",
      "metadata": {
        "colab": {
          "base_uri": "https://localhost:8080/"
        },
        "id": "gpGdj1h0tkwf",
        "outputId": "04df5d72-9c0e-4310-b5c4-906fc421a704"
      },
      "source": [
        "#Retrieving the data from Google Drive\n",
        "from google.colab import drive\n",
        "drive.mount('/content/drive')\n",
        "!cp \"/content/drive/My Drive/Edu/Edu2.csv\" \"Edu2.csv\""
      ],
      "execution_count": 1,
      "outputs": [
        {
          "output_type": "stream",
          "text": [
            "Drive already mounted at /content/drive; to attempt to forcibly remount, call drive.mount(\"/content/drive\", force_remount=True).\n"
          ],
          "name": "stdout"
        }
      ]
    },
    {
      "cell_type": "code",
      "metadata": {
        "id": "qjXqkO_8uCfl"
      },
      "source": [
        "#Importing the libraries\n",
        "import numpy as np\n",
        "import pandas as pd\n",
        "import seaborn as sns\n",
        "import matplotlib.pyplot as plt\n",
        "from sklearn.metrics import roc_curve, auc\n",
        "from sklearn.feature_selection import SelectKBest\n",
        "from sklearn.feature_selection import chi2\n",
        "from sklearn.feature_selection import mutual_info_classif\n",
        "from sklearn.model_selection import train_test_split\n",
        "from sklearn.linear_model import LogisticRegression\n",
        "from sklearn.ensemble import RandomForestClassifier\n",
        "from sklearn.svm import SVC\n",
        "from sklearn.neighbors import KNeighborsClassifier\n",
        "from sklearn.tree import DecisionTreeClassifier\n",
        "from sklearn.metrics import confusion_matrix, classification_report\n",
        "from sklearn.naive_bayes import GaussianNB\n",
        "from sklearn.preprocessing import MinMaxScaler\n",
        "from sklearn.metrics import precision_recall_curve\n",
        "from sklearn.metrics import plot_precision_recall_curve\n",
        "from sklearn.metrics import confusion_matrix, roc_curve, roc_auc_score\n",
        "from matplotlib import pyplot\n",
        "\n",
        "from keras.wrappers.scikit_learn import KerasClassifier\n",
        "from sklearn.model_selection import cross_val_score\n",
        "from keras.models import Sequential # initialize neural network library\n",
        "from keras.layers import Dense # build our layers library"
      ],
      "execution_count": 2,
      "outputs": []
    },
    {
      "cell_type": "code",
      "metadata": {
        "id": "FGq4qPLjuUbb"
      },
      "source": [
        "df = pd.read_csv('Edu2.csv')"
      ],
      "execution_count": 3,
      "outputs": []
    },
    {
      "cell_type": "code",
      "metadata": {
        "id": "zj4QrFtpu8Iz"
      },
      "source": [
        "performance = {\"Model\":[], \"Accuracy\":[]};\n",
        "auc_list = []"
      ],
      "execution_count": 4,
      "outputs": []
    },
    {
      "cell_type": "markdown",
      "metadata": {
        "id": "zn5Alu3f8ADc"
      },
      "source": [
        "# Preprocessing"
      ]
    },
    {
      "cell_type": "code",
      "metadata": {
        "colab": {
          "base_uri": "https://localhost:8080/",
          "height": 326
        },
        "id": "s9ZEQA6lujRV",
        "outputId": "cdfc304c-87ea-43f4-b364-3d8d2da98a09"
      },
      "source": [
        "df.head()"
      ],
      "execution_count": 5,
      "outputs": [
        {
          "output_type": "execute_result",
          "data": {
            "text/html": [
              "<div>\n",
              "<style scoped>\n",
              "    .dataframe tbody tr th:only-of-type {\n",
              "        vertical-align: middle;\n",
              "    }\n",
              "\n",
              "    .dataframe tbody tr th {\n",
              "        vertical-align: top;\n",
              "    }\n",
              "\n",
              "    .dataframe thead th {\n",
              "        text-align: right;\n",
              "    }\n",
              "</style>\n",
              "<table border=\"1\" class=\"dataframe\">\n",
              "  <thead>\n",
              "    <tr style=\"text-align: right;\">\n",
              "      <th></th>\n",
              "      <th>Unnamed: 0</th>\n",
              "      <th>If Drop-out, studied up-to which\\nclass</th>\n",
              "      <th>Education Status of Child</th>\n",
              "      <th>Edu status</th>\n",
              "      <th>Reasons for Dropout</th>\n",
              "      <th>Age of Child</th>\n",
              "      <th>Reasons for dropout</th>\n",
              "      <th>C013</th>\n",
              "      <th>Age of father (completed years)</th>\n",
              "      <th>C010</th>\n",
              "      <th>HCOUNTER</th>\n",
              "      <th>Age of mother (completed years)</th>\n",
              "      <th>Arithmetic Levels</th>\n",
              "      <th>Total number of surviving children (LESS THAN 17) of mother</th>\n",
              "      <th>WSCORE</th>\n",
              "      <th>H001M</th>\n",
              "      <th>H001F</th>\n",
              "      <th>Gender of Child</th>\n",
              "      <th>DID</th>\n",
              "      <th>Gender</th>\n",
              "      <th>C012a</th>\n",
              "      <th>Unique ID of government school</th>\n",
              "      <th>Name of the District</th>\n",
              "      <th>GS007P</th>\n",
              "      <th>GS003Y</th>\n",
              "      <th>Local Language of the Village</th>\n",
              "      <th>GS007E</th>\n",
              "      <th>H010</th>\n",
              "      <th>WINDEX/Economic Profile</th>\n",
              "      <th>Windex</th>\n",
              "      <th>V007</th>\n",
              "    </tr>\n",
              "  </thead>\n",
              "  <tbody>\n",
              "    <tr>\n",
              "      <th>0</th>\n",
              "      <td>0</td>\n",
              "      <td>19</td>\n",
              "      <td>1.0</td>\n",
              "      <td>2</td>\n",
              "      <td>2.0</td>\n",
              "      <td>3.0</td>\n",
              "      <td>5</td>\n",
              "      <td>1.0</td>\n",
              "      <td>40.0</td>\n",
              "      <td>5.0</td>\n",
              "      <td>1.0</td>\n",
              "      <td>36.0</td>\n",
              "      <td>6.0</td>\n",
              "      <td>4.0</td>\n",
              "      <td>-0.023974</td>\n",
              "      <td>5.0</td>\n",
              "      <td>1.0</td>\n",
              "      <td>0.0</td>\n",
              "      <td>132</td>\n",
              "      <td>1</td>\n",
              "      <td>1.0</td>\n",
              "      <td>4792.0</td>\n",
              "      <td>113</td>\n",
              "      <td>50.0</td>\n",
              "      <td>1977.0</td>\n",
              "      <td>128</td>\n",
              "      <td>54.0</td>\n",
              "      <td>0.0</td>\n",
              "      <td>2.0</td>\n",
              "      <td>0</td>\n",
              "      <td>2.0</td>\n",
              "    </tr>\n",
              "    <tr>\n",
              "      <th>1</th>\n",
              "      <td>1</td>\n",
              "      <td>19</td>\n",
              "      <td>3.0</td>\n",
              "      <td>0</td>\n",
              "      <td>2.0</td>\n",
              "      <td>5.0</td>\n",
              "      <td>5</td>\n",
              "      <td>4.0</td>\n",
              "      <td>35.0</td>\n",
              "      <td>3.0</td>\n",
              "      <td>3.0</td>\n",
              "      <td>30.0</td>\n",
              "      <td>6.0</td>\n",
              "      <td>2.0</td>\n",
              "      <td>0.706430</td>\n",
              "      <td>2.0</td>\n",
              "      <td>2.0</td>\n",
              "      <td>1.0</td>\n",
              "      <td>132</td>\n",
              "      <td>0</td>\n",
              "      <td>1.0</td>\n",
              "      <td>4792.0</td>\n",
              "      <td>113</td>\n",
              "      <td>50.0</td>\n",
              "      <td>1977.0</td>\n",
              "      <td>128</td>\n",
              "      <td>54.0</td>\n",
              "      <td>0.0</td>\n",
              "      <td>3.0</td>\n",
              "      <td>2</td>\n",
              "      <td>2.0</td>\n",
              "    </tr>\n",
              "    <tr>\n",
              "      <th>2</th>\n",
              "      <td>2</td>\n",
              "      <td>19</td>\n",
              "      <td>3.0</td>\n",
              "      <td>0</td>\n",
              "      <td>2.0</td>\n",
              "      <td>5.0</td>\n",
              "      <td>5</td>\n",
              "      <td>3.0</td>\n",
              "      <td>70.0</td>\n",
              "      <td>2.0</td>\n",
              "      <td>2.0</td>\n",
              "      <td>65.0</td>\n",
              "      <td>3.0</td>\n",
              "      <td>3.0</td>\n",
              "      <td>0.706430</td>\n",
              "      <td>6.0</td>\n",
              "      <td>3.0</td>\n",
              "      <td>1.0</td>\n",
              "      <td>132</td>\n",
              "      <td>0</td>\n",
              "      <td>0.0</td>\n",
              "      <td>4792.0</td>\n",
              "      <td>113</td>\n",
              "      <td>50.0</td>\n",
              "      <td>1977.0</td>\n",
              "      <td>128</td>\n",
              "      <td>54.0</td>\n",
              "      <td>0.0</td>\n",
              "      <td>3.0</td>\n",
              "      <td>2</td>\n",
              "      <td>2.0</td>\n",
              "    </tr>\n",
              "    <tr>\n",
              "      <th>3</th>\n",
              "      <td>3</td>\n",
              "      <td>19</td>\n",
              "      <td>3.0</td>\n",
              "      <td>0</td>\n",
              "      <td>2.0</td>\n",
              "      <td>10.0</td>\n",
              "      <td>5</td>\n",
              "      <td>5.0</td>\n",
              "      <td>50.0</td>\n",
              "      <td>5.0</td>\n",
              "      <td>8.0</td>\n",
              "      <td>45.0</td>\n",
              "      <td>6.0</td>\n",
              "      <td>3.0</td>\n",
              "      <td>0.916803</td>\n",
              "      <td>2.0</td>\n",
              "      <td>3.0</td>\n",
              "      <td>0.0</td>\n",
              "      <td>132</td>\n",
              "      <td>1</td>\n",
              "      <td>1.0</td>\n",
              "      <td>4792.0</td>\n",
              "      <td>113</td>\n",
              "      <td>50.0</td>\n",
              "      <td>1977.0</td>\n",
              "      <td>128</td>\n",
              "      <td>54.0</td>\n",
              "      <td>1.0</td>\n",
              "      <td>4.0</td>\n",
              "      <td>3</td>\n",
              "      <td>2.0</td>\n",
              "    </tr>\n",
              "    <tr>\n",
              "      <th>4</th>\n",
              "      <td>4</td>\n",
              "      <td>19</td>\n",
              "      <td>3.0</td>\n",
              "      <td>0</td>\n",
              "      <td>2.0</td>\n",
              "      <td>4.0</td>\n",
              "      <td>5</td>\n",
              "      <td>1.0</td>\n",
              "      <td>40.0</td>\n",
              "      <td>5.0</td>\n",
              "      <td>20.0</td>\n",
              "      <td>30.0</td>\n",
              "      <td>6.0</td>\n",
              "      <td>3.0</td>\n",
              "      <td>-0.185241</td>\n",
              "      <td>3.0</td>\n",
              "      <td>2.0</td>\n",
              "      <td>0.0</td>\n",
              "      <td>132</td>\n",
              "      <td>1</td>\n",
              "      <td>1.0</td>\n",
              "      <td>4792.0</td>\n",
              "      <td>113</td>\n",
              "      <td>50.0</td>\n",
              "      <td>1977.0</td>\n",
              "      <td>128</td>\n",
              "      <td>54.0</td>\n",
              "      <td>0.0</td>\n",
              "      <td>2.0</td>\n",
              "      <td>0</td>\n",
              "      <td>2.0</td>\n",
              "    </tr>\n",
              "  </tbody>\n",
              "</table>\n",
              "</div>"
            ],
            "text/plain": [
              "   Unnamed: 0  If Drop-out, studied up-to which\\nclass  ...  Windex  V007\n",
              "0           0                                       19  ...       0   2.0\n",
              "1           1                                       19  ...       2   2.0\n",
              "2           2                                       19  ...       2   2.0\n",
              "3           3                                       19  ...       3   2.0\n",
              "4           4                                       19  ...       0   2.0\n",
              "\n",
              "[5 rows x 31 columns]"
            ]
          },
          "metadata": {
            "tags": []
          },
          "execution_count": 5
        }
      ]
    },
    {
      "cell_type": "code",
      "metadata": {
        "colab": {
          "base_uri": "https://localhost:8080/",
          "height": 326
        },
        "id": "ey28l0evXzuz",
        "outputId": "7c1de69a-ad0d-4680-ef32-99370f3c1202"
      },
      "source": [
        "cols = list(df.columns.values) #Make a list of all of the columns in the df\n",
        "cols.pop(cols.index('Education Status of Child')) #Remove b from list\n",
        "cols.pop(cols.index('Edu status')) #Remove x from list\n",
        "df = df[cols+['Education Status of Child','Edu status']] #Create new dataframe with columns in the order you want\n",
        "df.drop('Edu status', inplace=True, axis=1)\n",
        "df[\"Education Status of Child\"].replace({1: 2}, inplace=True)\n",
        "df.head()"
      ],
      "execution_count": 6,
      "outputs": [
        {
          "output_type": "execute_result",
          "data": {
            "text/html": [
              "<div>\n",
              "<style scoped>\n",
              "    .dataframe tbody tr th:only-of-type {\n",
              "        vertical-align: middle;\n",
              "    }\n",
              "\n",
              "    .dataframe tbody tr th {\n",
              "        vertical-align: top;\n",
              "    }\n",
              "\n",
              "    .dataframe thead th {\n",
              "        text-align: right;\n",
              "    }\n",
              "</style>\n",
              "<table border=\"1\" class=\"dataframe\">\n",
              "  <thead>\n",
              "    <tr style=\"text-align: right;\">\n",
              "      <th></th>\n",
              "      <th>Unnamed: 0</th>\n",
              "      <th>If Drop-out, studied up-to which\\nclass</th>\n",
              "      <th>Reasons for Dropout</th>\n",
              "      <th>Age of Child</th>\n",
              "      <th>Reasons for dropout</th>\n",
              "      <th>C013</th>\n",
              "      <th>Age of father (completed years)</th>\n",
              "      <th>C010</th>\n",
              "      <th>HCOUNTER</th>\n",
              "      <th>Age of mother (completed years)</th>\n",
              "      <th>Arithmetic Levels</th>\n",
              "      <th>Total number of surviving children (LESS THAN 17) of mother</th>\n",
              "      <th>WSCORE</th>\n",
              "      <th>H001M</th>\n",
              "      <th>H001F</th>\n",
              "      <th>Gender of Child</th>\n",
              "      <th>DID</th>\n",
              "      <th>Gender</th>\n",
              "      <th>C012a</th>\n",
              "      <th>Unique ID of government school</th>\n",
              "      <th>Name of the District</th>\n",
              "      <th>GS007P</th>\n",
              "      <th>GS003Y</th>\n",
              "      <th>Local Language of the Village</th>\n",
              "      <th>GS007E</th>\n",
              "      <th>H010</th>\n",
              "      <th>WINDEX/Economic Profile</th>\n",
              "      <th>Windex</th>\n",
              "      <th>V007</th>\n",
              "      <th>Education Status of Child</th>\n",
              "    </tr>\n",
              "  </thead>\n",
              "  <tbody>\n",
              "    <tr>\n",
              "      <th>0</th>\n",
              "      <td>0</td>\n",
              "      <td>19</td>\n",
              "      <td>2.0</td>\n",
              "      <td>3.0</td>\n",
              "      <td>5</td>\n",
              "      <td>1.0</td>\n",
              "      <td>40.0</td>\n",
              "      <td>5.0</td>\n",
              "      <td>1.0</td>\n",
              "      <td>36.0</td>\n",
              "      <td>6.0</td>\n",
              "      <td>4.0</td>\n",
              "      <td>-0.023974</td>\n",
              "      <td>5.0</td>\n",
              "      <td>1.0</td>\n",
              "      <td>0.0</td>\n",
              "      <td>132</td>\n",
              "      <td>1</td>\n",
              "      <td>1.0</td>\n",
              "      <td>4792.0</td>\n",
              "      <td>113</td>\n",
              "      <td>50.0</td>\n",
              "      <td>1977.0</td>\n",
              "      <td>128</td>\n",
              "      <td>54.0</td>\n",
              "      <td>0.0</td>\n",
              "      <td>2.0</td>\n",
              "      <td>0</td>\n",
              "      <td>2.0</td>\n",
              "      <td>2.0</td>\n",
              "    </tr>\n",
              "    <tr>\n",
              "      <th>1</th>\n",
              "      <td>1</td>\n",
              "      <td>19</td>\n",
              "      <td>2.0</td>\n",
              "      <td>5.0</td>\n",
              "      <td>5</td>\n",
              "      <td>4.0</td>\n",
              "      <td>35.0</td>\n",
              "      <td>3.0</td>\n",
              "      <td>3.0</td>\n",
              "      <td>30.0</td>\n",
              "      <td>6.0</td>\n",
              "      <td>2.0</td>\n",
              "      <td>0.706430</td>\n",
              "      <td>2.0</td>\n",
              "      <td>2.0</td>\n",
              "      <td>1.0</td>\n",
              "      <td>132</td>\n",
              "      <td>0</td>\n",
              "      <td>1.0</td>\n",
              "      <td>4792.0</td>\n",
              "      <td>113</td>\n",
              "      <td>50.0</td>\n",
              "      <td>1977.0</td>\n",
              "      <td>128</td>\n",
              "      <td>54.0</td>\n",
              "      <td>0.0</td>\n",
              "      <td>3.0</td>\n",
              "      <td>2</td>\n",
              "      <td>2.0</td>\n",
              "      <td>3.0</td>\n",
              "    </tr>\n",
              "    <tr>\n",
              "      <th>2</th>\n",
              "      <td>2</td>\n",
              "      <td>19</td>\n",
              "      <td>2.0</td>\n",
              "      <td>5.0</td>\n",
              "      <td>5</td>\n",
              "      <td>3.0</td>\n",
              "      <td>70.0</td>\n",
              "      <td>2.0</td>\n",
              "      <td>2.0</td>\n",
              "      <td>65.0</td>\n",
              "      <td>3.0</td>\n",
              "      <td>3.0</td>\n",
              "      <td>0.706430</td>\n",
              "      <td>6.0</td>\n",
              "      <td>3.0</td>\n",
              "      <td>1.0</td>\n",
              "      <td>132</td>\n",
              "      <td>0</td>\n",
              "      <td>0.0</td>\n",
              "      <td>4792.0</td>\n",
              "      <td>113</td>\n",
              "      <td>50.0</td>\n",
              "      <td>1977.0</td>\n",
              "      <td>128</td>\n",
              "      <td>54.0</td>\n",
              "      <td>0.0</td>\n",
              "      <td>3.0</td>\n",
              "      <td>2</td>\n",
              "      <td>2.0</td>\n",
              "      <td>3.0</td>\n",
              "    </tr>\n",
              "    <tr>\n",
              "      <th>3</th>\n",
              "      <td>3</td>\n",
              "      <td>19</td>\n",
              "      <td>2.0</td>\n",
              "      <td>10.0</td>\n",
              "      <td>5</td>\n",
              "      <td>5.0</td>\n",
              "      <td>50.0</td>\n",
              "      <td>5.0</td>\n",
              "      <td>8.0</td>\n",
              "      <td>45.0</td>\n",
              "      <td>6.0</td>\n",
              "      <td>3.0</td>\n",
              "      <td>0.916803</td>\n",
              "      <td>2.0</td>\n",
              "      <td>3.0</td>\n",
              "      <td>0.0</td>\n",
              "      <td>132</td>\n",
              "      <td>1</td>\n",
              "      <td>1.0</td>\n",
              "      <td>4792.0</td>\n",
              "      <td>113</td>\n",
              "      <td>50.0</td>\n",
              "      <td>1977.0</td>\n",
              "      <td>128</td>\n",
              "      <td>54.0</td>\n",
              "      <td>1.0</td>\n",
              "      <td>4.0</td>\n",
              "      <td>3</td>\n",
              "      <td>2.0</td>\n",
              "      <td>3.0</td>\n",
              "    </tr>\n",
              "    <tr>\n",
              "      <th>4</th>\n",
              "      <td>4</td>\n",
              "      <td>19</td>\n",
              "      <td>2.0</td>\n",
              "      <td>4.0</td>\n",
              "      <td>5</td>\n",
              "      <td>1.0</td>\n",
              "      <td>40.0</td>\n",
              "      <td>5.0</td>\n",
              "      <td>20.0</td>\n",
              "      <td>30.0</td>\n",
              "      <td>6.0</td>\n",
              "      <td>3.0</td>\n",
              "      <td>-0.185241</td>\n",
              "      <td>3.0</td>\n",
              "      <td>2.0</td>\n",
              "      <td>0.0</td>\n",
              "      <td>132</td>\n",
              "      <td>1</td>\n",
              "      <td>1.0</td>\n",
              "      <td>4792.0</td>\n",
              "      <td>113</td>\n",
              "      <td>50.0</td>\n",
              "      <td>1977.0</td>\n",
              "      <td>128</td>\n",
              "      <td>54.0</td>\n",
              "      <td>0.0</td>\n",
              "      <td>2.0</td>\n",
              "      <td>0</td>\n",
              "      <td>2.0</td>\n",
              "      <td>3.0</td>\n",
              "    </tr>\n",
              "  </tbody>\n",
              "</table>\n",
              "</div>"
            ],
            "text/plain": [
              "   Unnamed: 0  ...  Education Status of Child\n",
              "0           0  ...                        2.0\n",
              "1           1  ...                        3.0\n",
              "2           2  ...                        3.0\n",
              "3           3  ...                        3.0\n",
              "4           4  ...                        3.0\n",
              "\n",
              "[5 rows x 30 columns]"
            ]
          },
          "metadata": {
            "tags": []
          },
          "execution_count": 6
        }
      ]
    },
    {
      "cell_type": "code",
      "metadata": {
        "colab": {
          "base_uri": "https://localhost:8080/"
        },
        "id": "8_yVTkZ4v_2E",
        "outputId": "53d36e06-06cf-4416-8d1c-fae1f28870a8"
      },
      "source": [
        "len(df.columns)"
      ],
      "execution_count": 7,
      "outputs": [
        {
          "output_type": "execute_result",
          "data": {
            "text/plain": [
              "30"
            ]
          },
          "metadata": {
            "tags": []
          },
          "execution_count": 7
        }
      ]
    },
    {
      "cell_type": "code",
      "metadata": {
        "id": "GQnSzOaBuvDC"
      },
      "source": [
        "df = df.values\n",
        "X, y = df[:,0:28], df[:,29]"
      ],
      "execution_count": 8,
      "outputs": []
    },
    {
      "cell_type": "code",
      "metadata": {
        "id": "Goez4hEVuW6R",
        "colab": {
          "base_uri": "https://localhost:8080/",
          "height": 238
        },
        "outputId": "a478aaee-1954-47f5-fb64-e1cb885952f0"
      },
      "source": [
        "#Normalization\n",
        "scaler = MinMaxScaler(feature_range=(0,1))\n",
        "newX = scaler.fit_transform(X)\n",
        "scaler.transform(newX)\n",
        "\n",
        "display(newX)\n",
        "\n",
        "#split into source and target\n",
        "X, y = df[:,:-1], df[:,-1]\n",
        "\n",
        "#Train Test Split\n",
        "X_train, X_test, y_train, y_test = train_test_split(newX, y, test_size=0.33)"
      ],
      "execution_count": 9,
      "outputs": [
        {
          "output_type": "display_data",
          "data": {
            "text/plain": [
              "array([[0.00000000e+00, 6.55172414e-01, 1.66666667e-01, ...,\n",
              "        0.00000000e+00, 3.33333333e-01, 0.00000000e+00],\n",
              "       [3.84341911e-06, 6.55172414e-01, 1.66666667e-01, ...,\n",
              "        0.00000000e+00, 6.66666667e-01, 6.66666667e-01],\n",
              "       [7.68683821e-06, 6.55172414e-01, 1.66666667e-01, ...,\n",
              "        0.00000000e+00, 6.66666667e-01, 6.66666667e-01],\n",
              "       ...,\n",
              "       [9.99992313e-01, 6.55172414e-01, 1.66666667e-01, ...,\n",
              "        2.50000000e-01, 0.00000000e+00, 3.33333333e-01],\n",
              "       [9.99996157e-01, 6.55172414e-01, 1.66666667e-01, ...,\n",
              "        0.00000000e+00, 0.00000000e+00, 3.33333333e-01],\n",
              "       [1.00000000e+00, 6.55172414e-01, 1.66666667e-01, ...,\n",
              "        0.00000000e+00, 0.00000000e+00, 3.33333333e-01]])"
            ]
          },
          "metadata": {
            "tags": []
          }
        }
      ]
    },
    {
      "cell_type": "markdown",
      "metadata": {
        "id": "xhWXf6D0789A"
      },
      "source": [
        "# Logistic Regression"
      ]
    },
    {
      "cell_type": "code",
      "metadata": {
        "colab": {
          "base_uri": "https://localhost:8080/"
        },
        "id": "43Ie5pVAwrsf",
        "outputId": "0f658d69-9933-476a-cbcc-676ac8135579"
      },
      "source": [
        "logreg = LogisticRegression(max_iter=1000)\n",
        "logreg.fit(X_train,y_train)"
      ],
      "execution_count": 10,
      "outputs": [
        {
          "output_type": "execute_result",
          "data": {
            "text/plain": [
              "LogisticRegression(C=1.0, class_weight=None, dual=False, fit_intercept=True,\n",
              "                   intercept_scaling=1, l1_ratio=None, max_iter=1000,\n",
              "                   multi_class='auto', n_jobs=None, penalty='l2',\n",
              "                   random_state=None, solver='lbfgs', tol=0.0001, verbose=0,\n",
              "                   warm_start=False)"
            ]
          },
          "metadata": {
            "tags": []
          },
          "execution_count": 10
        }
      ]
    },
    {
      "cell_type": "code",
      "metadata": {
        "colab": {
          "base_uri": "https://localhost:8080/",
          "height": 820
        },
        "id": "1vd5otW-yYmO",
        "outputId": "db6ecfed-c011-4db9-f468-a741e0061dbd"
      },
      "source": [
        "y_pred = logreg.predict(X_test)\n",
        "\n",
        "#Evaluate\n",
        "score = logreg.score(X_test, y_test)\n",
        "print(\"Evaluation metrics of logistic regression classifier: \", score)\n",
        "performance['Model'].append('Logistic Regression')\n",
        "performance['Accuracy'].append(score)\n",
        "conf_mat = confusion_matrix(y_test,y_pred)\n",
        "\n",
        "print(conf_mat)\n",
        "print(classification_report(y_test, y_pred))\n",
        "sens = conf_mat[0,0] / (conf_mat[0,0] + conf_mat[0,1])\n",
        "spec = conf_mat[1,1] / (conf_mat[1,0] + conf_mat[1,1])\n",
        "\n",
        "print(\"Sensitivity: \", sens)\n",
        "print(\"Specificity: \", spec)\n",
        "\n",
        "#Visualizing Confusion Matrix\n",
        "f, ax = plt.subplots(figsize=(5,5))\n",
        "sns.heatmap(conf_mat,annot=True,fmt=\".0f\",ax=ax, cmap=plt.cm.GnBu)\n",
        "plt.xlabel(\"Predicted Values\")\n",
        "plt.ylabel(\"True Values\")\n",
        "plt.show()\n",
        "\n",
        "#ROC Plot\n",
        "y_probs = logreg.predict_proba(X_test)\n",
        "y_probs = y_probs[:, 1]\n",
        "log_auc = roc_auc_score(y_test,y_probs)\n",
        "auc_list.append((\"Logistic Regression\",log_auc))\n",
        "ns_fpr, ns_tpr, _ = roc_curve(y_test, y_probs, pos_label=3)\n",
        "\n",
        "# plot the roc curve for the model\n",
        "pyplot.plot(ns_fpr, ns_tpr, linestyle='--', label='Logistic Regression')\n",
        "\n",
        "# show the legend\n",
        "pyplot.legend()\n",
        "\n",
        "# show the plot\n",
        "pyplot.show()"
      ],
      "execution_count": 11,
      "outputs": [
        {
          "output_type": "stream",
          "text": [
            "Evaluation metrics of logistic regression classifier:  0.8409657357154504\n",
            "[[16781  7525]\n",
            " [ 6130 55426]]\n",
            "              precision    recall  f1-score   support\n",
            "\n",
            "         2.0       0.73      0.69      0.71     24306\n",
            "         3.0       0.88      0.90      0.89     61556\n",
            "\n",
            "    accuracy                           0.84     85862\n",
            "   macro avg       0.81      0.80      0.80     85862\n",
            "weighted avg       0.84      0.84      0.84     85862\n",
            "\n",
            "Sensitivity:  0.6904056611536247\n",
            "Specificity:  0.9004158814737799\n"
          ],
          "name": "stdout"
        },
        {
          "output_type": "display_data",
          "data": {
            "image/png": "[encoded data removed]",
            "text/plain": [
              "<Figure size 360x360 with 2 Axes>"
            ]
          },
          "metadata": {
            "tags": [],
            "needs_background": "light"
          }
        },
        {
          "output_type": "display_data",
          "data": {
            "image/png": "[encoded data removed]",
            "text/plain": [
              "<Figure size 432x288 with 1 Axes>"
            ]
          },
          "metadata": {
            "tags": [],
            "needs_background": "light"
          }
        }
      ]
    },
    {
      "cell_type": "markdown",
      "metadata": {
        "id": "eLk8QSr075Ql"
      },
      "source": [
        "# Naive Bayes"
      ]
    },
    {
      "cell_type": "code",
      "metadata": {
        "colab": {
          "base_uri": "https://localhost:8080/",
          "height": 820
        },
        "id": "b-wcAMyhyfzV",
        "outputId": "e9ec6848-ca5a-495e-d321-5a8582e14f11"
      },
      "source": [
        "naive_bayes = GaussianNB()\n",
        "naive_bayes.fit(X_test,y_test)\n",
        "score = naive_bayes.score(X_test,y_test)\n",
        "print(\"Naive Bayes Classification Score: {}\".format(score))\n",
        "\n",
        "performance['Model'].append('Naive Bayes')\n",
        "performance['Accuracy'].append(score)\n",
        "\n",
        "y_pred = naive_bayes.predict(X_test)\n",
        "conf_mat = confusion_matrix(y_test,y_pred)\n",
        "print(conf_mat)\n",
        "print(classification_report(y_test, y_pred))\n",
        "sens = conf_mat[0,0] / (conf_mat[0,0] + conf_mat[0,1])\n",
        "spec = conf_mat[1,1] / (conf_mat[1,0] + conf_mat[1,1])\n",
        "\n",
        "print(\"Sensitivity: \", sens)\n",
        "print(\"Specificity: \", spec)\n",
        "\n",
        "#Visualizing Confusion Matrix\n",
        "f, ax = plt.subplots(figsize=(5,5))\n",
        "sns.heatmap(conf_mat,annot=True,fmt=\".0f\",ax=ax, cmap=plt.cm.GnBu)\n",
        "plt.xlabel(\"Predicted Values\")\n",
        "plt.ylabel(\"True Values\")\n",
        "plt.show()\n",
        "\n",
        "y_probs = naive_bayes.predict_proba(X_test)\n",
        "y_probs = y_probs[:, 1]\n",
        "log_auc = roc_auc_score(y_test,y_probs)\n",
        "auc_list.append((\"Naive Bayes\",log_auc))\n",
        "ns_fpr, ns_tpr, _ = roc_curve(y_test, y_probs, pos_label=3)\n",
        "\n",
        "# plot the roc curve for the model\n",
        "pyplot.plot(ns_fpr, ns_tpr, linestyle='--', label='Naive Bayes')\n",
        "\n",
        "# show the legend\n",
        "pyplot.legend()\n",
        "\n",
        "# show the plot\n",
        "pyplot.show()"
      ],
      "execution_count": 12,
      "outputs": [
        {
          "output_type": "stream",
          "text": [
            "Naive Bayes Classification Score: 0.7581700868836039\n",
            "[[ 3545 20761]\n",
            " [    3 61553]]\n",
            "              precision    recall  f1-score   support\n",
            "\n",
            "         2.0       1.00      0.15      0.25     24306\n",
            "         3.0       0.75      1.00      0.86     61556\n",
            "\n",
            "    accuracy                           0.76     85862\n",
            "   macro avg       0.87      0.57      0.56     85862\n",
            "weighted avg       0.82      0.76      0.69     85862\n",
            "\n",
            "Sensitivity:  0.14584876162264462\n",
            "Specificity:  0.9999512638897914\n"
          ],
          "name": "stdout"
        },
        {
          "output_type": "display_data",
          "data": {
            "image/png": "[encoded data removed]",
            "text/plain": [
              "<Figure size 360x360 with 2 Axes>"
            ]
          },
          "metadata": {
            "tags": [],
            "needs_background": "light"
          }
        },
        {
          "output_type": "display_data",
          "data": {
            "image/png": "[encoded data removed]",
            "text/plain": [
              "<Figure size 432x288 with 1 Axes>"
            ]
          },
          "metadata": {
            "tags": [],
            "needs_background": "light"
          }
        }
      ]
    },
    {
      "cell_type": "markdown",
      "metadata": {
        "id": "RYINx0tzZlLj"
      },
      "source": [
        "# Decision Tree"
      ]
    },
    {
      "cell_type": "code",
      "metadata": {
        "colab": {
          "base_uri": "https://localhost:8080/",
          "height": 820
        },
        "id": "_KAnuGgLZk8W",
        "outputId": "c300e655-c029-43d6-d515-6f5b033327cd"
      },
      "source": [
        "\n",
        "dtc = DecisionTreeClassifier()\n",
        "dtc.fit(X_train, y_train)\n",
        " \n",
        "y_pred_new = dtc.predict(X_test)\n",
        "score = dtc.score(X_test,y_test)\n",
        "print(\"Evaluation metrics of decision tree classifier: \", score)\n",
        " \n",
        "performance['Model'].append('Decision Tree')\n",
        "performance['Accuracy'].append(score)\n",
        "\n",
        "cm = confusion_matrix(y_test, y_pred_new)\n",
        "print(cm)\n",
        "print(classification_report(y_test, y_pred_new))\n",
        "sens = cm[0,0] / (cm[0,0] + cm[0,1])\n",
        "spec = cm[1,1] / (cm[1,0] + cm[1,1])\n",
        "\n",
        "print(\"Sensitivity: \", sens)\n",
        "print(\"Specificity: \", spec)\n",
        "\n",
        "#Visualizing Confusion Matrix\n",
        "f, ax = plt.subplots(figsize=(5,5))\n",
        "sns.heatmap(cm,annot=True,fmt=\".0f\",ax=ax, cmap=plt.cm.GnBu)\n",
        "plt.xlabel(\"Predicted Values\")\n",
        "plt.ylabel(\"True Values\")\n",
        "plt.show()\n",
        "\n",
        "y_probs = dtc.predict_proba(X_test)\n",
        "y_probs = y_probs[:, 1]\n",
        "log_auc = roc_auc_score(y_test,y_probs)\n",
        "auc_list.append((\"Decision Tree\",log_auc))\n",
        "ns_fpr, ns_tpr, _ = roc_curve(y_test, y_probs, pos_label=3)\n",
        "\n",
        "# plot the roc curve for the model\n",
        "pyplot.plot(ns_fpr, ns_tpr, linestyle='--', label='Decision Tree')\n",
        "\n",
        "# show the legend\n",
        "pyplot.legend()\n",
        "\n",
        "# show the plot\n",
        "pyplot.show()"
      ],
      "execution_count": 13,
      "outputs": [
        {
          "output_type": "stream",
          "text": [
            "Evaluation metrics of decision tree classifier:  0.9092031399222007\n",
            "[[20504  3802]\n",
            " [ 3994 57562]]\n",
            "              precision    recall  f1-score   support\n",
            "\n",
            "         2.0       0.84      0.84      0.84     24306\n",
            "         3.0       0.94      0.94      0.94     61556\n",
            "\n",
            "    accuracy                           0.91     85862\n",
            "   macro avg       0.89      0.89      0.89     85862\n",
            "weighted avg       0.91      0.91      0.91     85862\n",
            "\n",
            "Sensitivity:  0.843577717436024\n",
            "Specificity:  0.9351159919422964\n"
          ],
          "name": "stdout"
        },
        {
          "output_type": "display_data",
          "data": {
            "image/png": "[encoded data removed]",
            "text/plain": [
              "<Figure size 360x360 with 2 Axes>"
            ]
          },
          "metadata": {
            "tags": [],
            "needs_background": "light"
          }
        },
        {
          "output_type": "display_data",
          "data": {
            "image/png": "[encoded data removed]",
            "text/plain": [
              "<Figure size 432x288 with 1 Axes>"
            ]
          },
          "metadata": {
            "tags": [],
            "needs_background": "light"
          }
        }
      ]
    },
    {
      "cell_type": "markdown",
      "metadata": {
        "id": "BqYHVE9w7u3P"
      },
      "source": [
        "# K-Nearest Neighbors"
      ]
    },
    {
      "cell_type": "code",
      "metadata": {
        "colab": {
          "base_uri": "https://localhost:8080/",
          "height": 820
        },
        "id": "eODcUdVK6ePr",
        "outputId": "94b44aed-78c2-4db8-ab59-de2709e40c77"
      },
      "source": [
        "\n",
        "\n",
        "knn = KNeighborsClassifier(n_neighbors=5)\n",
        "knn.fit(X_train,y_train)\n",
        "\n",
        "score = knn.score(X_test,y_test)\n",
        "print(\"Score for Number of Neighbors = 5: {}\".format(score))\n",
        "\n",
        "performance['Model'].append('KNN')\n",
        "performance['Accuracy'].append(score)\n",
        "\n",
        "y_pred = knn.predict(X_test)\n",
        "conf_mat = confusion_matrix(y_test,y_pred)\n",
        "print(conf_mat)\n",
        "print(classification_report(y_test, y_pred))\n",
        "sens = conf_mat[0,0] / (conf_mat[0,0] + conf_mat[0,1])\n",
        "spec = conf_mat[1,1] / (conf_mat[1,0] + conf_mat[1,1])\n",
        "\n",
        "print(\"Sensitivity: \", sens)\n",
        "print(\"Specificity: \", spec)\n",
        "\n",
        "#Visualizing Confusion Matrix\n",
        "f, ax = plt.subplots(figsize=(5,5))\n",
        "sns.heatmap(conf_mat,annot=True,fmt=\".0f\",ax=ax, cmap=plt.cm.GnBu)\n",
        "plt.xlabel(\"Predicted Values\")\n",
        "plt.ylabel(\"True Values\")\n",
        "plt.show()\n",
        "\n",
        "y_probs = knn.predict_proba(X_test)\n",
        "y_probs = y_probs[:, 1]\n",
        "log_auc = roc_auc_score(y_test,y_probs)\n",
        "auc_list.append((\"K-Nearest Neighbor\",log_auc))\n",
        "ns_fpr, ns_tpr, _ = roc_curve(y_test, y_probs, pos_label=3)\n",
        "\n",
        "# plot the roc curve for the model\n",
        "pyplot.plot(ns_fpr, ns_tpr, linestyle='--', label='KNN')\n",
        "\n",
        "# show the legend\n",
        "pyplot.legend()\n",
        "\n",
        "# show the plot\n",
        "pyplot.show()"
      ],
      "execution_count": 14,
      "outputs": [
        {
          "output_type": "stream",
          "text": [
            "Score for Number of Neighbors = 5: 0.8985814446437307\n",
            "[[19772  4534]\n",
            " [ 4174 57382]]\n",
            "              precision    recall  f1-score   support\n",
            "\n",
            "         2.0       0.83      0.81      0.82     24306\n",
            "         3.0       0.93      0.93      0.93     61556\n",
            "\n",
            "    accuracy                           0.90     85862\n",
            "   macro avg       0.88      0.87      0.87     85862\n",
            "weighted avg       0.90      0.90      0.90     85862\n",
            "\n",
            "Sensitivity:  0.8134616967004032\n",
            "Specificity:  0.9321918253297811\n"
          ],
          "name": "stdout"
        },
        {
          "output_type": "display_data",
          "data": {
            "image/png": "[encoded data removed]",
            "text/plain": [
              "<Figure size 360x360 with 2 Axes>"
            ]
          },
          "metadata": {
            "tags": [],
            "needs_background": "light"
          }
        },
        {
          "output_type": "display_data",
          "data": {
            "image/png": "[encoded data removed]",
            "text/plain": [
              "<Figure size 432x288 with 1 Axes>"
            ]
          },
          "metadata": {
            "tags": [],
            "needs_background": "light"
          }
        }
      ]
    },
    {
      "cell_type": "markdown",
      "metadata": {
        "id": "SV_BXo47eW1r"
      },
      "source": [
        "# Random Forest"
      ]
    },
    {
      "cell_type": "code",
      "metadata": {
        "colab": {
          "base_uri": "https://localhost:8080/",
          "height": 820
        },
        "id": "cZPIE6j2vXfo",
        "outputId": "31ef2e4e-48b8-4721-b79c-a812a91f111a"
      },
      "source": [
        "# Instantiate\n",
        "clf = RandomForestClassifier(n_estimators=100)\n",
        "\n",
        "clf.fit(X_train, y_train)\n",
        "\n",
        "# Import confusion_matrix\n",
        "from sklearn import metrics\n",
        "\n",
        "y_pred = clf.predict(X_test)\n",
        "\n",
        "score = metrics.accuracy_score(y_test, y_pred)\n",
        "\n",
        "print(\"Evaluation metrics of random forest classifier: \", score)\n",
        "\n",
        "conf_mat = confusion_matrix(y_test, y_pred)\n",
        "print(conf_mat)\n",
        "print(classification_report(y_test, y_pred))\n",
        "sens = conf_mat[0,0] / (conf_mat[0,0] + conf_mat[0,1])\n",
        "spec = conf_mat[1,1] / (conf_mat[1,0] + conf_mat[1,1])\n",
        "\n",
        "print(\"Sensitivity: \", sens)\n",
        "print(\"Specificity: \", spec)\n",
        "\n",
        "#Visualizing Confusion Matrix\n",
        "f, ax = plt.subplots(figsize=(5,5))\n",
        "sns.heatmap(metrics.confusion_matrix(y_test, y_pred),annot=True,fmt=\".0f\",ax=ax, cmap=plt.cm.GnBu)\n",
        "plt.xlabel(\"Predicted Values\")\n",
        "plt.ylabel(\"True Values\")\n",
        "plt.show()\n",
        "\n",
        "\n",
        "performance['Model'].append('Random Forest')\n",
        "performance['Accuracy'].append(score)\n",
        "\n",
        "\n",
        "\n",
        "y_probs = clf.predict_proba(X_test)\n",
        "y_probs = y_probs[:, 1]\n",
        "log_auc = roc_auc_score(y_test,y_probs)\n",
        "auc_list.append((\"Random Forest\",log_auc))\n",
        "ns_fpr, ns_tpr, _ = roc_curve(y_test, y_probs, pos_label=3)\n",
        "\n",
        "# plot the roc curve for the model\n",
        "pyplot.plot(ns_fpr, ns_tpr, linestyle='--', label='RandomForest')\n",
        "\n",
        "# show the legend\n",
        "pyplot.legend()\n",
        "\n",
        "# show the plot\n",
        "pyplot.show()"
      ],
      "execution_count": 15,
      "outputs": [
        {
          "output_type": "stream",
          "text": [
            "Evaluation metrics of random forest classifier:  0.9392862966154993\n",
            "[[21584  2722]\n",
            " [ 2491 59065]]\n",
            "              precision    recall  f1-score   support\n",
            "\n",
            "         2.0       0.90      0.89      0.89     24306\n",
            "         3.0       0.96      0.96      0.96     61556\n",
            "\n",
            "    accuracy                           0.94     85862\n",
            "   macro avg       0.93      0.92      0.92     85862\n",
            "weighted avg       0.94      0.94      0.94     85862\n",
            "\n",
            "Sensitivity:  0.8880111906525138\n",
            "Specificity:  0.9595327831568004\n"
          ],
          "name": "stdout"
        },
        {
          "output_type": "display_data",
          "data": {
            "image/png": "[encoded data removed]",
            "text/plain": [
              "<Figure size 360x360 with 2 Axes>"
            ]
          },
          "metadata": {
            "tags": [],
            "needs_background": "light"
          }
        },
        {
          "output_type": "display_data",
          "data": {
            "image/png": "[encoded data removed]",
            "text/plain": [
              "<Figure size 432x288 with 1 Axes>"
            ]
          },
          "metadata": {
            "tags": [],
            "needs_background": "light"
          }
        }
      ]
    },
    {
      "cell_type": "markdown",
      "metadata": {
        "id": "IT053QFL7j0q"
      },
      "source": [
        "# Artificial Neural Network"
      ]
    },
    {
      "cell_type": "code",
      "metadata": {
        "colab": {
          "base_uri": "https://localhost:8080/"
        },
        "id": "1xKYyppV6ePr",
        "outputId": "93258a92-88cb-45f4-c889-7d29c240ca56"
      },
      "source": [
        "\n",
        "def build_classifier():\n",
        "    classifier = Sequential() # initialize neural network\n",
        "    classifier.add(Dense(units = 50, kernel_initializer = 'uniform', activation = 'relu', input_dim = X_train.shape[1]))\n",
        "    classifier.add(Dense(units = 10, kernel_initializer = 'uniform', activation = 'relu'))\n",
        "    classifier.add(Dense(units = 1, kernel_initializer = 'uniform', activation = 'sigmoid'))\n",
        "    classifier.compile(optimizer = 'adam', loss = 'binary_crossentropy', metrics = ['accuracy'])\n",
        "    return classifier\n",
        "classifier = KerasClassifier(build_fn = build_classifier, epochs = 10)\n",
        "accuracies = cross_val_score(estimator = classifier, X = X_train, y = y_train, cv = 3)\n",
        "mean = accuracies.mean()\n",
        "variance = accuracies.std()\n",
        "performance['Model'].append('ANN')\n",
        "performance['Accuracy'].append(mean)\n",
        "print(\"Accuracy mean: \"+ str(mean))\n",
        "print(\"Accuracy variance: \"+ str(variance))"
      ],
      "execution_count": 16,
      "outputs": [
        {
          "output_type": "stream",
          "text": [
            "Epoch 1/10\n",
            "3632/3632 [==============================] - 5s 1ms/step - loss: 0.3784 - accuracy: 0.8209\n",
            "Epoch 2/10\n",
            "3632/3632 [==============================] - 5s 1ms/step - loss: 0.3522 - accuracy: 0.8327\n",
            "Epoch 3/10\n",
            "3632/3632 [==============================] - 5s 1ms/step - loss: 0.3484 - accuracy: 0.8331\n",
            "Epoch 4/10\n",
            "3632/3632 [==============================] - 5s 1ms/step - loss: 0.3451 - accuracy: 0.8356\n",
            "Epoch 5/10\n",
            "3632/3632 [==============================] - 5s 1ms/step - loss: 0.3426 - accuracy: 0.8361\n",
            "Epoch 6/10\n",
            "3632/3632 [==============================] - 5s 1ms/step - loss: 0.3396 - accuracy: 0.8384\n",
            "Epoch 7/10\n",
            "3632/3632 [==============================] - 5s 1ms/step - loss: 0.3372 - accuracy: 0.8396\n",
            "Epoch 8/10\n",
            "3632/3632 [==============================] - 5s 1ms/step - loss: 0.3352 - accuracy: 0.8412\n",
            "Epoch 9/10\n",
            "3632/3632 [==============================] - 5s 1ms/step - loss: 0.3312 - accuracy: 0.8417\n",
            "Epoch 10/10\n",
            "3632/3632 [==============================] - 5s 1ms/step - loss: 0.3227 - accuracy: 0.8473\n",
            "1816/1816 [==============================] - 2s 945us/step - loss: 0.3105 - accuracy: 0.8568\n",
            "Epoch 1/10\n",
            "3632/3632 [==============================] - 5s 1ms/step - loss: 0.3723 - accuracy: 0.8246\n",
            "Epoch 2/10\n",
            "3632/3632 [==============================] - 6s 2ms/step - loss: 0.2994 - accuracy: 0.8675\n",
            "Epoch 3/10\n",
            "3632/3632 [==============================] - 9s 2ms/step - loss: 0.2864 - accuracy: 0.8744\n",
            "Epoch 4/10\n",
            "3632/3632 [==============================] - 6s 2ms/step - loss: 0.2828 - accuracy: 0.8754\n",
            "Epoch 5/10\n",
            "3632/3632 [==============================] - 5s 1ms/step - loss: 0.2800 - accuracy: 0.8770\n",
            "Epoch 6/10\n",
            "3632/3632 [==============================] - 5s 1ms/step - loss: 0.2783 - accuracy: 0.8774\n",
            "Epoch 7/10\n",
            "3632/3632 [==============================] - 5s 1ms/step - loss: 0.2775 - accuracy: 0.8788\n",
            "Epoch 8/10\n",
            "3632/3632 [==============================] - 5s 1ms/step - loss: 0.2754 - accuracy: 0.8795\n",
            "Epoch 9/10\n",
            "3632/3632 [==============================] - 5s 1ms/step - loss: 0.2744 - accuracy: 0.8802\n",
            "Epoch 10/10\n",
            "3632/3632 [==============================] - 5s 1ms/step - loss: 0.2737 - accuracy: 0.8810\n",
            "1816/1816 [==============================] - 2s 931us/step - loss: 0.2654 - accuracy: 0.8855\n",
            "Epoch 1/10\n",
            "3632/3632 [==============================] - 5s 1ms/step - loss: 0.3899 - accuracy: 0.8153\n",
            "Epoch 2/10\n",
            "3632/3632 [==============================] - 5s 1ms/step - loss: 0.3404 - accuracy: 0.8440\n",
            "Epoch 3/10\n",
            "3632/3632 [==============================] - 5s 1ms/step - loss: 0.2977 - accuracy: 0.8684\n",
            "Epoch 4/10\n",
            "3632/3632 [==============================] - 4s 1ms/step - loss: 0.2872 - accuracy: 0.8722\n",
            "Epoch 5/10\n",
            "3632/3632 [==============================] - 4s 1ms/step - loss: 0.2834 - accuracy: 0.8748\n",
            "Epoch 6/10\n",
            "3632/3632 [==============================] - 5s 1ms/step - loss: 0.2814 - accuracy: 0.8761\n",
            "Epoch 7/10\n",
            "3632/3632 [==============================] - 5s 1ms/step - loss: 0.2795 - accuracy: 0.8776\n",
            "Epoch 8/10\n",
            "3632/3632 [==============================] - 4s 1ms/step - loss: 0.2784 - accuracy: 0.8775\n",
            "Epoch 9/10\n",
            "3632/3632 [==============================] - 5s 1ms/step - loss: 0.2769 - accuracy: 0.8791\n",
            "Epoch 10/10\n",
            "3632/3632 [==============================] - 5s 1ms/step - loss: 0.2762 - accuracy: 0.8793\n",
            "1816/1816 [==============================] - 2s 940us/step - loss: 0.2752 - accuracy: 0.8803\n",
            "Accuracy mean: 0.8741997679074606\n",
            "Accuracy variance: 0.012490320921387209\n"
          ],
          "name": "stdout"
        }
      ]
    },
    {
      "cell_type": "code",
      "metadata": {
        "id": "SFOcMRm_lhA7",
        "outputId": "e506b254-53d7-40c2-9077-85b4cef39667",
        "colab": {
          "base_uri": "https://localhost:8080/",
          "height": 302
        }
      },
      "source": [
        "#Complete ROC\n",
        "\n",
        "#Logistic Regression\n",
        "y_probs_log = logreg.predict_proba(X_test)\n",
        "y_probs_log = y_probs_log[:, 1]\n",
        "ns_fpr, ns_tpr, _ = roc_curve(y_test, y_probs_log, pos_label=3)\n",
        "\n",
        "#Naive Bayes\n",
        "y_probs_naive = naive_bayes.predict_proba(X_test)\n",
        "y_probs_naive = y_probs_naive[:, 1]\n",
        "ns_fpr_naive, ns_tpr_naive, _ = roc_curve(y_test, y_probs_naive, pos_label=3)\n",
        "\n",
        "#Decision Tree\n",
        "y_probs_tree = dtc.predict_proba(X_test)\n",
        "y_probs_tree = y_probs_tree[:, 1]\n",
        "ns_fpr_tree, ns_tpr_tree, _ = roc_curve(y_test, y_probs_tree, pos_label=3)\n",
        "\n",
        "#K-Nearest Neighbor\n",
        "y_probs_neighbor = knn.predict_proba(X_test)\n",
        "y_probs_neighbor = y_probs_neighbor[:, 1]\n",
        "ns_fpr_neighbor, ns_tpr_neighbor, _ = roc_curve(y_test, y_probs_neighbor, pos_label=3)\n",
        "\n",
        "#Random Forest\n",
        "y_probs_forest = clf.predict_proba(X_test)\n",
        "y_probs_forest = y_probs_forest[:, 1]\n",
        "ns_fpr_forest, ns_tpr_forest, _ = roc_curve(y_test, y_probs_forest, pos_label=3)\n",
        "\n",
        "# Display area under curve list\n",
        "print(auc_list)\n",
        "\n",
        "# plot the roc curve for the model\n",
        "pyplot.plot(ns_fpr, ns_tpr, linestyle='--', label='Logistic Regression')\n",
        "pyplot.plot(ns_fpr_naive, ns_tpr_naive, linestyle='dashed', label='Naive Bayes')\n",
        "pyplot.plot(ns_fpr_tree, ns_tpr_tree, linestyle='dotted', label='Decision Tree')\n",
        "pyplot.plot(ns_fpr_neighbor, ns_tpr_neighbor, linestyle='dashdot', label='K-Nearest Neighbor')\n",
        "pyplot.plot(ns_fpr_forest, ns_tpr_forest, linestyle='solid', label='Random Forest')\n",
        "\n",
        "# show the legend\n",
        "pyplot.legend()\n",
        "\n",
        "# show the plot\n",
        "pyplot.show()"
      ],
      "execution_count": 17,
      "outputs": [
        {
          "output_type": "stream",
          "text": [
            "[('Logistic Regression', 0.9098061063951994), ('Naive Bayes', 0.9010725503977686), ('Decision Tree', 0.8893468546891603), ('K-Nearest Neighbor', 0.9417081336655309), ('Random Forest', 0.9809211856826845)]\n"
          ],
          "name": "stdout"
        },
        {
          "output_type": "display_data",
          "data": {
            "image/png": "[encoded data removed]",
            "text/plain": [
              "<Figure size 432x288 with 1 Axes>"
            ]
          },
          "metadata": {
            "tags": [],
            "needs_background": "light"
          }
        }
      ]
    },
    {
      "cell_type": "code",
      "metadata": {
        "colab": {
          "base_uri": "https://localhost:8080/",
          "height": 356
        },
        "id": "9SOpTJMdxKvu",
        "outputId": "7defe87a-180a-4ad3-d59a-a9197f2c1623"
      },
      "source": [
        "import seaborn as sns\n",
        "dataFrame = pd.DataFrame(data=performance);\n",
        "\n",
        "# Draw a vertical bar chart\n",
        "sns.barplot(x=dataFrame['Model'],y=dataFrame['Accuracy'], data=dataFrame, order = dataFrame.sort_values('Accuracy').Model, palette='rocket')\n",
        "plt.xticks(rotation=40)"
      ],
      "execution_count": 25,
      "outputs": [
        {
          "output_type": "execute_result",
          "data": {
            "text/plain": [
              "(array([0, 1, 2, 3, 4, 5]), <a list of 6 Text major ticklabel objects>)"
            ]
          },
          "metadata": {
            "tags": []
          },
          "execution_count": 25
        },
        {
          "output_type": "display_data",
          "data": {
            "image/png": "[encoded data removed]",
            "text/plain": [
              "<Figure size 432x288 with 1 Axes>"
            ]
          },
          "metadata": {
            "tags": [],
            "needs_background": "light"
          }
        }
      ]
    }
  ]
}