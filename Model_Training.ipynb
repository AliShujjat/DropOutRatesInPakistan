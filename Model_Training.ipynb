{
  "nbformat": 4,
  "nbformat_minor": 0,
  "metadata": {
    "colab": {
      "name": "Model Training.ipynb",
      "provenance": [],
      "include_colab_link": true
    },
    "kernelspec": {
      "display_name": "Python 3",
      "language": "python",
      "name": "python3"
    },
    "language_info": {
      "codemirror_mode": {
        "name": "ipython",
        "version": 3
      },
      "file_extension": ".py",
      "mimetype": "text/x-python",
      "name": "python",
      "nbconvert_exporter": "python",
      "pygments_lexer": "ipython3",
      "version": "3.7.1"
    }
  },
  "cells": [
    {
      "cell_type": "markdown",
      "metadata": {
        "id": "view-in-github",
        "colab_type": "text"
      },
      "source": [
        "<a href=\"https://colab.research.google.com/github/AliShujjat/DSProject/blob/main/Model_Training.ipynb\" target=\"_parent\"><img src=\"https://colab.research.google.com/assets/colab-badge.svg\" alt=\"Open In Colab\"/></a>"
      ]
    },
    {
      "cell_type": "code",
      "metadata": {
        "colab": {
          "base_uri": "https://localhost:8080/"
        },
        "id": "gpGdj1h0tkwf",
        "outputId": "03cdad28-5e75-4ffa-b1fb-3f61b6f62b44"
      },
      "source": [
        "#Retrieving the data from Google Drive\n",
        "from google.colab import drive\n",
        "drive.mount('/content/drive')\n",
        "!cp \"/content/drive/My Drive/Edu/Edu2.csv\" \"Edu2.csv\""
      ],
      "execution_count": 145,
      "outputs": [
        {
          "output_type": "stream",
          "text": [
            "Drive already mounted at /content/drive; to attempt to forcibly remount, call drive.mount(\"/content/drive\", force_remount=True).\n"
          ],
          "name": "stdout"
        }
      ]
    },
    {
      "cell_type": "code",
      "metadata": {
        "id": "qjXqkO_8uCfl"
      },
      "source": [
        "#Importing the libraries\n",
        "import numpy as np\n",
        "import pandas as pd\n",
        "import seaborn as sns\n",
        "import matplotlib.pyplot as plt\n",
        "from sklearn.metrics import roc_curve, auc\n",
        "from sklearn.feature_selection import SelectKBest\n",
        "from sklearn.feature_selection import chi2\n",
        "from sklearn.feature_selection import mutual_info_classif\n",
        "from sklearn.model_selection import train_test_split\n",
        "from sklearn.linear_model import LogisticRegression\n",
        "from sklearn.ensemble import RandomForestClassifier\n",
        "from sklearn.svm import SVC\n",
        "from sklearn.neighbors import KNeighborsClassifier\n",
        "from sklearn.tree import DecisionTreeClassifier\n",
        "from sklearn.metrics import confusion_matrix, classification_report\n",
        "from sklearn.naive_bayes import GaussianNB\n",
        "from sklearn.preprocessing import MinMaxScaler\n",
        "from sklearn.metrics import precision_recall_curve\n",
        "from sklearn.metrics import plot_precision_recall_curve\n",
        "from matplotlib import pyplot\n",
        "\n",
        "from keras.wrappers.scikit_learn import KerasClassifier\n",
        "from sklearn.model_selection import cross_val_score\n",
        "from keras.models import Sequential # initialize neural network library\n",
        "from keras.layers import Dense # build our layers library"
      ],
      "execution_count": 146,
      "outputs": []
    },
    {
      "cell_type": "code",
      "metadata": {
        "id": "FGq4qPLjuUbb"
      },
      "source": [
        "df = pd.read_csv('Edu2.csv')"
      ],
      "execution_count": 147,
      "outputs": []
    },
    {
      "cell_type": "code",
      "metadata": {
        "id": "zj4QrFtpu8Iz"
      },
      "source": [
        "performance = {\"Model\":[], \"Accuracy\":[]};"
      ],
      "execution_count": 148,
      "outputs": []
    },
    {
      "cell_type": "markdown",
      "metadata": {
        "id": "zn5Alu3f8ADc"
      },
      "source": [
        "# Preprocessing"
      ]
    },
    {
      "cell_type": "code",
      "metadata": {
        "colab": {
          "base_uri": "https://localhost:8080/",
          "height": 326
        },
        "id": "s9ZEQA6lujRV",
        "outputId": "0c77db4d-9dee-4b57-c4ed-c83fa90f6d39"
      },
      "source": [
        "df.head()"
      ],
      "execution_count": 149,
      "outputs": [
        {
          "output_type": "execute_result",
          "data": {
            "text/html": [
              "<div>\n",
              "<style scoped>\n",
              "    .dataframe tbody tr th:only-of-type {\n",
              "        vertical-align: middle;\n",
              "    }\n",
              "\n",
              "    .dataframe tbody tr th {\n",
              "        vertical-align: top;\n",
              "    }\n",
              "\n",
              "    .dataframe thead th {\n",
              "        text-align: right;\n",
              "    }\n",
              "</style>\n",
              "<table border=\"1\" class=\"dataframe\">\n",
              "  <thead>\n",
              "    <tr style=\"text-align: right;\">\n",
              "      <th></th>\n",
              "      <th>Unnamed: 0</th>\n",
              "      <th>If Drop-out, studied up-to which\\nclass</th>\n",
              "      <th>Education Status of Child</th>\n",
              "      <th>Edu status</th>\n",
              "      <th>Reasons for Dropout</th>\n",
              "      <th>Age of Child</th>\n",
              "      <th>Reasons for dropout</th>\n",
              "      <th>C013</th>\n",
              "      <th>Age of father (completed years)</th>\n",
              "      <th>C010</th>\n",
              "      <th>HCOUNTER</th>\n",
              "      <th>Age of mother (completed years)</th>\n",
              "      <th>Arithmetic Levels</th>\n",
              "      <th>Total number of surviving children (LESS THAN 17) of mother</th>\n",
              "      <th>WSCORE</th>\n",
              "      <th>H001M</th>\n",
              "      <th>H001F</th>\n",
              "      <th>Gender of Child</th>\n",
              "      <th>DID</th>\n",
              "      <th>Gender</th>\n",
              "      <th>C012a</th>\n",
              "      <th>Unique ID of government school</th>\n",
              "      <th>Name of the District</th>\n",
              "      <th>GS007P</th>\n",
              "      <th>GS003Y</th>\n",
              "      <th>Local Language of the Village</th>\n",
              "      <th>GS007E</th>\n",
              "      <th>H010</th>\n",
              "      <th>WINDEX/Economic Profile</th>\n",
              "      <th>Windex</th>\n",
              "      <th>V007</th>\n",
              "    </tr>\n",
              "  </thead>\n",
              "  <tbody>\n",
              "    <tr>\n",
              "      <th>0</th>\n",
              "      <td>0</td>\n",
              "      <td>19</td>\n",
              "      <td>1.0</td>\n",
              "      <td>2</td>\n",
              "      <td>2.0</td>\n",
              "      <td>3.0</td>\n",
              "      <td>5</td>\n",
              "      <td>1.0</td>\n",
              "      <td>40.0</td>\n",
              "      <td>5.0</td>\n",
              "      <td>1.0</td>\n",
              "      <td>36.0</td>\n",
              "      <td>6.0</td>\n",
              "      <td>4.0</td>\n",
              "      <td>-0.023974</td>\n",
              "      <td>5.0</td>\n",
              "      <td>1.0</td>\n",
              "      <td>0.0</td>\n",
              "      <td>132</td>\n",
              "      <td>1</td>\n",
              "      <td>1.0</td>\n",
              "      <td>4792.0</td>\n",
              "      <td>113</td>\n",
              "      <td>50.0</td>\n",
              "      <td>1977.0</td>\n",
              "      <td>128</td>\n",
              "      <td>54.0</td>\n",
              "      <td>0.0</td>\n",
              "      <td>2.0</td>\n",
              "      <td>0</td>\n",
              "      <td>2.0</td>\n",
              "    </tr>\n",
              "    <tr>\n",
              "      <th>1</th>\n",
              "      <td>1</td>\n",
              "      <td>19</td>\n",
              "      <td>3.0</td>\n",
              "      <td>0</td>\n",
              "      <td>2.0</td>\n",
              "      <td>5.0</td>\n",
              "      <td>5</td>\n",
              "      <td>4.0</td>\n",
              "      <td>35.0</td>\n",
              "      <td>3.0</td>\n",
              "      <td>3.0</td>\n",
              "      <td>30.0</td>\n",
              "      <td>6.0</td>\n",
              "      <td>2.0</td>\n",
              "      <td>0.706430</td>\n",
              "      <td>2.0</td>\n",
              "      <td>2.0</td>\n",
              "      <td>1.0</td>\n",
              "      <td>132</td>\n",
              "      <td>0</td>\n",
              "      <td>1.0</td>\n",
              "      <td>4792.0</td>\n",
              "      <td>113</td>\n",
              "      <td>50.0</td>\n",
              "      <td>1977.0</td>\n",
              "      <td>128</td>\n",
              "      <td>54.0</td>\n",
              "      <td>0.0</td>\n",
              "      <td>3.0</td>\n",
              "      <td>2</td>\n",
              "      <td>2.0</td>\n",
              "    </tr>\n",
              "    <tr>\n",
              "      <th>2</th>\n",
              "      <td>2</td>\n",
              "      <td>19</td>\n",
              "      <td>3.0</td>\n",
              "      <td>0</td>\n",
              "      <td>2.0</td>\n",
              "      <td>5.0</td>\n",
              "      <td>5</td>\n",
              "      <td>3.0</td>\n",
              "      <td>70.0</td>\n",
              "      <td>2.0</td>\n",
              "      <td>2.0</td>\n",
              "      <td>65.0</td>\n",
              "      <td>3.0</td>\n",
              "      <td>3.0</td>\n",
              "      <td>0.706430</td>\n",
              "      <td>6.0</td>\n",
              "      <td>3.0</td>\n",
              "      <td>1.0</td>\n",
              "      <td>132</td>\n",
              "      <td>0</td>\n",
              "      <td>0.0</td>\n",
              "      <td>4792.0</td>\n",
              "      <td>113</td>\n",
              "      <td>50.0</td>\n",
              "      <td>1977.0</td>\n",
              "      <td>128</td>\n",
              "      <td>54.0</td>\n",
              "      <td>0.0</td>\n",
              "      <td>3.0</td>\n",
              "      <td>2</td>\n",
              "      <td>2.0</td>\n",
              "    </tr>\n",
              "    <tr>\n",
              "      <th>3</th>\n",
              "      <td>3</td>\n",
              "      <td>19</td>\n",
              "      <td>3.0</td>\n",
              "      <td>0</td>\n",
              "      <td>2.0</td>\n",
              "      <td>10.0</td>\n",
              "      <td>5</td>\n",
              "      <td>5.0</td>\n",
              "      <td>50.0</td>\n",
              "      <td>5.0</td>\n",
              "      <td>8.0</td>\n",
              "      <td>45.0</td>\n",
              "      <td>6.0</td>\n",
              "      <td>3.0</td>\n",
              "      <td>0.916803</td>\n",
              "      <td>2.0</td>\n",
              "      <td>3.0</td>\n",
              "      <td>0.0</td>\n",
              "      <td>132</td>\n",
              "      <td>1</td>\n",
              "      <td>1.0</td>\n",
              "      <td>4792.0</td>\n",
              "      <td>113</td>\n",
              "      <td>50.0</td>\n",
              "      <td>1977.0</td>\n",
              "      <td>128</td>\n",
              "      <td>54.0</td>\n",
              "      <td>1.0</td>\n",
              "      <td>4.0</td>\n",
              "      <td>3</td>\n",
              "      <td>2.0</td>\n",
              "    </tr>\n",
              "    <tr>\n",
              "      <th>4</th>\n",
              "      <td>4</td>\n",
              "      <td>19</td>\n",
              "      <td>3.0</td>\n",
              "      <td>0</td>\n",
              "      <td>2.0</td>\n",
              "      <td>4.0</td>\n",
              "      <td>5</td>\n",
              "      <td>1.0</td>\n",
              "      <td>40.0</td>\n",
              "      <td>5.0</td>\n",
              "      <td>20.0</td>\n",
              "      <td>30.0</td>\n",
              "      <td>6.0</td>\n",
              "      <td>3.0</td>\n",
              "      <td>-0.185241</td>\n",
              "      <td>3.0</td>\n",
              "      <td>2.0</td>\n",
              "      <td>0.0</td>\n",
              "      <td>132</td>\n",
              "      <td>1</td>\n",
              "      <td>1.0</td>\n",
              "      <td>4792.0</td>\n",
              "      <td>113</td>\n",
              "      <td>50.0</td>\n",
              "      <td>1977.0</td>\n",
              "      <td>128</td>\n",
              "      <td>54.0</td>\n",
              "      <td>0.0</td>\n",
              "      <td>2.0</td>\n",
              "      <td>0</td>\n",
              "      <td>2.0</td>\n",
              "    </tr>\n",
              "  </tbody>\n",
              "</table>\n",
              "</div>"
            ],
            "text/plain": [
              "   Unnamed: 0  If Drop-out, studied up-to which\\nclass  ...  Windex  V007\n",
              "0           0                                       19  ...       0   2.0\n",
              "1           1                                       19  ...       2   2.0\n",
              "2           2                                       19  ...       2   2.0\n",
              "3           3                                       19  ...       3   2.0\n",
              "4           4                                       19  ...       0   2.0\n",
              "\n",
              "[5 rows x 31 columns]"
            ]
          },
          "metadata": {
            "tags": []
          },
          "execution_count": 149
        }
      ]
    },
    {
      "cell_type": "code",
      "metadata": {
        "colab": {
          "base_uri": "https://localhost:8080/",
          "height": 326
        },
        "id": "ey28l0evXzuz",
        "outputId": "040229ef-baf3-4e55-8c18-c0be04d37f7e"
      },
      "source": [
        "cols = list(df.columns.values) #Make a list of all of the columns in the df\n",
        "cols.pop(cols.index('Education Status of Child')) #Remove b from list\n",
        "cols.pop(cols.index('Edu status')) #Remove x from list\n",
        "df = df[cols+['Education Status of Child','Edu status']] #Create new dataframe with columns in the order you want\n",
        "df.drop('Edu status', inplace=True, axis=1)\n",
        "df[\"Education Status of Child\"].replace({1: 2}, inplace=True)\n",
        "df.head()"
      ],
      "execution_count": 150,
      "outputs": [
        {
          "output_type": "execute_result",
          "data": {
            "text/html": [
              "<div>\n",
              "<style scoped>\n",
              "    .dataframe tbody tr th:only-of-type {\n",
              "        vertical-align: middle;\n",
              "    }\n",
              "\n",
              "    .dataframe tbody tr th {\n",
              "        vertical-align: top;\n",
              "    }\n",
              "\n",
              "    .dataframe thead th {\n",
              "        text-align: right;\n",
              "    }\n",
              "</style>\n",
              "<table border=\"1\" class=\"dataframe\">\n",
              "  <thead>\n",
              "    <tr style=\"text-align: right;\">\n",
              "      <th></th>\n",
              "      <th>Unnamed: 0</th>\n",
              "      <th>If Drop-out, studied up-to which\\nclass</th>\n",
              "      <th>Reasons for Dropout</th>\n",
              "      <th>Age of Child</th>\n",
              "      <th>Reasons for dropout</th>\n",
              "      <th>C013</th>\n",
              "      <th>Age of father (completed years)</th>\n",
              "      <th>C010</th>\n",
              "      <th>HCOUNTER</th>\n",
              "      <th>Age of mother (completed years)</th>\n",
              "      <th>Arithmetic Levels</th>\n",
              "      <th>Total number of surviving children (LESS THAN 17) of mother</th>\n",
              "      <th>WSCORE</th>\n",
              "      <th>H001M</th>\n",
              "      <th>H001F</th>\n",
              "      <th>Gender of Child</th>\n",
              "      <th>DID</th>\n",
              "      <th>Gender</th>\n",
              "      <th>C012a</th>\n",
              "      <th>Unique ID of government school</th>\n",
              "      <th>Name of the District</th>\n",
              "      <th>GS007P</th>\n",
              "      <th>GS003Y</th>\n",
              "      <th>Local Language of the Village</th>\n",
              "      <th>GS007E</th>\n",
              "      <th>H010</th>\n",
              "      <th>WINDEX/Economic Profile</th>\n",
              "      <th>Windex</th>\n",
              "      <th>V007</th>\n",
              "      <th>Education Status of Child</th>\n",
              "    </tr>\n",
              "  </thead>\n",
              "  <tbody>\n",
              "    <tr>\n",
              "      <th>0</th>\n",
              "      <td>0</td>\n",
              "      <td>19</td>\n",
              "      <td>2.0</td>\n",
              "      <td>3.0</td>\n",
              "      <td>5</td>\n",
              "      <td>1.0</td>\n",
              "      <td>40.0</td>\n",
              "      <td>5.0</td>\n",
              "      <td>1.0</td>\n",
              "      <td>36.0</td>\n",
              "      <td>6.0</td>\n",
              "      <td>4.0</td>\n",
              "      <td>-0.023974</td>\n",
              "      <td>5.0</td>\n",
              "      <td>1.0</td>\n",
              "      <td>0.0</td>\n",
              "      <td>132</td>\n",
              "      <td>1</td>\n",
              "      <td>1.0</td>\n",
              "      <td>4792.0</td>\n",
              "      <td>113</td>\n",
              "      <td>50.0</td>\n",
              "      <td>1977.0</td>\n",
              "      <td>128</td>\n",
              "      <td>54.0</td>\n",
              "      <td>0.0</td>\n",
              "      <td>2.0</td>\n",
              "      <td>0</td>\n",
              "      <td>2.0</td>\n",
              "      <td>2.0</td>\n",
              "    </tr>\n",
              "    <tr>\n",
              "      <th>1</th>\n",
              "      <td>1</td>\n",
              "      <td>19</td>\n",
              "      <td>2.0</td>\n",
              "      <td>5.0</td>\n",
              "      <td>5</td>\n",
              "      <td>4.0</td>\n",
              "      <td>35.0</td>\n",
              "      <td>3.0</td>\n",
              "      <td>3.0</td>\n",
              "      <td>30.0</td>\n",
              "      <td>6.0</td>\n",
              "      <td>2.0</td>\n",
              "      <td>0.706430</td>\n",
              "      <td>2.0</td>\n",
              "      <td>2.0</td>\n",
              "      <td>1.0</td>\n",
              "      <td>132</td>\n",
              "      <td>0</td>\n",
              "      <td>1.0</td>\n",
              "      <td>4792.0</td>\n",
              "      <td>113</td>\n",
              "      <td>50.0</td>\n",
              "      <td>1977.0</td>\n",
              "      <td>128</td>\n",
              "      <td>54.0</td>\n",
              "      <td>0.0</td>\n",
              "      <td>3.0</td>\n",
              "      <td>2</td>\n",
              "      <td>2.0</td>\n",
              "      <td>3.0</td>\n",
              "    </tr>\n",
              "    <tr>\n",
              "      <th>2</th>\n",
              "      <td>2</td>\n",
              "      <td>19</td>\n",
              "      <td>2.0</td>\n",
              "      <td>5.0</td>\n",
              "      <td>5</td>\n",
              "      <td>3.0</td>\n",
              "      <td>70.0</td>\n",
              "      <td>2.0</td>\n",
              "      <td>2.0</td>\n",
              "      <td>65.0</td>\n",
              "      <td>3.0</td>\n",
              "      <td>3.0</td>\n",
              "      <td>0.706430</td>\n",
              "      <td>6.0</td>\n",
              "      <td>3.0</td>\n",
              "      <td>1.0</td>\n",
              "      <td>132</td>\n",
              "      <td>0</td>\n",
              "      <td>0.0</td>\n",
              "      <td>4792.0</td>\n",
              "      <td>113</td>\n",
              "      <td>50.0</td>\n",
              "      <td>1977.0</td>\n",
              "      <td>128</td>\n",
              "      <td>54.0</td>\n",
              "      <td>0.0</td>\n",
              "      <td>3.0</td>\n",
              "      <td>2</td>\n",
              "      <td>2.0</td>\n",
              "      <td>3.0</td>\n",
              "    </tr>\n",
              "    <tr>\n",
              "      <th>3</th>\n",
              "      <td>3</td>\n",
              "      <td>19</td>\n",
              "      <td>2.0</td>\n",
              "      <td>10.0</td>\n",
              "      <td>5</td>\n",
              "      <td>5.0</td>\n",
              "      <td>50.0</td>\n",
              "      <td>5.0</td>\n",
              "      <td>8.0</td>\n",
              "      <td>45.0</td>\n",
              "      <td>6.0</td>\n",
              "      <td>3.0</td>\n",
              "      <td>0.916803</td>\n",
              "      <td>2.0</td>\n",
              "      <td>3.0</td>\n",
              "      <td>0.0</td>\n",
              "      <td>132</td>\n",
              "      <td>1</td>\n",
              "      <td>1.0</td>\n",
              "      <td>4792.0</td>\n",
              "      <td>113</td>\n",
              "      <td>50.0</td>\n",
              "      <td>1977.0</td>\n",
              "      <td>128</td>\n",
              "      <td>54.0</td>\n",
              "      <td>1.0</td>\n",
              "      <td>4.0</td>\n",
              "      <td>3</td>\n",
              "      <td>2.0</td>\n",
              "      <td>3.0</td>\n",
              "    </tr>\n",
              "    <tr>\n",
              "      <th>4</th>\n",
              "      <td>4</td>\n",
              "      <td>19</td>\n",
              "      <td>2.0</td>\n",
              "      <td>4.0</td>\n",
              "      <td>5</td>\n",
              "      <td>1.0</td>\n",
              "      <td>40.0</td>\n",
              "      <td>5.0</td>\n",
              "      <td>20.0</td>\n",
              "      <td>30.0</td>\n",
              "      <td>6.0</td>\n",
              "      <td>3.0</td>\n",
              "      <td>-0.185241</td>\n",
              "      <td>3.0</td>\n",
              "      <td>2.0</td>\n",
              "      <td>0.0</td>\n",
              "      <td>132</td>\n",
              "      <td>1</td>\n",
              "      <td>1.0</td>\n",
              "      <td>4792.0</td>\n",
              "      <td>113</td>\n",
              "      <td>50.0</td>\n",
              "      <td>1977.0</td>\n",
              "      <td>128</td>\n",
              "      <td>54.0</td>\n",
              "      <td>0.0</td>\n",
              "      <td>2.0</td>\n",
              "      <td>0</td>\n",
              "      <td>2.0</td>\n",
              "      <td>3.0</td>\n",
              "    </tr>\n",
              "  </tbody>\n",
              "</table>\n",
              "</div>"
            ],
            "text/plain": [
              "   Unnamed: 0  ...  Education Status of Child\n",
              "0           0  ...                        2.0\n",
              "1           1  ...                        3.0\n",
              "2           2  ...                        3.0\n",
              "3           3  ...                        3.0\n",
              "4           4  ...                        3.0\n",
              "\n",
              "[5 rows x 30 columns]"
            ]
          },
          "metadata": {
            "tags": []
          },
          "execution_count": 150
        }
      ]
    },
    {
      "cell_type": "code",
      "metadata": {
        "colab": {
          "base_uri": "https://localhost:8080/"
        },
        "id": "8_yVTkZ4v_2E",
        "outputId": "9411ab22-1afe-4b31-d0e1-7b81b368ee21"
      },
      "source": [
        "len(df.columns)"
      ],
      "execution_count": 151,
      "outputs": [
        {
          "output_type": "execute_result",
          "data": {
            "text/plain": [
              "30"
            ]
          },
          "metadata": {
            "tags": []
          },
          "execution_count": 151
        }
      ]
    },
    {
      "cell_type": "code",
      "metadata": {
        "id": "GQnSzOaBuvDC"
      },
      "source": [
        "df = df.values"
      ],
      "execution_count": 152,
      "outputs": []
    },
    {
      "cell_type": "code",
      "metadata": {
        "colab": {
          "base_uri": "https://localhost:8080/"
        },
        "id": "L4-8xQHnZExb",
        "outputId": "27cfabe0-a269-47d4-d539-a7d0d95d02bf"
      },
      "source": [
        "print(X.shape)"
      ],
      "execution_count": 153,
      "outputs": [
        {
          "output_type": "stream",
          "text": [
            "(260186, 29)\n"
          ],
          "name": "stdout"
        }
      ]
    },
    {
      "cell_type": "code",
      "metadata": {
        "id": "Goez4hEVuW6R",
        "colab": {
          "base_uri": "https://localhost:8080/",
          "height": 238
        },
        "outputId": "6c5cb350-1e09-469f-b4c5-43d0e12bd221"
      },
      "source": [
        "\n",
        "#Normalization\n",
        "scaler = MinMaxScaler(feature_range=(0,1))\n",
        "newX = scaler.fit_transform(X)\n",
        "scaler.transform(newX)\n",
        "\n",
        "display(newX)\n",
        "\n",
        "#split into source and target\n",
        "X, y = df[:,:-1], df[:,-1]\n",
        "\n",
        "#Train Test Split\n",
        "X_train, X_test, y_train, y_test = train_test_split(newX, y, test_size=0.33)"
      ],
      "execution_count": 154,
      "outputs": [
        {
          "output_type": "display_data",
          "data": {
            "text/plain": [
              "array([[0.00000000e+00, 6.55172414e-01, 1.66666667e-01, ...,\n",
              "        3.33333333e-01, 0.00000000e+00, 4.00000000e-01],\n",
              "       [3.84341911e-06, 6.55172414e-01, 1.66666667e-01, ...,\n",
              "        6.66666667e-01, 6.66666667e-01, 4.00000000e-01],\n",
              "       [7.68683821e-06, 6.55172414e-01, 1.66666667e-01, ...,\n",
              "        6.66666667e-01, 6.66666667e-01, 4.00000000e-01],\n",
              "       ...,\n",
              "       [9.99992313e-01, 6.55172414e-01, 1.66666667e-01, ...,\n",
              "        0.00000000e+00, 3.33333333e-01, 0.00000000e+00],\n",
              "       [9.99996157e-01, 6.55172414e-01, 1.66666667e-01, ...,\n",
              "        0.00000000e+00, 3.33333333e-01, 0.00000000e+00],\n",
              "       [1.00000000e+00, 6.55172414e-01, 1.66666667e-01, ...,\n",
              "        0.00000000e+00, 3.33333333e-01, 0.00000000e+00]])"
            ]
          },
          "metadata": {
            "tags": []
          }
        }
      ]
    },
    {
      "cell_type": "markdown",
      "metadata": {
        "id": "xhWXf6D0789A"
      },
      "source": [
        "# Logistic Regression"
      ]
    },
    {
      "cell_type": "code",
      "metadata": {
        "colab": {
          "base_uri": "https://localhost:8080/"
        },
        "id": "43Ie5pVAwrsf",
        "outputId": "becc8a7d-bfb2-408c-8b4e-d57930d9bedc"
      },
      "source": [
        "logreg = LogisticRegression(max_iter=1000)\n",
        "logreg.fit(X_train,y_train)"
      ],
      "execution_count": 155,
      "outputs": [
        {
          "output_type": "execute_result",
          "data": {
            "text/plain": [
              "LogisticRegression(C=1.0, class_weight=None, dual=False, fit_intercept=True,\n",
              "                   intercept_scaling=1, l1_ratio=None, max_iter=1000,\n",
              "                   multi_class='auto', n_jobs=None, penalty='l2',\n",
              "                   random_state=None, solver='lbfgs', tol=0.0001, verbose=0,\n",
              "                   warm_start=False)"
            ]
          },
          "metadata": {
            "tags": []
          },
          "execution_count": 155
        }
      ]
    },
    {
      "cell_type": "code",
      "metadata": {
        "colab": {
          "base_uri": "https://localhost:8080/",
          "height": 786
        },
        "id": "1vd5otW-yYmO",
        "outputId": "0ad18c8e-6573-459a-877e-04c5895a85ed"
      },
      "source": [
        "y_pred = logreg.predict(X_test)\n",
        "\n",
        "#Evaluate\n",
        "score = logreg.score(X_test, y_test)\n",
        "print(\"Evaluation metrics of logistic regression classifier: \", score)\n",
        "performance['Model'].append('Logistic Regression')\n",
        "performance['Accuracy'].append(score)\n",
        "conf_mat = confusion_matrix(y_test,y_pred)\n",
        "print(conf_mat)\n",
        "print(classification_report(y_test, y_pred))\n",
        "\n",
        "#Visualizing Confusion Matrix\n",
        "f, ax = plt.subplots(figsize=(5,5))\n",
        "sns.heatmap(conf_mat,annot=True,fmt=\".0f\",ax=ax, cmap=plt.cm.GnBu)\n",
        "plt.xlabel(\"Predicted Values\")\n",
        "plt.ylabel(\"True Values\")\n",
        "plt.show()\n",
        "\n",
        "#ROC Plot\n",
        "y_probs = logreg.predict_proba(X_test)\n",
        "y_probs = y_probs[:, 1]\n",
        "ns_fpr, ns_tpr, _ = roc_curve(y_test, y_probs, pos_label=3)\n",
        "\n",
        "# plot the roc curve for the model\n",
        "pyplot.plot(ns_fpr, ns_tpr, linestyle='--', label='RandomForest')\n",
        "\n",
        "# show the legend\n",
        "pyplot.legend()\n",
        "\n",
        "# show the plot\n",
        "pyplot.show()"
      ],
      "execution_count": 156,
      "outputs": [
        {
          "output_type": "stream",
          "text": [
            "Evaluation metrics of logistic regression classifier:  0.8410938482681513\n",
            "[[16751  7446]\n",
            " [ 6198 55467]]\n",
            "              precision    recall  f1-score   support\n",
            "\n",
            "         2.0       0.73      0.69      0.71     24197\n",
            "         3.0       0.88      0.90      0.89     61665\n",
            "\n",
            "    accuracy                           0.84     85862\n",
            "   macro avg       0.81      0.80      0.80     85862\n",
            "weighted avg       0.84      0.84      0.84     85862\n",
            "\n"
          ],
          "name": "stdout"
        },
        {
          "output_type": "display_data",
          "data": {
            "image/png": "[encoded data removed]",
            "text/plain": [
              "<Figure size 360x360 with 2 Axes>"
            ]
          },
          "metadata": {
            "tags": [],
            "needs_background": "light"
          }
        },
        {
          "output_type": "display_data",
          "data": {
            "image/png": "[encoded data removed]",
            "text/plain": [
              "<Figure size 432x288 with 1 Axes>"
            ]
          },
          "metadata": {
            "tags": [],
            "needs_background": "light"
          }
        }
      ]
    },
    {
      "cell_type": "markdown",
      "metadata": {
        "id": "eLk8QSr075Ql"
      },
      "source": [
        "# Naive Bayes"
      ]
    },
    {
      "cell_type": "code",
      "metadata": {
        "colab": {
          "base_uri": "https://localhost:8080/",
          "height": 599
        },
        "id": "b-wcAMyhyfzV",
        "outputId": "1f378158-8aec-4f4a-bbde-cae364c4d6df"
      },
      "source": [
        "naive_bayes = GaussianNB()\n",
        "naive_bayes.fit(X_test,y_test)\n",
        "score = naive_bayes.score(X_test,y_test)\n",
        "print(\"Naive Bayes Classification Score: {}\".format(score))\n",
        "\n",
        "performance['Model'].append('Naive Bayes')\n",
        "performance['Accuracy'].append(score)\n",
        "\n",
        "y_pred = naive_bayes.predict(X_test)\n",
        "conf_mat = confusion_matrix(y_test,y_pred)\n",
        "\n",
        "#Visualizing Confusion Matrix\n",
        "f, ax = plt.subplots(figsize=(5,5))\n",
        "sns.heatmap(conf_mat,annot=True,fmt=\".0f\",ax=ax, cmap=plt.cm.GnBu)\n",
        "plt.xlabel(\"Predicted Values\")\n",
        "plt.ylabel(\"True Values\")\n",
        "plt.show()\n",
        "\n",
        "y_probs = naive_bayes.predict_proba(X_test)\n",
        "y_probs = y_probs[:, 1]\n",
        "ns_fpr, ns_tpr, _ = roc_curve(y_test, y_probs, pos_label=3)\n",
        "\n",
        "# plot the roc curve for the model\n",
        "pyplot.plot(ns_fpr, ns_tpr, linestyle='--', label='Naive Bayes')\n",
        "\n",
        "# show the legend\n",
        "pyplot.legend()\n",
        "\n",
        "# show the plot\n",
        "pyplot.show()"
      ],
      "execution_count": 157,
      "outputs": [
        {
          "output_type": "stream",
          "text": [
            "Naive Bayes Classification Score: 0.7597656704945145\n"
          ],
          "name": "stdout"
        },
        {
          "output_type": "display_data",
          "data": {
            "image/png": "[encoded data removed]",
            "text/plain": [
              "<Figure size 360x360 with 2 Axes>"
            ]
          },
          "metadata": {
            "tags": [],
            "needs_background": "light"
          }
        },
        {
          "output_type": "display_data",
          "data": {
            "image/png": "[encoded data removed]",
            "text/plain": [
              "<Figure size 432x288 with 1 Axes>"
            ]
          },
          "metadata": {
            "tags": [],
            "needs_background": "light"
          }
        }
      ]
    },
    {
      "cell_type": "markdown",
      "metadata": {
        "id": "RYINx0tzZlLj"
      },
      "source": [
        "# Decision Tree"
      ]
    },
    {
      "cell_type": "code",
      "metadata": {
        "colab": {
          "base_uri": "https://localhost:8080/",
          "height": 820
        },
        "id": "_KAnuGgLZk8W",
        "outputId": "88fad65f-9ed9-449b-ec39-d218591b5d27"
      },
      "source": [
        "\n",
        "dtc = DecisionTreeClassifier()\n",
        "dtc.fit(X_train, y_train)\n",
        " \n",
        "y_pred_new = dtc.predict(X_test)\n",
        "score = dtc.score(X_test,y_test)\n",
        "print(\"Evaluation metrics of decision tree classifier: \", score)\n",
        " \n",
        "performance['Model'].append('Decision Tree')\n",
        "performance['Accuracy'].append(score)\n",
        "\n",
        "cm = confusion_matrix(y_test, y_pred_new)\n",
        "print(cm)\n",
        "print(classification_report(y_test, y_pred_new))\n",
        "sens = cm[0,0] / (cm[0,0] + cm[0,1])\n",
        "spec = cm[1,1] / (cm[1,0] + cm[1,1])\n",
        "\n",
        "#Visualizing Confusion Matrix\n",
        "f, ax = plt.subplots(figsize=(5,5))\n",
        "sns.heatmap(cm,annot=True,fmt=\".0f\",ax=ax, cmap=plt.cm.GnBu)\n",
        "plt.xlabel(\"Predicted Values\")\n",
        "plt.ylabel(\"True Values\")\n",
        "plt.show()\n",
        "\n",
        "print(\"Sensitivity: \", sens)\n",
        "print(\"Specificity: \", spec)\n",
        "\n",
        "y_probs = dtc.predict_proba(X_test)\n",
        "y_probs = y_probs[:, 1]\n",
        "ns_fpr, ns_tpr, _ = roc_curve(y_test, y_probs, pos_label=3)\n",
        "\n",
        "# plot the roc curve for the model\n",
        "pyplot.plot(ns_fpr, ns_tpr, linestyle='--', label='Decision Tree')\n",
        "\n",
        "# show the legend\n",
        "pyplot.legend()\n",
        "\n",
        "# show the plot\n",
        "pyplot.show()"
      ],
      "execution_count": 158,
      "outputs": [
        {
          "output_type": "stream",
          "text": [
            "Evaluation metrics of decision tree classifier:  0.9082015326919941\n",
            "[[20426  3771]\n",
            " [ 4111 57554]]\n",
            "              precision    recall  f1-score   support\n",
            "\n",
            "         2.0       0.83      0.84      0.84     24197\n",
            "         3.0       0.94      0.93      0.94     61665\n",
            "\n",
            "    accuracy                           0.91     85862\n",
            "   macro avg       0.89      0.89      0.89     85862\n",
            "weighted avg       0.91      0.91      0.91     85862\n",
            "\n"
          ],
          "name": "stdout"
        },
        {
          "output_type": "display_data",
          "data": {
            "image/png": "[encoded data removed]",
            "text/plain": [
              "<Figure size 360x360 with 2 Axes>"
            ]
          },
          "metadata": {
            "tags": [],
            "needs_background": "light"
          }
        },
        {
          "output_type": "stream",
          "text": [
            "Sensitivity:  0.8441542339959499\n",
            "Specificity:  0.9333333333333333\n"
          ],
          "name": "stdout"
        },
        {
          "output_type": "display_data",
          "data": {
            "image/png": "[encoded data removed]",
            "text/plain": [
              "<Figure size 432x288 with 1 Axes>"
            ]
          },
          "metadata": {
            "tags": [],
            "needs_background": "light"
          }
        }
      ]
    },
    {
      "cell_type": "markdown",
      "metadata": {
        "id": "BqYHVE9w7u3P"
      },
      "source": [
        "# K-Nearest Neighbors"
      ]
    },
    {
      "cell_type": "code",
      "metadata": {
        "colab": {
          "base_uri": "https://localhost:8080/",
          "height": 599
        },
        "id": "eODcUdVK6ePr",
        "outputId": "561d4e9c-81d0-4790-dc71-5fd58aa1fc03"
      },
      "source": [
        "\n",
        "\n",
        "knn = KNeighborsClassifier(n_neighbors=5)\n",
        "knn.fit(X_train,y_train)\n",
        "\n",
        "score = knn.score(X_test,y_test)\n",
        "print(\"Score for Number of Neighbors = 5: {}\".format(score))\n",
        "\n",
        "performance['Model'].append('KNN')\n",
        "performance['Accuracy'].append(score)\n",
        "\n",
        "y_pred = knn.predict(X_test)\n",
        "conf_mat = confusion_matrix(y_test,y_pred)\n",
        "\n",
        "#Visualizing Confusion Matrix\n",
        "f, ax = plt.subplots(figsize=(5,5))\n",
        "sns.heatmap(conf_mat,annot=True,fmt=\".0f\",ax=ax, cmap=plt.cm.GnBu)\n",
        "plt.xlabel(\"Predicted Values\")\n",
        "plt.ylabel(\"True Values\")\n",
        "plt.show()\n",
        "\n",
        "y_probs = knn.predict_proba(X_test)\n",
        "y_probs = y_probs[:, 1]\n",
        "ns_fpr, ns_tpr, _ = roc_curve(y_test, y_probs, pos_label=3)\n",
        "\n",
        "# plot the roc curve for the model\n",
        "pyplot.plot(ns_fpr, ns_tpr, linestyle='--', label='KNN')\n",
        "\n",
        "# show the legend\n",
        "pyplot.legend()\n",
        "\n",
        "# show the plot\n",
        "pyplot.show()"
      ],
      "execution_count": 159,
      "outputs": [
        {
          "output_type": "stream",
          "text": [
            "Score for Number of Neighbors = 5: 0.8983950991125295\n"
          ],
          "name": "stdout"
        },
        {
          "output_type": "display_data",
          "data": {
            "image/png": "[encoded data removed]",
            "text/plain": [
              "<Figure size 360x360 with 2 Axes>"
            ]
          },
          "metadata": {
            "tags": [],
            "needs_background": "light"
          }
        },
        {
          "output_type": "display_data",
          "data": {
            "image/png": "[encoded data removed]",
            "text/plain": [
              "<Figure size 432x288 with 1 Axes>"
            ]
          },
          "metadata": {
            "tags": [],
            "needs_background": "light"
          }
        }
      ]
    },
    {
      "cell_type": "markdown",
      "metadata": {
        "id": "RB-cl5bn7n9N"
      },
      "source": [
        "# Support Vector Machine"
      ]
    },
    {
      "cell_type": "code",
      "metadata": {
        "id": "438-OSkz6ePr",
        "colab": {
          "base_uri": "https://localhost:8080/",
          "height": 374
        },
        "outputId": "d3a888f5-d7d7-4445-c16c-0793d31e130b"
      },
      "source": [
        "\n",
        "\n",
        "svm = SVC(random_state=42)\n",
        "svm.fit(X_train,y_train)\n",
        "\n",
        "score = svm.score(X_test,y_test)\n",
        "print(\"SVM Classification Score is: {}\".format(score))\n",
        "\n",
        "performance['Model'].append('SVM')\n",
        "performance['Accuracy'].append(score)\n",
        "\n",
        "y_pred = svm.predict(X_test)\n",
        "conf_mat = confusion_matrix(y_test,y_pred)\n",
        "\n",
        "#Visualizing Confusion Matrix\n",
        "f, ax = plt.subplots(figsize=(5,5))\n",
        "sns.heatmap(conf_mat,annot=True,fmt=\".0f\",ax=ax, cmap=plt.cm.GnBu)\n",
        "plt.xlabel(\"Predicted Values\")\n",
        "plt.ylabel(\"True Values\")\n",
        "plt.show()\n",
        "\n",
        "y_probs = svm.predict_proba(X_test)\n",
        "y_probs = y_probs[:, 1]\n",
        "ns_fpr, ns_tpr, _ = roc_curve(y_test, y_probs, pos_label=3)\n",
        "\n",
        "# plot the roc curve for the model\n",
        "pyplot.plot(ns_fpr, ns_tpr, linestyle='--', label='SVM')\n",
        "\n",
        "# show the legend\n",
        "pyplot.legend()\n",
        "\n",
        "# show the plot\n",
        "pyplot.show()"
      ],
      "execution_count": 144,
      "outputs": [
        {
          "output_type": "error",
          "ename": "KeyboardInterrupt",
          "evalue": "ignored",
          "traceback": [
            "\u001b[0;31m---------------------------------------------------------------------------\u001b[0m",
            "\u001b[0;31mKeyboardInterrupt\u001b[0m                         Traceback (most recent call last)",
            "\u001b[0;32m<ipython-input-144-816dfaf4f342>\u001b[0m in \u001b[0;36m<module>\u001b[0;34m()\u001b[0m\n\u001b[1;32m      2\u001b[0m \u001b[0;34m\u001b[0m\u001b[0m\n\u001b[1;32m      3\u001b[0m \u001b[0msvm\u001b[0m \u001b[0;34m=\u001b[0m \u001b[0mSVC\u001b[0m\u001b[0;34m(\u001b[0m\u001b[0mrandom_state\u001b[0m\u001b[0;34m=\u001b[0m\u001b[0;36m42\u001b[0m\u001b[0;34m)\u001b[0m\u001b[0;34m\u001b[0m\u001b[0;34m\u001b[0m\u001b[0m\n\u001b[0;32m----> 4\u001b[0;31m \u001b[0msvm\u001b[0m\u001b[0;34m.\u001b[0m\u001b[0mfit\u001b[0m\u001b[0;34m(\u001b[0m\u001b[0mX_train\u001b[0m\u001b[0;34m,\u001b[0m\u001b[0my_train\u001b[0m\u001b[0;34m)\u001b[0m\u001b[0;34m\u001b[0m\u001b[0;34m\u001b[0m\u001b[0m\n\u001b[0m\u001b[1;32m      5\u001b[0m \u001b[0mprint\u001b[0m\u001b[0;34m(\u001b[0m\u001b[0;34m\"SVM Classification Score is: {}\"\u001b[0m\u001b[0;34m.\u001b[0m\u001b[0mformat\u001b[0m\u001b[0;34m(\u001b[0m\u001b[0msvm\u001b[0m\u001b[0;34m.\u001b[0m\u001b[0mscore\u001b[0m\u001b[0;34m(\u001b[0m\u001b[0mX_test\u001b[0m\u001b[0;34m,\u001b[0m\u001b[0my_test\u001b[0m\u001b[0;34m)\u001b[0m\u001b[0;34m)\u001b[0m\u001b[0;34m)\u001b[0m\u001b[0;34m\u001b[0m\u001b[0;34m\u001b[0m\u001b[0m\n\u001b[1;32m      6\u001b[0m \u001b[0;34m\u001b[0m\u001b[0m\n",
            "\u001b[0;32m/usr/local/lib/python3.6/dist-packages/sklearn/svm/_base.py\u001b[0m in \u001b[0;36mfit\u001b[0;34m(self, X, y, sample_weight)\u001b[0m\n\u001b[1;32m    197\u001b[0m \u001b[0;34m\u001b[0m\u001b[0m\n\u001b[1;32m    198\u001b[0m         \u001b[0mseed\u001b[0m \u001b[0;34m=\u001b[0m \u001b[0mrnd\u001b[0m\u001b[0;34m.\u001b[0m\u001b[0mrandint\u001b[0m\u001b[0;34m(\u001b[0m\u001b[0mnp\u001b[0m\u001b[0;34m.\u001b[0m\u001b[0miinfo\u001b[0m\u001b[0;34m(\u001b[0m\u001b[0;34m'i'\u001b[0m\u001b[0;34m)\u001b[0m\u001b[0;34m.\u001b[0m\u001b[0mmax\u001b[0m\u001b[0;34m)\u001b[0m\u001b[0;34m\u001b[0m\u001b[0;34m\u001b[0m\u001b[0m\n\u001b[0;32m--> 199\u001b[0;31m         \u001b[0mfit\u001b[0m\u001b[0;34m(\u001b[0m\u001b[0mX\u001b[0m\u001b[0;34m,\u001b[0m \u001b[0my\u001b[0m\u001b[0;34m,\u001b[0m \u001b[0msample_weight\u001b[0m\u001b[0;34m,\u001b[0m \u001b[0msolver_type\u001b[0m\u001b[0;34m,\u001b[0m \u001b[0mkernel\u001b[0m\u001b[0;34m,\u001b[0m \u001b[0mrandom_seed\u001b[0m\u001b[0;34m=\u001b[0m\u001b[0mseed\u001b[0m\u001b[0;34m)\u001b[0m\u001b[0;34m\u001b[0m\u001b[0;34m\u001b[0m\u001b[0m\n\u001b[0m\u001b[1;32m    200\u001b[0m         \u001b[0;31m# see comment on the other call to np.iinfo in this file\u001b[0m\u001b[0;34m\u001b[0m\u001b[0;34m\u001b[0m\u001b[0;34m\u001b[0m\u001b[0m\n\u001b[1;32m    201\u001b[0m \u001b[0;34m\u001b[0m\u001b[0m\n",
            "\u001b[0;32m/usr/local/lib/python3.6/dist-packages/sklearn/svm/_base.py\u001b[0m in \u001b[0;36m_dense_fit\u001b[0;34m(self, X, y, sample_weight, solver_type, kernel, random_seed)\u001b[0m\n\u001b[1;32m    256\u001b[0m                 \u001b[0mcache_size\u001b[0m\u001b[0;34m=\u001b[0m\u001b[0mself\u001b[0m\u001b[0;34m.\u001b[0m\u001b[0mcache_size\u001b[0m\u001b[0;34m,\u001b[0m \u001b[0mcoef0\u001b[0m\u001b[0;34m=\u001b[0m\u001b[0mself\u001b[0m\u001b[0;34m.\u001b[0m\u001b[0mcoef0\u001b[0m\u001b[0;34m,\u001b[0m\u001b[0;34m\u001b[0m\u001b[0;34m\u001b[0m\u001b[0m\n\u001b[1;32m    257\u001b[0m                 \u001b[0mgamma\u001b[0m\u001b[0;34m=\u001b[0m\u001b[0mself\u001b[0m\u001b[0;34m.\u001b[0m\u001b[0m_gamma\u001b[0m\u001b[0;34m,\u001b[0m \u001b[0mepsilon\u001b[0m\u001b[0;34m=\u001b[0m\u001b[0mself\u001b[0m\u001b[0;34m.\u001b[0m\u001b[0mepsilon\u001b[0m\u001b[0;34m,\u001b[0m\u001b[0;34m\u001b[0m\u001b[0;34m\u001b[0m\u001b[0m\n\u001b[0;32m--> 258\u001b[0;31m                 max_iter=self.max_iter, random_seed=random_seed)\n\u001b[0m\u001b[1;32m    259\u001b[0m \u001b[0;34m\u001b[0m\u001b[0m\n\u001b[1;32m    260\u001b[0m         \u001b[0mself\u001b[0m\u001b[0;34m.\u001b[0m\u001b[0m_warn_from_fit_status\u001b[0m\u001b[0;34m(\u001b[0m\u001b[0;34m)\u001b[0m\u001b[0;34m\u001b[0m\u001b[0;34m\u001b[0m\u001b[0m\n",
            "\u001b[0;31mKeyboardInterrupt\u001b[0m: "
          ]
        }
      ]
    },
    {
      "cell_type": "markdown",
      "metadata": {
        "id": "IT053QFL7j0q"
      },
      "source": [
        "# Artificial Neural Network"
      ]
    },
    {
      "cell_type": "code",
      "metadata": {
        "colab": {
          "base_uri": "https://localhost:8080/"
        },
        "id": "1xKYyppV6ePr",
        "outputId": "64b70498-417b-46c6-f791-bf10b55b8155"
      },
      "source": [
        "\n",
        "def build_classifier():\n",
        "    classifier = Sequential() # initialize neural network\n",
        "    classifier.add(Dense(units = 50, kernel_initializer = 'uniform', activation = 'relu', input_dim = X_train.shape[1]))\n",
        "    classifier.add(Dense(units = 10, kernel_initializer = 'uniform', activation = 'relu'))\n",
        "    classifier.add(Dense(units = 1, kernel_initializer = 'uniform', activation = 'sigmoid'))\n",
        "    classifier.compile(optimizer = 'adam', loss = 'binary_crossentropy', metrics = ['accuracy'])\n",
        "    return classifier\n",
        "classifier = KerasClassifier(build_fn = build_classifier, epochs = 10)\n",
        "accuracies = cross_val_score(estimator = classifier, X = X_train, y = y_train, cv = 3)\n",
        "mean = accuracies.mean()\n",
        "variance = accuracies.std()\n",
        "performance['Model'].append('ANN')\n",
        "performance['Accuracy'].append(mean)\n",
        "print(\"Accuracy mean: \"+ str(mean))\n",
        "print(\"Accuracy variance: \"+ str(variance))"
      ],
      "execution_count": 160,
      "outputs": [
        {
          "output_type": "stream",
          "text": [
            "Epoch 1/10\n",
            "3632/3632 [==============================] - 4s 1ms/step - loss: 0.3771 - accuracy: 0.8211\n",
            "Epoch 2/10\n",
            "3632/3632 [==============================] - 4s 1ms/step - loss: 0.3507 - accuracy: 0.8333\n",
            "Epoch 3/10\n",
            "3632/3632 [==============================] - 4s 1ms/step - loss: 0.3290 - accuracy: 0.8493\n",
            "Epoch 4/10\n",
            "3632/3632 [==============================] - 4s 1ms/step - loss: 0.3024 - accuracy: 0.8661\n",
            "Epoch 5/10\n",
            "3632/3632 [==============================] - 4s 1ms/step - loss: 0.3005 - accuracy: 0.8666\n",
            "Epoch 6/10\n",
            "3632/3632 [==============================] - 4s 1ms/step - loss: 0.2991 - accuracy: 0.8668\n",
            "Epoch 7/10\n",
            "3632/3632 [==============================] - 4s 1ms/step - loss: 0.2982 - accuracy: 0.8683\n",
            "Epoch 8/10\n",
            "3632/3632 [==============================] - 4s 1ms/step - loss: 0.2958 - accuracy: 0.8683\n",
            "Epoch 9/10\n",
            "3632/3632 [==============================] - 4s 1ms/step - loss: 0.2911 - accuracy: 0.8715\n",
            "Epoch 10/10\n",
            "3632/3632 [==============================] - 4s 1ms/step - loss: 0.2848 - accuracy: 0.8737\n",
            "1816/1816 [==============================] - 2s 833us/step - loss: 0.2932 - accuracy: 0.8715\n",
            "Epoch 1/10\n",
            "3632/3632 [==============================] - 4s 1ms/step - loss: 0.3810 - accuracy: 0.8208\n",
            "Epoch 2/10\n",
            "3632/3632 [==============================] - 4s 1ms/step - loss: 0.3190 - accuracy: 0.8573\n",
            "Epoch 3/10\n",
            "3632/3632 [==============================] - 4s 1ms/step - loss: 0.3017 - accuracy: 0.8662\n",
            "Epoch 4/10\n",
            "3632/3632 [==============================] - 4s 1ms/step - loss: 0.2957 - accuracy: 0.8689\n",
            "Epoch 5/10\n",
            "3632/3632 [==============================] - 4s 1ms/step - loss: 0.2917 - accuracy: 0.8705\n",
            "Epoch 6/10\n",
            "3632/3632 [==============================] - 4s 1ms/step - loss: 0.2891 - accuracy: 0.8706\n",
            "Epoch 7/10\n",
            "3632/3632 [==============================] - 4s 1ms/step - loss: 0.2814 - accuracy: 0.8746\n",
            "Epoch 8/10\n",
            "3632/3632 [==============================] - 4s 1ms/step - loss: 0.2767 - accuracy: 0.8784\n",
            "Epoch 9/10\n",
            "3632/3632 [==============================] - 4s 1ms/step - loss: 0.2744 - accuracy: 0.8798\n",
            "Epoch 10/10\n",
            "3632/3632 [==============================] - 4s 1ms/step - loss: 0.2731 - accuracy: 0.8807\n",
            "1816/1816 [==============================] - 2s 856us/step - loss: 0.2687 - accuracy: 0.8812\n",
            "Epoch 1/10\n",
            "3632/3632 [==============================] - 4s 1ms/step - loss: 0.3675 - accuracy: 0.8257\n",
            "Epoch 2/10\n",
            "3632/3632 [==============================] - 4s 1ms/step - loss: 0.3075 - accuracy: 0.8602\n",
            "Epoch 3/10\n",
            "3632/3632 [==============================] - 4s 1ms/step - loss: 0.2916 - accuracy: 0.8693\n",
            "Epoch 4/10\n",
            "3632/3632 [==============================] - 4s 1ms/step - loss: 0.2870 - accuracy: 0.8713\n",
            "Epoch 5/10\n",
            "3632/3632 [==============================] - 4s 1ms/step - loss: 0.2847 - accuracy: 0.8731\n",
            "Epoch 6/10\n",
            "3632/3632 [==============================] - 4s 1ms/step - loss: 0.2828 - accuracy: 0.8741\n",
            "Epoch 7/10\n",
            "3632/3632 [==============================] - 4s 1ms/step - loss: 0.2798 - accuracy: 0.8776\n",
            "Epoch 8/10\n",
            "3632/3632 [==============================] - 4s 1ms/step - loss: 0.2777 - accuracy: 0.8776\n",
            "Epoch 9/10\n",
            "3632/3632 [==============================] - 4s 1ms/step - loss: 0.2764 - accuracy: 0.8794\n",
            "Epoch 10/10\n",
            "3632/3632 [==============================] - 4s 1ms/step - loss: 0.2750 - accuracy: 0.8787\n",
            "1816/1816 [==============================] - 1s 824us/step - loss: 0.2714 - accuracy: 0.8802\n",
            "Accuracy mean: 0.8776244322458903\n",
            "Accuracy variance: 0.004328350399045373\n"
          ],
          "name": "stdout"
        }
      ]
    },
    {
      "cell_type": "markdown",
      "metadata": {
        "id": "SV_BXo47eW1r"
      },
      "source": [
        "# Random Forest"
      ]
    },
    {
      "cell_type": "code",
      "metadata": {
        "colab": {
          "base_uri": "https://localhost:8080/",
          "height": 589
        },
        "id": "cZPIE6j2vXfo",
        "outputId": "e0521256-811d-40c9-a4d8-e389995388a8"
      },
      "source": [
        "\n",
        "# Instantiate\n",
        "clf = RandomForestClassifier(n_estimators=100)\n",
        "\n",
        "clf.fit(X_train, y_train)\n",
        "\n",
        "# Import confusion_matrix\n",
        "from sklearn import metrics\n",
        "\n",
        "y_pred = clf.predict(X_test)\n",
        "\n",
        "score = metrics.accuracy_score(y_test, y_pred)\n",
        "\n",
        "#Visualizing Confusion Matrix\n",
        "f, ax = plt.subplots(figsize=(5,5))\n",
        "sns.heatmap(metrics.confusion_matrix(y_test, y_pred),annot=True,fmt=\".0f\",ax=ax, cmap=plt.cm.GnBu)\n",
        "plt.xlabel(\"Predicted Values\")\n",
        "plt.ylabel(\"True Values\")\n",
        "plt.show()\n",
        "\n",
        "print(\"Evaluation metrics of random forest classifier: \", score,'\\n')\n",
        "performance['Model'].append('Random Forest')\n",
        "performance['Accuracy'].append(score)\n",
        "\n",
        "print(\"Confusion Matrix: \\n\", metrics.confusion_matrix(y_test, y_pred), '\\n')\n",
        "print(classification_report(y_test, y_pred))"
      ],
      "execution_count": 161,
      "outputs": [
        {
          "output_type": "display_data",
          "data": {
            "image/png": "[encoded data removed]",
            "text/plain": [
              "<Figure size 360x360 with 2 Axes>"
            ]
          },
          "metadata": {
            "tags": [],
            "needs_background": "light"
          }
        },
        {
          "output_type": "stream",
          "text": [
            "Evaluation metrics of random forest classifier:  0.9390999510842981 \n",
            "\n",
            "Confusion Matrix: \n",
            " [[21557  2640]\n",
            " [ 2589 59076]] \n",
            "\n",
            "              precision    recall  f1-score   support\n",
            "\n",
            "         2.0       0.89      0.89      0.89     24197\n",
            "         3.0       0.96      0.96      0.96     61665\n",
            "\n",
            "    accuracy                           0.94     85862\n",
            "   macro avg       0.93      0.92      0.92     85862\n",
            "weighted avg       0.94      0.94      0.94     85862\n",
            "\n"
          ],
          "name": "stdout"
        }
      ]
    },
    {
      "cell_type": "code",
      "metadata": {
        "colab": {
          "base_uri": "https://localhost:8080/",
          "height": 265
        },
        "id": "2m3MFACiF58_",
        "outputId": "a919aeb6-6dcb-4a1a-8eef-efe5d1963a46"
      },
      "source": [
        "y_probs = clf.predict_proba(X_test)\n",
        "y_probs = y_probs[:, 1]\n",
        "ns_fpr, ns_tpr, _ = roc_curve(y_test, y_probs, pos_label=3)\n",
        "\n",
        "# plot the roc curve for the model\n",
        "pyplot.plot(ns_fpr, ns_tpr, linestyle='--', label='RandomForest')\n",
        "\n",
        "# show the legend\n",
        "pyplot.legend()\n",
        "\n",
        "# show the plot\n",
        "pyplot.show()"
      ],
      "execution_count": 162,
      "outputs": [
        {
          "output_type": "display_data",
          "data": {
            "image/png": "[encoded data removed]",
            "text/plain": [
              "<Figure size 432x288 with 1 Axes>"
            ]
          },
          "metadata": {
            "tags": [],
            "needs_background": "light"
          }
        }
      ]
    },
    {
      "cell_type": "code",
      "metadata": {
        "colab": {
          "base_uri": "https://localhost:8080/",
          "height": 379
        },
        "id": "9SOpTJMdxKvu",
        "outputId": "e893e15f-47f5-400d-b63c-e00e4a91667e"
      },
      "source": [
        "import matplotlib.pyplot as plot\n",
        "dataFrame = pd.DataFrame(data=performance);\n",
        "\n",
        "# Draw a vertical bar chart\n",
        "\n",
        "dataFrame.plot.bar(x=\"Model\", y=\"Accuracy\", rot=70, title=\"Accuracy Analysis\");\n",
        "\n",
        "plot.show(block=True);"
      ],
      "execution_count": 166,
      "outputs": [
        {
          "output_type": "display_data",
          "data": {
            "image/png": "[encoded data removed]",
            "text/plain": [
              "<Figure size 432x288 with 1 Axes>"
            ]
          },
          "metadata": {
            "tags": [],
            "needs_background": "light"
          }
        }
      ]
    }
  ]
}