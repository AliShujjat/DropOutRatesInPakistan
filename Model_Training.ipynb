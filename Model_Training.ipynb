{
  "nbformat": 4,
  "nbformat_minor": 0,
  "metadata": {
    "colab": {
      "name": "Model Training.ipynb",
      "provenance": [],
      "include_colab_link": true
    },
    "kernelspec": {
      "display_name": "Python 3",
      "language": "python",
      "name": "python3"
    },
    "language_info": {
      "codemirror_mode": {
        "name": "ipython",
        "version": 3
      },
      "file_extension": ".py",
      "mimetype": "text/x-python",
      "name": "python",
      "nbconvert_exporter": "python",
      "pygments_lexer": "ipython3",
      "version": "3.7.1"
    }
  },
  "cells": [
    {
      "cell_type": "markdown",
      "metadata": {
        "id": "view-in-github",
        "colab_type": "text"
      },
      "source": [
        "<a href=\"https://colab.research.google.com/github/AliShujjat/DSProject/blob/main/Model_Training.ipynb\" target=\"_parent\"><img src=\"https://colab.research.google.com/assets/colab-badge.svg\" alt=\"Open In Colab\"/></a>"
      ]
    },
    {
      "cell_type": "code",
      "metadata": {
        "colab": {
          "base_uri": "https://localhost:8080/"
        },
        "id": "gpGdj1h0tkwf",
        "outputId": "1aa625dd-0b6d-4bcf-a99c-32fd863686af"
      },
      "source": [
        "#Retrieving the data from Google Drive\n",
        "from google.colab import drive\n",
        "drive.mount('/content/drive')\n",
        "!cp \"/content/drive/My Drive/Edu/Edu2.csv\" \"Edu2.csv\""
      ],
      "execution_count": 2,
      "outputs": [
        {
          "output_type": "stream",
          "text": [
            "Drive already mounted at /content/drive; to attempt to forcibly remount, call drive.mount(\"/content/drive\", force_remount=True).\n"
          ],
          "name": "stdout"
        }
      ]
    },
    {
      "cell_type": "code",
      "metadata": {
        "id": "qjXqkO_8uCfl"
      },
      "source": [
        "#Importing the libraries\n",
        "import numpy as np\n",
        "import pandas as pd\n",
        "import seaborn as sns\n",
        "import matplotlib.pyplot as plt\n",
        "from sklearn.feature_selection import SelectKBest\n",
        "from sklearn.feature_selection import chi2\n",
        "from sklearn.feature_selection import mutual_info_classif\n",
        "from sklearn.model_selection import train_test_split\n",
        "from sklearn.linear_model import LogisticRegression"
      ],
      "execution_count": 1,
      "outputs": []
    },
    {
      "cell_type": "code",
      "metadata": {
        "id": "FGq4qPLjuUbb"
      },
      "source": [
        "df = pd.read_csv('Edu2.csv')"
      ],
      "execution_count": 2,
      "outputs": []
    },
    {
      "cell_type": "markdown",
      "metadata": {
        "id": "zn5Alu3f8ADc"
      },
      "source": [
        "# Preprocessing"
      ]
    },
    {
      "cell_type": "code",
      "metadata": {
        "colab": {
          "base_uri": "https://localhost:8080/",
          "height": 326
        },
        "id": "s9ZEQA6lujRV",
        "outputId": "fe623665-07a9-4ca1-fc25-38e736bd6912"
      },
      "source": [
        "df.head()"
      ],
      "execution_count": 3,
      "outputs": [
        {
          "output_type": "execute_result",
          "data": {
            "text/html": [
              "<div>\n",
              "<style scoped>\n",
              "    .dataframe tbody tr th:only-of-type {\n",
              "        vertical-align: middle;\n",
              "    }\n",
              "\n",
              "    .dataframe tbody tr th {\n",
              "        vertical-align: top;\n",
              "    }\n",
              "\n",
              "    .dataframe thead th {\n",
              "        text-align: right;\n",
              "    }\n",
              "</style>\n",
              "<table border=\"1\" class=\"dataframe\">\n",
              "  <thead>\n",
              "    <tr style=\"text-align: right;\">\n",
              "      <th></th>\n",
              "      <th>Unnamed: 0</th>\n",
              "      <th>If Drop-out, studied up-to which\\nclass</th>\n",
              "      <th>Education Status of Child</th>\n",
              "      <th>Edu status</th>\n",
              "      <th>Reasons for Dropout</th>\n",
              "      <th>Age of Child</th>\n",
              "      <th>Reasons for dropout</th>\n",
              "      <th>C013</th>\n",
              "      <th>Age of father (completed years)</th>\n",
              "      <th>C010</th>\n",
              "      <th>HCOUNTER</th>\n",
              "      <th>Age of mother (completed years)</th>\n",
              "      <th>Arithmetic Levels</th>\n",
              "      <th>Total number of surviving children (LESS THAN 17) of mother</th>\n",
              "      <th>WSCORE</th>\n",
              "      <th>H001M</th>\n",
              "      <th>H001F</th>\n",
              "      <th>Gender of Child</th>\n",
              "      <th>DID</th>\n",
              "      <th>Gender</th>\n",
              "      <th>C012a</th>\n",
              "      <th>Unique ID of government school</th>\n",
              "      <th>Name of the District</th>\n",
              "      <th>GS007P</th>\n",
              "      <th>GS003Y</th>\n",
              "      <th>Local Language of the Village</th>\n",
              "      <th>GS007E</th>\n",
              "      <th>H010</th>\n",
              "      <th>WINDEX/Economic Profile</th>\n",
              "      <th>Windex</th>\n",
              "      <th>V007</th>\n",
              "    </tr>\n",
              "  </thead>\n",
              "  <tbody>\n",
              "    <tr>\n",
              "      <th>0</th>\n",
              "      <td>0</td>\n",
              "      <td>19</td>\n",
              "      <td>1.0</td>\n",
              "      <td>2</td>\n",
              "      <td>2.0</td>\n",
              "      <td>3.0</td>\n",
              "      <td>5</td>\n",
              "      <td>1.0</td>\n",
              "      <td>40.0</td>\n",
              "      <td>5.0</td>\n",
              "      <td>1.0</td>\n",
              "      <td>36.0</td>\n",
              "      <td>6.0</td>\n",
              "      <td>4.0</td>\n",
              "      <td>-0.023974</td>\n",
              "      <td>5.0</td>\n",
              "      <td>1.0</td>\n",
              "      <td>0.0</td>\n",
              "      <td>132</td>\n",
              "      <td>1</td>\n",
              "      <td>1.0</td>\n",
              "      <td>4792.0</td>\n",
              "      <td>113</td>\n",
              "      <td>50.0</td>\n",
              "      <td>1977.0</td>\n",
              "      <td>128</td>\n",
              "      <td>54.0</td>\n",
              "      <td>0.0</td>\n",
              "      <td>2.0</td>\n",
              "      <td>0</td>\n",
              "      <td>2.0</td>\n",
              "    </tr>\n",
              "    <tr>\n",
              "      <th>1</th>\n",
              "      <td>1</td>\n",
              "      <td>19</td>\n",
              "      <td>3.0</td>\n",
              "      <td>0</td>\n",
              "      <td>2.0</td>\n",
              "      <td>5.0</td>\n",
              "      <td>5</td>\n",
              "      <td>4.0</td>\n",
              "      <td>35.0</td>\n",
              "      <td>3.0</td>\n",
              "      <td>3.0</td>\n",
              "      <td>30.0</td>\n",
              "      <td>6.0</td>\n",
              "      <td>2.0</td>\n",
              "      <td>0.706430</td>\n",
              "      <td>2.0</td>\n",
              "      <td>2.0</td>\n",
              "      <td>1.0</td>\n",
              "      <td>132</td>\n",
              "      <td>0</td>\n",
              "      <td>1.0</td>\n",
              "      <td>4792.0</td>\n",
              "      <td>113</td>\n",
              "      <td>50.0</td>\n",
              "      <td>1977.0</td>\n",
              "      <td>128</td>\n",
              "      <td>54.0</td>\n",
              "      <td>0.0</td>\n",
              "      <td>3.0</td>\n",
              "      <td>2</td>\n",
              "      <td>2.0</td>\n",
              "    </tr>\n",
              "    <tr>\n",
              "      <th>2</th>\n",
              "      <td>2</td>\n",
              "      <td>19</td>\n",
              "      <td>3.0</td>\n",
              "      <td>0</td>\n",
              "      <td>2.0</td>\n",
              "      <td>5.0</td>\n",
              "      <td>5</td>\n",
              "      <td>3.0</td>\n",
              "      <td>70.0</td>\n",
              "      <td>2.0</td>\n",
              "      <td>2.0</td>\n",
              "      <td>65.0</td>\n",
              "      <td>3.0</td>\n",
              "      <td>3.0</td>\n",
              "      <td>0.706430</td>\n",
              "      <td>6.0</td>\n",
              "      <td>3.0</td>\n",
              "      <td>1.0</td>\n",
              "      <td>132</td>\n",
              "      <td>0</td>\n",
              "      <td>0.0</td>\n",
              "      <td>4792.0</td>\n",
              "      <td>113</td>\n",
              "      <td>50.0</td>\n",
              "      <td>1977.0</td>\n",
              "      <td>128</td>\n",
              "      <td>54.0</td>\n",
              "      <td>0.0</td>\n",
              "      <td>3.0</td>\n",
              "      <td>2</td>\n",
              "      <td>2.0</td>\n",
              "    </tr>\n",
              "    <tr>\n",
              "      <th>3</th>\n",
              "      <td>3</td>\n",
              "      <td>19</td>\n",
              "      <td>3.0</td>\n",
              "      <td>0</td>\n",
              "      <td>2.0</td>\n",
              "      <td>10.0</td>\n",
              "      <td>5</td>\n",
              "      <td>5.0</td>\n",
              "      <td>50.0</td>\n",
              "      <td>5.0</td>\n",
              "      <td>8.0</td>\n",
              "      <td>45.0</td>\n",
              "      <td>6.0</td>\n",
              "      <td>3.0</td>\n",
              "      <td>0.916803</td>\n",
              "      <td>2.0</td>\n",
              "      <td>3.0</td>\n",
              "      <td>0.0</td>\n",
              "      <td>132</td>\n",
              "      <td>1</td>\n",
              "      <td>1.0</td>\n",
              "      <td>4792.0</td>\n",
              "      <td>113</td>\n",
              "      <td>50.0</td>\n",
              "      <td>1977.0</td>\n",
              "      <td>128</td>\n",
              "      <td>54.0</td>\n",
              "      <td>1.0</td>\n",
              "      <td>4.0</td>\n",
              "      <td>3</td>\n",
              "      <td>2.0</td>\n",
              "    </tr>\n",
              "    <tr>\n",
              "      <th>4</th>\n",
              "      <td>4</td>\n",
              "      <td>19</td>\n",
              "      <td>3.0</td>\n",
              "      <td>0</td>\n",
              "      <td>2.0</td>\n",
              "      <td>4.0</td>\n",
              "      <td>5</td>\n",
              "      <td>1.0</td>\n",
              "      <td>40.0</td>\n",
              "      <td>5.0</td>\n",
              "      <td>20.0</td>\n",
              "      <td>30.0</td>\n",
              "      <td>6.0</td>\n",
              "      <td>3.0</td>\n",
              "      <td>-0.185241</td>\n",
              "      <td>3.0</td>\n",
              "      <td>2.0</td>\n",
              "      <td>0.0</td>\n",
              "      <td>132</td>\n",
              "      <td>1</td>\n",
              "      <td>1.0</td>\n",
              "      <td>4792.0</td>\n",
              "      <td>113</td>\n",
              "      <td>50.0</td>\n",
              "      <td>1977.0</td>\n",
              "      <td>128</td>\n",
              "      <td>54.0</td>\n",
              "      <td>0.0</td>\n",
              "      <td>2.0</td>\n",
              "      <td>0</td>\n",
              "      <td>2.0</td>\n",
              "    </tr>\n",
              "  </tbody>\n",
              "</table>\n",
              "</div>"
            ],
            "text/plain": [
              "   Unnamed: 0  If Drop-out, studied up-to which\\nclass  ...  Windex  V007\n",
              "0           0                                       19  ...       0   2.0\n",
              "1           1                                       19  ...       2   2.0\n",
              "2           2                                       19  ...       2   2.0\n",
              "3           3                                       19  ...       3   2.0\n",
              "4           4                                       19  ...       0   2.0\n",
              "\n",
              "[5 rows x 31 columns]"
            ]
          },
          "metadata": {
            "tags": []
          },
          "execution_count": 3
        }
      ]
    },
    {
      "cell_type": "code",
      "metadata": {
        "colab": {
          "base_uri": "https://localhost:8080/",
          "height": 326
        },
        "id": "ey28l0evXzuz",
        "outputId": "669b9678-9348-4a03-b8c2-015dc8dcff28"
      },
      "source": [
        "cols = list(df.columns.values) #Make a list of all of the columns in the df\n",
        "cols.pop(cols.index('Education Status of Child')) #Remove b from list\n",
        "cols.pop(cols.index('Edu status')) #Remove x from list\n",
        "df = df[cols+['Education Status of Child','Edu status']] #Create new dataframe with columns in the order you want\n",
        "df.head()"
      ],
      "execution_count": 4,
      "outputs": [
        {
          "output_type": "execute_result",
          "data": {
            "text/html": [
              "<div>\n",
              "<style scoped>\n",
              "    .dataframe tbody tr th:only-of-type {\n",
              "        vertical-align: middle;\n",
              "    }\n",
              "\n",
              "    .dataframe tbody tr th {\n",
              "        vertical-align: top;\n",
              "    }\n",
              "\n",
              "    .dataframe thead th {\n",
              "        text-align: right;\n",
              "    }\n",
              "</style>\n",
              "<table border=\"1\" class=\"dataframe\">\n",
              "  <thead>\n",
              "    <tr style=\"text-align: right;\">\n",
              "      <th></th>\n",
              "      <th>Unnamed: 0</th>\n",
              "      <th>If Drop-out, studied up-to which\\nclass</th>\n",
              "      <th>Reasons for Dropout</th>\n",
              "      <th>Age of Child</th>\n",
              "      <th>Reasons for dropout</th>\n",
              "      <th>C013</th>\n",
              "      <th>Age of father (completed years)</th>\n",
              "      <th>C010</th>\n",
              "      <th>HCOUNTER</th>\n",
              "      <th>Age of mother (completed years)</th>\n",
              "      <th>Arithmetic Levels</th>\n",
              "      <th>Total number of surviving children (LESS THAN 17) of mother</th>\n",
              "      <th>WSCORE</th>\n",
              "      <th>H001M</th>\n",
              "      <th>H001F</th>\n",
              "      <th>Gender of Child</th>\n",
              "      <th>DID</th>\n",
              "      <th>Gender</th>\n",
              "      <th>C012a</th>\n",
              "      <th>Unique ID of government school</th>\n",
              "      <th>Name of the District</th>\n",
              "      <th>GS007P</th>\n",
              "      <th>GS003Y</th>\n",
              "      <th>Local Language of the Village</th>\n",
              "      <th>GS007E</th>\n",
              "      <th>H010</th>\n",
              "      <th>WINDEX/Economic Profile</th>\n",
              "      <th>Windex</th>\n",
              "      <th>V007</th>\n",
              "      <th>Education Status of Child</th>\n",
              "      <th>Edu status</th>\n",
              "    </tr>\n",
              "  </thead>\n",
              "  <tbody>\n",
              "    <tr>\n",
              "      <th>0</th>\n",
              "      <td>0</td>\n",
              "      <td>19</td>\n",
              "      <td>2.0</td>\n",
              "      <td>3.0</td>\n",
              "      <td>5</td>\n",
              "      <td>1.0</td>\n",
              "      <td>40.0</td>\n",
              "      <td>5.0</td>\n",
              "      <td>1.0</td>\n",
              "      <td>36.0</td>\n",
              "      <td>6.0</td>\n",
              "      <td>4.0</td>\n",
              "      <td>-0.023974</td>\n",
              "      <td>5.0</td>\n",
              "      <td>1.0</td>\n",
              "      <td>0.0</td>\n",
              "      <td>132</td>\n",
              "      <td>1</td>\n",
              "      <td>1.0</td>\n",
              "      <td>4792.0</td>\n",
              "      <td>113</td>\n",
              "      <td>50.0</td>\n",
              "      <td>1977.0</td>\n",
              "      <td>128</td>\n",
              "      <td>54.0</td>\n",
              "      <td>0.0</td>\n",
              "      <td>2.0</td>\n",
              "      <td>0</td>\n",
              "      <td>2.0</td>\n",
              "      <td>1.0</td>\n",
              "      <td>2</td>\n",
              "    </tr>\n",
              "    <tr>\n",
              "      <th>1</th>\n",
              "      <td>1</td>\n",
              "      <td>19</td>\n",
              "      <td>2.0</td>\n",
              "      <td>5.0</td>\n",
              "      <td>5</td>\n",
              "      <td>4.0</td>\n",
              "      <td>35.0</td>\n",
              "      <td>3.0</td>\n",
              "      <td>3.0</td>\n",
              "      <td>30.0</td>\n",
              "      <td>6.0</td>\n",
              "      <td>2.0</td>\n",
              "      <td>0.706430</td>\n",
              "      <td>2.0</td>\n",
              "      <td>2.0</td>\n",
              "      <td>1.0</td>\n",
              "      <td>132</td>\n",
              "      <td>0</td>\n",
              "      <td>1.0</td>\n",
              "      <td>4792.0</td>\n",
              "      <td>113</td>\n",
              "      <td>50.0</td>\n",
              "      <td>1977.0</td>\n",
              "      <td>128</td>\n",
              "      <td>54.0</td>\n",
              "      <td>0.0</td>\n",
              "      <td>3.0</td>\n",
              "      <td>2</td>\n",
              "      <td>2.0</td>\n",
              "      <td>3.0</td>\n",
              "      <td>0</td>\n",
              "    </tr>\n",
              "    <tr>\n",
              "      <th>2</th>\n",
              "      <td>2</td>\n",
              "      <td>19</td>\n",
              "      <td>2.0</td>\n",
              "      <td>5.0</td>\n",
              "      <td>5</td>\n",
              "      <td>3.0</td>\n",
              "      <td>70.0</td>\n",
              "      <td>2.0</td>\n",
              "      <td>2.0</td>\n",
              "      <td>65.0</td>\n",
              "      <td>3.0</td>\n",
              "      <td>3.0</td>\n",
              "      <td>0.706430</td>\n",
              "      <td>6.0</td>\n",
              "      <td>3.0</td>\n",
              "      <td>1.0</td>\n",
              "      <td>132</td>\n",
              "      <td>0</td>\n",
              "      <td>0.0</td>\n",
              "      <td>4792.0</td>\n",
              "      <td>113</td>\n",
              "      <td>50.0</td>\n",
              "      <td>1977.0</td>\n",
              "      <td>128</td>\n",
              "      <td>54.0</td>\n",
              "      <td>0.0</td>\n",
              "      <td>3.0</td>\n",
              "      <td>2</td>\n",
              "      <td>2.0</td>\n",
              "      <td>3.0</td>\n",
              "      <td>0</td>\n",
              "    </tr>\n",
              "    <tr>\n",
              "      <th>3</th>\n",
              "      <td>3</td>\n",
              "      <td>19</td>\n",
              "      <td>2.0</td>\n",
              "      <td>10.0</td>\n",
              "      <td>5</td>\n",
              "      <td>5.0</td>\n",
              "      <td>50.0</td>\n",
              "      <td>5.0</td>\n",
              "      <td>8.0</td>\n",
              "      <td>45.0</td>\n",
              "      <td>6.0</td>\n",
              "      <td>3.0</td>\n",
              "      <td>0.916803</td>\n",
              "      <td>2.0</td>\n",
              "      <td>3.0</td>\n",
              "      <td>0.0</td>\n",
              "      <td>132</td>\n",
              "      <td>1</td>\n",
              "      <td>1.0</td>\n",
              "      <td>4792.0</td>\n",
              "      <td>113</td>\n",
              "      <td>50.0</td>\n",
              "      <td>1977.0</td>\n",
              "      <td>128</td>\n",
              "      <td>54.0</td>\n",
              "      <td>1.0</td>\n",
              "      <td>4.0</td>\n",
              "      <td>3</td>\n",
              "      <td>2.0</td>\n",
              "      <td>3.0</td>\n",
              "      <td>0</td>\n",
              "    </tr>\n",
              "    <tr>\n",
              "      <th>4</th>\n",
              "      <td>4</td>\n",
              "      <td>19</td>\n",
              "      <td>2.0</td>\n",
              "      <td>4.0</td>\n",
              "      <td>5</td>\n",
              "      <td>1.0</td>\n",
              "      <td>40.0</td>\n",
              "      <td>5.0</td>\n",
              "      <td>20.0</td>\n",
              "      <td>30.0</td>\n",
              "      <td>6.0</td>\n",
              "      <td>3.0</td>\n",
              "      <td>-0.185241</td>\n",
              "      <td>3.0</td>\n",
              "      <td>2.0</td>\n",
              "      <td>0.0</td>\n",
              "      <td>132</td>\n",
              "      <td>1</td>\n",
              "      <td>1.0</td>\n",
              "      <td>4792.0</td>\n",
              "      <td>113</td>\n",
              "      <td>50.0</td>\n",
              "      <td>1977.0</td>\n",
              "      <td>128</td>\n",
              "      <td>54.0</td>\n",
              "      <td>0.0</td>\n",
              "      <td>2.0</td>\n",
              "      <td>0</td>\n",
              "      <td>2.0</td>\n",
              "      <td>3.0</td>\n",
              "      <td>0</td>\n",
              "    </tr>\n",
              "  </tbody>\n",
              "</table>\n",
              "</div>"
            ],
            "text/plain": [
              "   Unnamed: 0  ...  Edu status\n",
              "0           0  ...           2\n",
              "1           1  ...           0\n",
              "2           2  ...           0\n",
              "3           3  ...           0\n",
              "4           4  ...           0\n",
              "\n",
              "[5 rows x 31 columns]"
            ]
          },
          "metadata": {
            "tags": []
          },
          "execution_count": 4
        }
      ]
    },
    {
      "cell_type": "code",
      "metadata": {
        "colab": {
          "base_uri": "https://localhost:8080/"
        },
        "id": "8_yVTkZ4v_2E",
        "outputId": "ffc7cbf6-a04a-4ea6-acbb-c76ece63f71f"
      },
      "source": [
        "len(df.columns)"
      ],
      "execution_count": 5,
      "outputs": [
        {
          "output_type": "execute_result",
          "data": {
            "text/plain": [
              "31"
            ]
          },
          "metadata": {
            "tags": []
          },
          "execution_count": 5
        }
      ]
    },
    {
      "cell_type": "code",
      "metadata": {
        "id": "GQnSzOaBuvDC"
      },
      "source": [
        "df = df.values\n",
        "X, y = df[:,0:29], df[:,30]"
      ],
      "execution_count": 6,
      "outputs": []
    },
    {
      "cell_type": "code",
      "metadata": {
        "colab": {
          "base_uri": "https://localhost:8080/"
        },
        "id": "L4-8xQHnZExb",
        "outputId": "aef4ceaa-16eb-4c5c-c0b1-f62f5ea00725"
      },
      "source": [
        "print(X.shape)"
      ],
      "execution_count": 7,
      "outputs": [
        {
          "output_type": "stream",
          "text": [
            "(260186, 29)\n"
          ],
          "name": "stdout"
        }
      ]
    },
    {
      "cell_type": "code",
      "metadata": {
        "id": "Goez4hEVuW6R"
      },
      "source": [
        "from sklearn.preprocessing import MinMaxScaler\n",
        "scaler = MinMaxScaler(feature_range=(0,1))\n",
        "newX = scaler.fit_transform(X)\n",
        "X_train, X_test, y_train, y_test = train_test_split(newX,y,test_size=0.33)"
      ],
      "execution_count": 8,
      "outputs": []
    },
    {
      "cell_type": "markdown",
      "metadata": {
        "id": "xhWXf6D0789A"
      },
      "source": [
        "# Logistic Regression"
      ]
    },
    {
      "cell_type": "code",
      "metadata": {
        "colab": {
          "base_uri": "https://localhost:8080/"
        },
        "id": "43Ie5pVAwrsf",
        "outputId": "6ed7258b-c7ae-4623-92ac-f090d043bac8"
      },
      "source": [
        "logreg = LogisticRegression()\n",
        "logreg.fit(X_train,y_train)"
      ],
      "execution_count": 11,
      "outputs": [
        {
          "output_type": "stream",
          "text": [
            "/usr/local/lib/python3.6/dist-packages/sklearn/linear_model/_logistic.py:940: ConvergenceWarning: lbfgs failed to converge (status=1):\n",
            "STOP: TOTAL NO. of ITERATIONS REACHED LIMIT.\n",
            "\n",
            "Increase the number of iterations (max_iter) or scale the data as shown in:\n",
            "    https://scikit-learn.org/stable/modules/preprocessing.html\n",
            "Please also refer to the documentation for alternative solver options:\n",
            "    https://scikit-learn.org/stable/modules/linear_model.html#logistic-regression\n",
            "  extra_warning_msg=_LOGISTIC_SOLVER_CONVERGENCE_MSG)\n"
          ],
          "name": "stderr"
        },
        {
          "output_type": "execute_result",
          "data": {
            "text/plain": [
              "LogisticRegression(C=1.0, class_weight=None, dual=False, fit_intercept=True,\n",
              "                   intercept_scaling=1, l1_ratio=None, max_iter=100,\n",
              "                   multi_class='auto', n_jobs=None, penalty='l2',\n",
              "                   random_state=None, solver='lbfgs', tol=0.0001, verbose=0,\n",
              "                   warm_start=False)"
            ]
          },
          "metadata": {
            "tags": []
          },
          "execution_count": 11
        }
      ]
    },
    {
      "cell_type": "code",
      "metadata": {
        "colab": {
          "base_uri": "https://localhost:8080/",
          "height": 572
        },
        "id": "1vd5otW-yYmO",
        "outputId": "a54d5e92-8dff-43b6-a6db-7f215fdde670"
      },
      "source": [
        "from sklearn.metrics import confusion_matrix\n",
        "from sklearn.metrics import classification_report\n",
        "\n",
        "y_pred = logreg.predict(X_test)\n",
        "print(\"Evaluation metrics of logistic regression classifier: \", logreg.score(X_test, y_test))\n",
        "\n",
        "conf_mat = confusion_matrix(y_test,y_pred)\n",
        "print(conf_mat)\n",
        "print(classification_report(y_test, y_pred))\n",
        "\n",
        "#Visualizing Confusion Matrix\n",
        "f, ax = plt.subplots(figsize=(5,5))\n",
        "sns.heatmap(conf_mat,annot=True,fmt=\".0f\",ax=ax, cmap=plt.cm.GnBu)\n",
        "plt.xlabel(\"Predicted Values\")\n",
        "plt.ylabel(\"True Values\")\n",
        "plt.show()"
      ],
      "execution_count": 12,
      "outputs": [
        {
          "output_type": "stream",
          "text": [
            "Evaluation metrics of logistic regression classifier:  0.8430970627285644\n",
            "[[56201     6  5285]\n",
            " [ 1352  2548   271]\n",
            " [ 6530    28 13641]]\n",
            "              precision    recall  f1-score   support\n",
            "\n",
            "         0.0       0.88      0.91      0.90     61492\n",
            "         1.0       0.99      0.61      0.75      4171\n",
            "         2.0       0.71      0.68      0.69     20199\n",
            "\n",
            "    accuracy                           0.84     85862\n",
            "   macro avg       0.86      0.73      0.78     85862\n",
            "weighted avg       0.84      0.84      0.84     85862\n",
            "\n"
          ],
          "name": "stdout"
        },
        {
          "output_type": "display_data",
          "data": {
            "image/png": "[encoded data removed]",
            "text/plain": [
              "<Figure size 360x360 with 2 Axes>"
            ]
          },
          "metadata": {
            "tags": [],
            "needs_background": "light"
          }
        }
      ]
    },
    {
      "cell_type": "markdown",
      "metadata": {
        "id": "eLk8QSr075Ql"
      },
      "source": [
        "# Naive Bayes"
      ]
    },
    {
      "cell_type": "code",
      "metadata": {
        "colab": {
          "base_uri": "https://localhost:8080/",
          "height": 351
        },
        "id": "b-wcAMyhyfzV",
        "outputId": "ec0d939c-0766-4af3-a107-7084de7b3a7e"
      },
      "source": [
        "from sklearn.naive_bayes import GaussianNB\n",
        "\n",
        "\n",
        "naive_bayes = GaussianNB()\n",
        "naive_bayes.fit(X_test,y_test)\n",
        "print(\"Naive Bayes Classification Score: {}\".format(naive_bayes.score(X_test,y_test)))\n",
        "\n",
        "\n",
        "y_pred = naive_bayes.predict(X_test)\n",
        "conf_mat = confusion_matrix(y_test,y_pred)\n",
        "\n",
        "#Visualizing Confusion Matrix\n",
        "f, ax = plt.subplots(figsize=(5,5))\n",
        "sns.heatmap(conf_mat,annot=True,fmt=\".0f\",ax=ax, cmap=plt.cm.GnBu)\n",
        "plt.xlabel(\"Predicted Values\")\n",
        "plt.ylabel(\"True Values\")\n",
        "plt.show()"
      ],
      "execution_count": 13,
      "outputs": [
        {
          "output_type": "stream",
          "text": [
            "Naive Bayes Classification Score: 0.8174046726141949\n"
          ],
          "name": "stdout"
        },
        {
          "output_type": "display_data",
          "data": {
            "image/png": "[encoded data removed]",
            "text/plain": [
              "<Figure size 360x360 with 2 Axes>"
            ]
          },
          "metadata": {
            "tags": [],
            "needs_background": "light"
          }
        }
      ]
    },
    {
      "cell_type": "markdown",
      "metadata": {
        "id": "RYINx0tzZlLj"
      },
      "source": [
        "# Decision Tree"
      ]
    },
    {
      "cell_type": "code",
      "metadata": {
        "colab": {
          "base_uri": "https://localhost:8080/",
          "height": 606
        },
        "id": "_KAnuGgLZk8W",
        "outputId": "b6e7ebc7-bdeb-496e-e347-fdd7a427cc46"
      },
      "source": [
        "from sklearn.tree import DecisionTreeClassifier\n",
        "from sklearn.metrics import confusion_matrix, classification_report\n",
        "dtc = DecisionTreeClassifier()\n",
        "dtc.fit(X_train, y_train)\n",
        " \n",
        "y_pred_new = dtc.predict(X_test)\n",
        " \n",
        "\n",
        "print(\"Evaluation metrics of decision tree classifier: \")\n",
        " \n",
        "cm = confusion_matrix(y_test, y_pred_new)\n",
        "print(cm)\n",
        "print(classification_report(y_test, y_pred_new))\n",
        "sens = cm[0,0] / (cm[0,0] + cm[0,1])\n",
        "spec = cm[1,1] / (cm[1,0] + cm[1,1])\n",
        "\n",
        "#Visualizing Confusion Matrix\n",
        "f, ax = plt.subplots(figsize=(5,5))\n",
        "sns.heatmap(cm,annot=True,fmt=\".0f\",ax=ax, cmap=plt.cm.GnBu)\n",
        "plt.xlabel(\"Predicted Values\")\n",
        "plt.ylabel(\"True Values\")\n",
        "plt.show()\n",
        "\n",
        "print(\"Sensitivity: \", sens)\n",
        "print(\"Specificity: \", spec)"
      ],
      "execution_count": 12,
      "outputs": [
        {
          "output_type": "stream",
          "text": [
            "Evaluation metrics of decision tree classifier: \n",
            "[[57633   389  3659]\n",
            " [  315  3593   140]\n",
            " [ 3600   112 16421]]\n",
            "              precision    recall  f1-score   support\n",
            "\n",
            "         0.0       0.94      0.93      0.94     61681\n",
            "         1.0       0.88      0.89      0.88      4048\n",
            "         2.0       0.81      0.82      0.81     20133\n",
            "\n",
            "    accuracy                           0.90     85862\n",
            "   macro avg       0.88      0.88      0.88     85862\n",
            "weighted avg       0.90      0.90      0.90     85862\n",
            "\n"
          ],
          "name": "stdout"
        },
        {
          "output_type": "display_data",
          "data": {
            "image/png": "[encoded data removed]",
            "text/plain": [
              "<Figure size 360x360 with 2 Axes>"
            ]
          },
          "metadata": {
            "tags": [],
            "needs_background": "light"
          }
        },
        {
          "output_type": "stream",
          "text": [
            "Sensitivity:  0.9932956464789218\n",
            "Specificity:  0.9193961105424769\n"
          ],
          "name": "stdout"
        }
      ]
    },
    {
      "cell_type": "markdown",
      "metadata": {
        "id": "BqYHVE9w7u3P"
      },
      "source": [
        "# K-Nearest Neighbors"
      ]
    },
    {
      "cell_type": "code",
      "metadata": {
        "colab": {
          "base_uri": "https://localhost:8080/",
          "height": 351
        },
        "id": "eODcUdVK6ePr",
        "outputId": "202c215e-e4a8-47bf-a8bc-a9801b777c18"
      },
      "source": [
        "from sklearn.neighbors import KNeighborsClassifier\n",
        "\n",
        "\n",
        "knn = KNeighborsClassifier(n_neighbors=5)\n",
        "knn.fit(X_train,y_train)\n",
        "print(\"Score for Number of Neighbors = 5: {}\".format(knn.score(X_test,y_test)))\n",
        "\n",
        "\n",
        "y_pred = knn.predict(X_test)\n",
        "conf_mat = confusion_matrix(y_test,y_pred)\n",
        "\n",
        "#Visualizing Confusion Matrix\n",
        "f, ax = plt.subplots(figsize=(5,5))\n",
        "sns.heatmap(conf_mat,annot=True,fmt=\".0f\",ax=ax, cmap=plt.cm.GnBu)\n",
        "plt.xlabel(\"Predicted Values\")\n",
        "plt.ylabel(\"True Values\")\n",
        "plt.show()"
      ],
      "execution_count": 14,
      "outputs": [
        {
          "output_type": "stream",
          "text": [
            "Score for Number of Neighbors = 5: 0.8928979059420932\n"
          ],
          "name": "stdout"
        },
        {
          "output_type": "display_data",
          "data": {
            "image/png": "[encoded data removed]",
            "text/plain": [
              "<Figure size 360x360 with 2 Axes>"
            ]
          },
          "metadata": {
            "tags": [],
            "needs_background": "light"
          }
        }
      ]
    },
    {
      "cell_type": "markdown",
      "metadata": {
        "id": "RB-cl5bn7n9N"
      },
      "source": [
        "# Support Vector Machine"
      ]
    },
    {
      "cell_type": "code",
      "metadata": {
        "id": "438-OSkz6ePr"
      },
      "source": [
        "from sklearn.svm import SVC\n",
        "\n",
        "svm = SVC(random_state=42)\n",
        "svm.fit(X_train,y_train)\n",
        "print(\"SVM Classification Score is: {}\".format(svm.score(X_test,y_test)))\n",
        "\n",
        "\n",
        "y_pred = svm.predict(X_test)\n",
        "conf_mat = confusion_matrix(y_test,y_pred)\n",
        "\n",
        "#Visualizing Confusion Matrix\n",
        "f, ax = plt.subplots(figsize=(5,5))\n",
        "sns.heatmap(conf_mat,annot=True,fmt=\".0f\",ax=ax, cmap=plt.cm.GnBu)\n",
        "plt.xlabel(\"Predicted Values\")\n",
        "plt.ylabel(\"True Values\")\n",
        "plt.show()"
      ],
      "execution_count": null,
      "outputs": []
    },
    {
      "cell_type": "markdown",
      "metadata": {
        "id": "IT053QFL7j0q"
      },
      "source": [
        "# Artificial Neural Network"
      ]
    },
    {
      "cell_type": "code",
      "metadata": {
        "colab": {
          "base_uri": "https://localhost:8080/"
        },
        "id": "1xKYyppV6ePr",
        "outputId": "d40f9452-81c4-4df5-b822-76bf144a4be1"
      },
      "source": [
        "from keras.wrappers.scikit_learn import KerasClassifier\n",
        "from sklearn.model_selection import cross_val_score\n",
        "from keras.models import Sequential # initialize neural network library\n",
        "from keras.layers import Dense # build our layers library\n",
        "def build_classifier():\n",
        "    classifier = Sequential() # initialize neural network\n",
        "    classifier.add(Dense(units = 50, kernel_initializer = 'uniform', activation = 'relu', input_dim = X_train.shape[1]))\n",
        "    classifier.add(Dense(units = 10, kernel_initializer = 'uniform', activation = 'relu'))\n",
        "    classifier.add(Dense(units = 1, kernel_initializer = 'uniform', activation = 'sigmoid'))\n",
        "    classifier.compile(optimizer = 'adam', loss = 'binary_crossentropy', metrics = ['accuracy'])\n",
        "    return classifier\n",
        "classifier = KerasClassifier(build_fn = build_classifier, epochs = 10)\n",
        "accuracies = cross_val_score(estimator = classifier, X = X_train, y = y_train, cv = 3)\n",
        "mean = accuracies.mean()\n",
        "variance = accuracies.std()\n",
        "print(\"Accuracy mean: \"+ str(mean))\n",
        "print(\"Accuracy variance: \"+ str(variance))"
      ],
      "execution_count": 13,
      "outputs": [
        {
          "output_type": "stream",
          "text": [
            "Epoch 1/10\n",
            "3632/3632 [==============================] - 4s 1ms/step - loss: -26.7930 - accuracy: 0.5076\n",
            "Epoch 2/10\n",
            "3632/3632 [==============================] - 4s 1ms/step - loss: -273.1705 - accuracy: 0.5033\n",
            "Epoch 3/10\n",
            "3632/3632 [==============================] - 4s 1ms/step - loss: -932.8842 - accuracy: 0.5033\n",
            "Epoch 4/10\n",
            "3632/3632 [==============================] - 4s 1ms/step - loss: -2142.1450 - accuracy: 0.5033\n",
            "Epoch 5/10\n",
            "3632/3632 [==============================] - 4s 1ms/step - loss: -4049.3003 - accuracy: 0.5027\n",
            "Epoch 6/10\n",
            "3632/3632 [==============================] - 4s 1ms/step - loss: -6774.0000 - accuracy: 0.5032\n",
            "Epoch 7/10\n",
            "3632/3632 [==============================] - 4s 1ms/step - loss: -10492.9004 - accuracy: 0.5033\n",
            "Epoch 8/10\n",
            "3632/3632 [==============================] - 4s 1ms/step - loss: -15325.7314 - accuracy: 0.5031\n",
            "Epoch 9/10\n",
            "3632/3632 [==============================] - 4s 1ms/step - loss: -21436.2480 - accuracy: 0.5038\n",
            "Epoch 10/10\n",
            "3632/3632 [==============================] - 4s 1ms/step - loss: -28849.5742 - accuracy: 0.5031\n",
            "1816/1816 [==============================] - 2s 826us/step - loss: -34165.6523 - accuracy: 0.4989\n",
            "Epoch 1/10\n",
            "3632/3632 [==============================] - 4s 1ms/step - loss: -294.3353 - accuracy: 0.5249\n",
            "Epoch 2/10\n",
            "3632/3632 [==============================] - 4s 1ms/step - loss: -3438.4995 - accuracy: 0.5314\n",
            "Epoch 3/10\n",
            "3632/3632 [==============================] - 4s 1ms/step - loss: -11934.5967 - accuracy: 0.5276\n",
            "Epoch 4/10\n",
            "3632/3632 [==============================] - 4s 1ms/step - loss: -27510.3887 - accuracy: 0.5260\n",
            "Epoch 5/10\n",
            "3632/3632 [==============================] - 5s 1ms/step - loss: -52262.0547 - accuracy: 0.5253\n",
            "Epoch 6/10\n",
            "3632/3632 [==============================] - 4s 1ms/step - loss: -87878.6797 - accuracy: 0.5246\n",
            "Epoch 7/10\n",
            "3632/3632 [==============================] - 4s 1ms/step - loss: -135821.8438 - accuracy: 0.5240\n",
            "Epoch 8/10\n",
            "3632/3632 [==============================] - 4s 1ms/step - loss: -198009.5312 - accuracy: 0.5231\n",
            "Epoch 9/10\n",
            "3632/3632 [==============================] - 4s 1ms/step - loss: -275704.3438 - accuracy: 0.5222\n",
            "Epoch 10/10\n",
            "3632/3632 [==============================] - 4s 1ms/step - loss: -370659.9375 - accuracy: 0.5222\n",
            "1816/1816 [==============================] - 1s 804us/step - loss: -417854.6562 - accuracy: 0.5171\n",
            "Epoch 1/10\n",
            "3632/3632 [==============================] - 4s 1ms/step - loss: -163.2903 - accuracy: 0.5248\n",
            "Epoch 2/10\n",
            "3632/3632 [==============================] - 4s 1ms/step - loss: -1918.2147 - accuracy: 0.5289\n",
            "Epoch 3/10\n",
            "3632/3632 [==============================] - 4s 1ms/step - loss: -6671.9131 - accuracy: 0.5295\n",
            "Epoch 4/10\n",
            "3632/3632 [==============================] - 4s 1ms/step - loss: -15475.4912 - accuracy: 0.5297\n",
            "Epoch 5/10\n",
            "3632/3632 [==============================] - 4s 1ms/step - loss: -29211.9375 - accuracy: 0.5284\n",
            "Epoch 6/10\n",
            "3632/3632 [==============================] - 4s 1ms/step - loss: -49057.0898 - accuracy: 0.5284\n",
            "Epoch 7/10\n",
            "3632/3632 [==============================] - 4s 1ms/step - loss: -75637.5938 - accuracy: 0.5272\n",
            "Epoch 8/10\n",
            "3632/3632 [==============================] - 4s 1ms/step - loss: -110308.7891 - accuracy: 0.5282\n",
            "Epoch 9/10\n",
            "3632/3632 [==============================] - 4s 1ms/step - loss: -153624.6250 - accuracy: 0.5274\n",
            "Epoch 10/10\n",
            "3632/3632 [==============================] - 4s 1ms/step - loss: -206715.2344 - accuracy: 0.5274\n",
            "1816/1816 [==============================] - 1s 811us/step - loss: -233145.9688 - accuracy: 0.5313\n",
            "Accuracy mean: 0.5157637596130371\n",
            "Accuracy variance: 0.013264248538944846\n"
          ],
          "name": "stdout"
        }
      ]
    },
    {
      "cell_type": "markdown",
      "metadata": {
        "id": "SV_BXo47eW1r"
      },
      "source": [
        "# Random Forest"
      ]
    },
    {
      "cell_type": "markdown",
      "metadata": {
        "id": "l7s36qQTaEo3"
      },
      "source": [
        "\n",
        "\n",
        "*   ROC Curve\n",
        "*   Bar plot for accuracy values\n",
        "\n"
      ]
    }
  ]
}