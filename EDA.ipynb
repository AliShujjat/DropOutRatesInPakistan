{
  "nbformat": 4,
  "nbformat_minor": 0,
  "metadata": {
    "colab": {
      "name": "Untitled8.ipynb",
      "provenance": [],
      "collapsed_sections": [],
      "authorship_tag": "ABX9TyMJBP4ZI8Fah6tVzNJnMTWI",
      "include_colab_link": true
    },
    "kernelspec": {
      "name": "python3",
      "display_name": "Python 3"
    }
  },
  "cells": [
    {
      "cell_type": "markdown",
      "metadata": {
        "id": "view-in-github",
        "colab_type": "text"
      },
      "source": [
        "<a href=\"https://colab.research.google.com/github/AliShujjat/DropOutRatesInPakistan/blob/main/EDA.ipynb\" target=\"_parent\"><img src=\"https://colab.research.google.com/assets/colab-badge.svg\" alt=\"Open In Colab\"/></a>"
      ]
    },
    {
      "cell_type": "code",
      "metadata": {
        "colab": {
          "base_uri": "https://localhost:8080/"
        },
        "id": "YXcb_e5e3jW1",
        "outputId": "b703909e-604d-4ce7-9a10-116608dcfc5f"
      },
      "source": [
        "#Retrieving the data from Google Drive\n",
        "from google.colab import drive\n",
        "drive.mount('/content/drive')\n",
        "!cp \"/content/drive/My Drive/Edu/Edu4.csv\" \"Edu4.csv\""
      ],
      "execution_count": 38,
      "outputs": [
        {
          "output_type": "stream",
          "text": [
            "Drive already mounted at /content/drive; to attempt to forcibly remount, call drive.mount(\"/content/drive\", force_remount=True).\n"
          ],
          "name": "stdout"
        }
      ]
    },
    {
      "cell_type": "code",
      "metadata": {
        "id": "KyhC4sqR4x5w"
      },
      "source": [
        "import numpy as np\n",
        "import pandas as pd\n",
        "import matplotlib.pyplot as pyplt\n",
        "import math as math\n",
        "import seaborn as sns\n",
        "from scipy import stats"
      ],
      "execution_count": 61,
      "outputs": []
    },
    {
      "cell_type": "code",
      "metadata": {
        "colab": {
          "base_uri": "https://localhost:8080/",
          "height": 411
        },
        "id": "_DeMqdOO4yG6",
        "outputId": "75d71d95-0bee-49e4-fbe5-b8680ff1b1aa"
      },
      "source": [
        "data = pd.read_csv('Edu4.csv')\n",
        "data.head()"
      ],
      "execution_count": 40,
      "outputs": [
        {
          "output_type": "execute_result",
          "data": {
            "text/html": [
              "<div>\n",
              "<style scoped>\n",
              "    .dataframe tbody tr th:only-of-type {\n",
              "        vertical-align: middle;\n",
              "    }\n",
              "\n",
              "    .dataframe tbody tr th {\n",
              "        vertical-align: top;\n",
              "    }\n",
              "\n",
              "    .dataframe thead th {\n",
              "        text-align: right;\n",
              "    }\n",
              "</style>\n",
              "<table border=\"1\" class=\"dataframe\">\n",
              "  <thead>\n",
              "    <tr style=\"text-align: right;\">\n",
              "      <th></th>\n",
              "      <th>Unnamed: 0</th>\n",
              "      <th>If Drop-out, studied up-to which class</th>\n",
              "      <th>Edu status</th>\n",
              "      <th>Age of Child</th>\n",
              "      <th>Reasons for dropout</th>\n",
              "      <th>English Reading Level</th>\n",
              "      <th>Age of father (completed years)</th>\n",
              "      <th>Reading in local language</th>\n",
              "      <th>Age of mother (completed years)</th>\n",
              "      <th>Arithmetic Levels</th>\n",
              "      <th>Total number of surviving children (LESS THAN 17) of mother</th>\n",
              "      <th>Male members of household</th>\n",
              "      <th>Female members of household</th>\n",
              "      <th>Gender</th>\n",
              "      <th>Is bonus math question 1 attempted correctly?</th>\n",
              "      <th>Unique ID of government school</th>\n",
              "      <th>Name of the District</th>\n",
              "      <th>Total children present on day of visit</th>\n",
              "      <th>Year of school establishment</th>\n",
              "      <th>Local Language of the Village</th>\n",
              "      <th>Total number of enrolled children</th>\n",
              "      <th>Availability of Motorcycles/Bikes</th>\n",
              "      <th>Economic Profile</th>\n",
              "      <th>Total number of government schools in surveyed village</th>\n",
              "      <th>Is electricity available at school?</th>\n",
              "      <th>Type of Household</th>\n",
              "      <th>Currently Enrolled: Institution type</th>\n",
              "      <th>Name of Province/Territory</th>\n",
              "      <th>Current Class-Grade of Child</th>\n",
              "    </tr>\n",
              "  </thead>\n",
              "  <tbody>\n",
              "    <tr>\n",
              "      <th>0</th>\n",
              "      <td>0</td>\n",
              "      <td>5</td>\n",
              "      <td>Never Enrolled</td>\n",
              "      <td>3.0</td>\n",
              "      <td>Poverty</td>\n",
              "      <td>Beginner</td>\n",
              "      <td>40.0</td>\n",
              "      <td>Story</td>\n",
              "      <td>36.0</td>\n",
              "      <td>Division</td>\n",
              "      <td>4.0</td>\n",
              "      <td>5.0</td>\n",
              "      <td>1.0</td>\n",
              "      <td>male</td>\n",
              "      <td>-1.0</td>\n",
              "      <td>4792.0</td>\n",
              "      <td>Poonch</td>\n",
              "      <td>50.0</td>\n",
              "      <td>1977.0</td>\n",
              "      <td>HINDKO</td>\n",
              "      <td>54.0</td>\n",
              "      <td>0.0</td>\n",
              "      <td>Poor</td>\n",
              "      <td>2.0</td>\n",
              "      <td>0.0</td>\n",
              "      <td>pucca</td>\n",
              "      <td>Government</td>\n",
              "      <td>Azad Jammu and Kashmir</td>\n",
              "      <td>2</td>\n",
              "    </tr>\n",
              "    <tr>\n",
              "      <th>1</th>\n",
              "      <td>1</td>\n",
              "      <td>5</td>\n",
              "      <td>Currently Enrolled</td>\n",
              "      <td>5.0</td>\n",
              "      <td>Poverty</td>\n",
              "      <td>Words</td>\n",
              "      <td>35.0</td>\n",
              "      <td>Words</td>\n",
              "      <td>30.0</td>\n",
              "      <td>Division</td>\n",
              "      <td>2.0</td>\n",
              "      <td>2.0</td>\n",
              "      <td>2.0</td>\n",
              "      <td>female</td>\n",
              "      <td>-1.0</td>\n",
              "      <td>4792.0</td>\n",
              "      <td>Poonch</td>\n",
              "      <td>50.0</td>\n",
              "      <td>1977.0</td>\n",
              "      <td>HINDKO</td>\n",
              "      <td>54.0</td>\n",
              "      <td>0.0</td>\n",
              "      <td>Rich</td>\n",
              "      <td>2.0</td>\n",
              "      <td>0.0</td>\n",
              "      <td>Semi pucca</td>\n",
              "      <td>Government</td>\n",
              "      <td>Azad Jammu and Kashmir</td>\n",
              "      <td>2</td>\n",
              "    </tr>\n",
              "    <tr>\n",
              "      <th>2</th>\n",
              "      <td>2</td>\n",
              "      <td>5</td>\n",
              "      <td>Currently Enrolled</td>\n",
              "      <td>5.0</td>\n",
              "      <td>Poverty</td>\n",
              "      <td>Small letters</td>\n",
              "      <td>70.0</td>\n",
              "      <td>Letters</td>\n",
              "      <td>65.0</td>\n",
              "      <td>Recognition of 10-99</td>\n",
              "      <td>3.0</td>\n",
              "      <td>6.0</td>\n",
              "      <td>3.0</td>\n",
              "      <td>female</td>\n",
              "      <td>0.0</td>\n",
              "      <td>4792.0</td>\n",
              "      <td>Poonch</td>\n",
              "      <td>50.0</td>\n",
              "      <td>1977.0</td>\n",
              "      <td>HINDKO</td>\n",
              "      <td>54.0</td>\n",
              "      <td>0.0</td>\n",
              "      <td>Rich</td>\n",
              "      <td>2.0</td>\n",
              "      <td>0.0</td>\n",
              "      <td>Semi pucca</td>\n",
              "      <td>Government</td>\n",
              "      <td>Azad Jammu and Kashmir</td>\n",
              "      <td>Nursery</td>\n",
              "    </tr>\n",
              "    <tr>\n",
              "      <th>3</th>\n",
              "      <td>3</td>\n",
              "      <td>5</td>\n",
              "      <td>Currently Enrolled</td>\n",
              "      <td>10.0</td>\n",
              "      <td>Poverty</td>\n",
              "      <td>NaN</td>\n",
              "      <td>50.0</td>\n",
              "      <td>Story</td>\n",
              "      <td>45.0</td>\n",
              "      <td>Division</td>\n",
              "      <td>3.0</td>\n",
              "      <td>2.0</td>\n",
              "      <td>3.0</td>\n",
              "      <td>male</td>\n",
              "      <td>-1.0</td>\n",
              "      <td>4792.0</td>\n",
              "      <td>Poonch</td>\n",
              "      <td>50.0</td>\n",
              "      <td>1977.0</td>\n",
              "      <td>HINDKO</td>\n",
              "      <td>54.0</td>\n",
              "      <td>1.0</td>\n",
              "      <td>Richest</td>\n",
              "      <td>2.0</td>\n",
              "      <td>0.0</td>\n",
              "      <td>Semi pucca</td>\n",
              "      <td>Government</td>\n",
              "      <td>Azad Jammu and Kashmir</td>\n",
              "      <td>3</td>\n",
              "    </tr>\n",
              "    <tr>\n",
              "      <th>4</th>\n",
              "      <td>4</td>\n",
              "      <td>5</td>\n",
              "      <td>Currently Enrolled</td>\n",
              "      <td>4.0</td>\n",
              "      <td>Poverty</td>\n",
              "      <td>Beginner</td>\n",
              "      <td>40.0</td>\n",
              "      <td>Story</td>\n",
              "      <td>30.0</td>\n",
              "      <td>Division</td>\n",
              "      <td>3.0</td>\n",
              "      <td>3.0</td>\n",
              "      <td>2.0</td>\n",
              "      <td>male</td>\n",
              "      <td>-1.0</td>\n",
              "      <td>4792.0</td>\n",
              "      <td>Poonch</td>\n",
              "      <td>50.0</td>\n",
              "      <td>1977.0</td>\n",
              "      <td>HINDKO</td>\n",
              "      <td>54.0</td>\n",
              "      <td>0.0</td>\n",
              "      <td>Poor</td>\n",
              "      <td>2.0</td>\n",
              "      <td>0.0</td>\n",
              "      <td>pucca</td>\n",
              "      <td>Private</td>\n",
              "      <td>Azad Jammu and Kashmir</td>\n",
              "      <td>Nursery</td>\n",
              "    </tr>\n",
              "  </tbody>\n",
              "</table>\n",
              "</div>"
            ],
            "text/plain": [
              "   Unnamed: 0  ... Current Class-Grade of Child\n",
              "0           0  ...                            2\n",
              "1           1  ...                            2\n",
              "2           2  ...                      Nursery\n",
              "3           3  ...                            3\n",
              "4           4  ...                      Nursery\n",
              "\n",
              "[5 rows x 29 columns]"
            ]
          },
          "metadata": {
            "tags": []
          },
          "execution_count": 40
        }
      ]
    },
    {
      "cell_type": "code",
      "metadata": {
        "colab": {
          "base_uri": "https://localhost:8080/"
        },
        "id": "hhcTLrOZ4ySZ",
        "outputId": "34c03058-7f5c-487c-a370-c760aa135a41"
      },
      "source": [
        "data.shape"
      ],
      "execution_count": 41,
      "outputs": [
        {
          "output_type": "execute_result",
          "data": {
            "text/plain": [
              "(260186, 29)"
            ]
          },
          "metadata": {
            "tags": []
          },
          "execution_count": 41
        }
      ]
    },
    {
      "cell_type": "code",
      "metadata": {
        "colab": {
          "base_uri": "https://localhost:8080/"
        },
        "id": "V4ag-7CM4yXM",
        "outputId": "22959064-f44e-455d-e6c0-901897e70c50"
      },
      "source": [
        "data.dtypes"
      ],
      "execution_count": 42,
      "outputs": [
        {
          "output_type": "execute_result",
          "data": {
            "text/plain": [
              "Unnamed: 0                                                       int64\n",
              "If Drop-out, studied up-to which class                          object\n",
              "Edu status                                                      object\n",
              "Age of Child                                                   float64\n",
              "Reasons for dropout                                             object\n",
              "English Reading Level                                           object\n",
              "Age of father (completed years)                                float64\n",
              "Reading in local language                                       object\n",
              "Age of mother (completed years)                                float64\n",
              "Arithmetic Levels                                               object\n",
              "Total number of surviving children (LESS THAN 17) of mother    float64\n",
              "Male members of household                                      float64\n",
              "Female members of household                                    float64\n",
              "Gender                                                          object\n",
              "Is bonus math question 1 attempted correctly?                  float64\n",
              "Unique ID of government school                                 float64\n",
              "Name of the District                                            object\n",
              "Total children present on day of visit                         float64\n",
              "Year of school establishment                                   float64\n",
              "Local Language of the Village                                   object\n",
              "Total number of enrolled children                              float64\n",
              "Availability of Motorcycles/Bikes                              float64\n",
              "Economic Profile                                                object\n",
              "Total number of government schools in surveyed village         float64\n",
              "Is electricity available at school?                            float64\n",
              "Type of Household                                               object\n",
              "Currently Enrolled: Institution type                            object\n",
              "Name of Province/Territory                                      object\n",
              "Current Class-Grade of Child                                    object\n",
              "dtype: object"
            ]
          },
          "metadata": {
            "tags": []
          },
          "execution_count": 42
        }
      ]
    },
    {
      "cell_type": "code",
      "metadata": {
        "colab": {
          "base_uri": "https://localhost:8080/"
        },
        "id": "c4-G0GxscHAQ",
        "outputId": "e6e92597-467a-49b5-87b9-8b4b16e3c9b5"
      },
      "source": [
        "data.isnull().sum(axis = 0)"
      ],
      "execution_count": 43,
      "outputs": [
        {
          "output_type": "execute_result",
          "data": {
            "text/plain": [
              "Unnamed: 0                                                         0\n",
              "If Drop-out, studied up-to which class                             0\n",
              "Edu status                                                         0\n",
              "Age of Child                                                       0\n",
              "Reasons for dropout                                                0\n",
              "English Reading Level                                          49360\n",
              "Age of father (completed years)                                    0\n",
              "Reading in local language                                          0\n",
              "Age of mother (completed years)                                    0\n",
              "Arithmetic Levels                                                  0\n",
              "Total number of surviving children (LESS THAN 17) of mother        0\n",
              "Male members of household                                          0\n",
              "Female members of household                                        0\n",
              "Gender                                                             0\n",
              "Is bonus math question 1 attempted correctly?                      0\n",
              "Unique ID of government school                                     0\n",
              "Name of the District                                               0\n",
              "Total children present on day of visit                             0\n",
              "Year of school establishment                                       0\n",
              "Local Language of the Village                                      0\n",
              "Total number of enrolled children                                  0\n",
              "Availability of Motorcycles/Bikes                                  0\n",
              "Economic Profile                                                   0\n",
              "Total number of government schools in surveyed village             0\n",
              "Is electricity available at school?                                0\n",
              "Type of Household                                                  0\n",
              "Currently Enrolled: Institution type                               0\n",
              "Name of Province/Territory                                         0\n",
              "Current Class-Grade of Child                                       0\n",
              "dtype: int64"
            ]
          },
          "metadata": {
            "tags": []
          },
          "execution_count": 43
        }
      ]
    },
    {
      "cell_type": "code",
      "metadata": {
        "colab": {
          "base_uri": "https://localhost:8080/"
        },
        "id": "zu4vfHRg7kj-",
        "outputId": "6ee50df8-19f4-4200-dd74-29827f10719e"
      },
      "source": [
        "data['If Drop-out, studied up-to which class'].astype(float, errors='ignore')"
      ],
      "execution_count": 44,
      "outputs": [
        {
          "output_type": "execute_result",
          "data": {
            "text/plain": [
              "0         5\n",
              "1         5\n",
              "2         5\n",
              "3         5\n",
              "4         5\n",
              "         ..\n",
              "260181    5\n",
              "260182    5\n",
              "260183    5\n",
              "260184    5\n",
              "260185    5\n",
              "Name: If Drop-out, studied up-to which class, Length: 260186, dtype: object"
            ]
          },
          "metadata": {
            "tags": []
          },
          "execution_count": 44
        }
      ]
    },
    {
      "cell_type": "code",
      "metadata": {
        "colab": {
          "base_uri": "https://localhost:8080/"
        },
        "id": "sebUIC9a4yaf",
        "outputId": "3c063f71-6474-4654-cc87-04b4becc5eab"
      },
      "source": [
        "data.nunique()"
      ],
      "execution_count": 45,
      "outputs": [
        {
          "output_type": "execute_result",
          "data": {
            "text/plain": [
              "Unnamed: 0                                                     260186\n",
              "If Drop-out, studied up-to which class                             30\n",
              "Edu status                                                          3\n",
              "Age of Child                                                       14\n",
              "Reasons for dropout                                                 7\n",
              "English Reading Level                                               4\n",
              "Age of father (completed years)                                    72\n",
              "Reading in local language                                           5\n",
              "Age of mother (completed years)                                    65\n",
              "Arithmetic Levels                                                   6\n",
              "Total number of surviving children (LESS THAN 17) of mother        16\n",
              "Male members of household                                          28\n",
              "Female members of household                                        21\n",
              "Gender                                                              2\n",
              "Is bonus math question 1 attempted correctly?                       2\n",
              "Unique ID of government school                                   4274\n",
              "Name of the District                                              154\n",
              "Total children present on day of visit                            659\n",
              "Year of school establishment                                       63\n",
              "Local Language of the Village                                     295\n",
              "Total number of enrolled children                                 699\n",
              "Availability of Motorcycles/Bikes                                   5\n",
              "Economic Profile                                                    4\n",
              "Total number of government schools in surveyed village              6\n",
              "Is electricity available at school?                                 2\n",
              "Type of Household                                                   3\n",
              "Currently Enrolled: Institution type                                4\n",
              "Name of Province/Territory                                          8\n",
              "Current Class-Grade of Child                                       18\n",
              "dtype: int64"
            ]
          },
          "metadata": {
            "tags": []
          },
          "execution_count": 45
        }
      ]
    },
    {
      "cell_type": "code",
      "metadata": {
        "colab": {
          "base_uri": "https://localhost:8080/",
          "height": 529
        },
        "id": "7UoRztQj4yeH",
        "outputId": "3c230d0a-3840-45c2-9d4d-9039ac10623e"
      },
      "source": [
        "data.describe(include='all')  "
      ],
      "execution_count": 46,
      "outputs": [
        {
          "output_type": "execute_result",
          "data": {
            "text/html": [
              "<div>\n",
              "<style scoped>\n",
              "    .dataframe tbody tr th:only-of-type {\n",
              "        vertical-align: middle;\n",
              "    }\n",
              "\n",
              "    .dataframe tbody tr th {\n",
              "        vertical-align: top;\n",
              "    }\n",
              "\n",
              "    .dataframe thead th {\n",
              "        text-align: right;\n",
              "    }\n",
              "</style>\n",
              "<table border=\"1\" class=\"dataframe\">\n",
              "  <thead>\n",
              "    <tr style=\"text-align: right;\">\n",
              "      <th></th>\n",
              "      <th>Unnamed: 0</th>\n",
              "      <th>If Drop-out, studied up-to which class</th>\n",
              "      <th>Edu status</th>\n",
              "      <th>Age of Child</th>\n",
              "      <th>Reasons for dropout</th>\n",
              "      <th>English Reading Level</th>\n",
              "      <th>Age of father (completed years)</th>\n",
              "      <th>Reading in local language</th>\n",
              "      <th>Age of mother (completed years)</th>\n",
              "      <th>Arithmetic Levels</th>\n",
              "      <th>Total number of surviving children (LESS THAN 17) of mother</th>\n",
              "      <th>Male members of household</th>\n",
              "      <th>Female members of household</th>\n",
              "      <th>Gender</th>\n",
              "      <th>Is bonus math question 1 attempted correctly?</th>\n",
              "      <th>Unique ID of government school</th>\n",
              "      <th>Name of the District</th>\n",
              "      <th>Total children present on day of visit</th>\n",
              "      <th>Year of school establishment</th>\n",
              "      <th>Local Language of the Village</th>\n",
              "      <th>Total number of enrolled children</th>\n",
              "      <th>Availability of Motorcycles/Bikes</th>\n",
              "      <th>Economic Profile</th>\n",
              "      <th>Total number of government schools in surveyed village</th>\n",
              "      <th>Is electricity available at school?</th>\n",
              "      <th>Type of Household</th>\n",
              "      <th>Currently Enrolled: Institution type</th>\n",
              "      <th>Name of Province/Territory</th>\n",
              "      <th>Current Class-Grade of Child</th>\n",
              "    </tr>\n",
              "  </thead>\n",
              "  <tbody>\n",
              "    <tr>\n",
              "      <th>count</th>\n",
              "      <td>260186.000000</td>\n",
              "      <td>260186</td>\n",
              "      <td>260186</td>\n",
              "      <td>260186.000000</td>\n",
              "      <td>260186</td>\n",
              "      <td>210826</td>\n",
              "      <td>260186.000000</td>\n",
              "      <td>260186</td>\n",
              "      <td>260186.000000</td>\n",
              "      <td>260186</td>\n",
              "      <td>260186.000000</td>\n",
              "      <td>260186.000000</td>\n",
              "      <td>260186.000000</td>\n",
              "      <td>260186</td>\n",
              "      <td>260186.000000</td>\n",
              "      <td>260186.000000</td>\n",
              "      <td>260186</td>\n",
              "      <td>260186.000000</td>\n",
              "      <td>260186.000000</td>\n",
              "      <td>260186</td>\n",
              "      <td>260186.000000</td>\n",
              "      <td>260186.000000</td>\n",
              "      <td>260186</td>\n",
              "      <td>260186.000000</td>\n",
              "      <td>260186.000000</td>\n",
              "      <td>260186</td>\n",
              "      <td>260186</td>\n",
              "      <td>260186</td>\n",
              "      <td>260186</td>\n",
              "    </tr>\n",
              "    <tr>\n",
              "      <th>unique</th>\n",
              "      <td>NaN</td>\n",
              "      <td>30</td>\n",
              "      <td>3</td>\n",
              "      <td>NaN</td>\n",
              "      <td>7</td>\n",
              "      <td>4</td>\n",
              "      <td>NaN</td>\n",
              "      <td>5</td>\n",
              "      <td>NaN</td>\n",
              "      <td>6</td>\n",
              "      <td>NaN</td>\n",
              "      <td>NaN</td>\n",
              "      <td>NaN</td>\n",
              "      <td>2</td>\n",
              "      <td>NaN</td>\n",
              "      <td>NaN</td>\n",
              "      <td>154</td>\n",
              "      <td>NaN</td>\n",
              "      <td>NaN</td>\n",
              "      <td>295</td>\n",
              "      <td>NaN</td>\n",
              "      <td>NaN</td>\n",
              "      <td>4</td>\n",
              "      <td>NaN</td>\n",
              "      <td>NaN</td>\n",
              "      <td>3</td>\n",
              "      <td>4</td>\n",
              "      <td>8</td>\n",
              "      <td>18</td>\n",
              "    </tr>\n",
              "    <tr>\n",
              "      <th>top</th>\n",
              "      <td>NaN</td>\n",
              "      <td>5</td>\n",
              "      <td>Currently Enrolled</td>\n",
              "      <td>NaN</td>\n",
              "      <td>Poverty</td>\n",
              "      <td>Beginner</td>\n",
              "      <td>NaN</td>\n",
              "      <td>Story</td>\n",
              "      <td>NaN</td>\n",
              "      <td>Division</td>\n",
              "      <td>NaN</td>\n",
              "      <td>NaN</td>\n",
              "      <td>NaN</td>\n",
              "      <td>male</td>\n",
              "      <td>NaN</td>\n",
              "      <td>NaN</td>\n",
              "      <td>Panjgur</td>\n",
              "      <td>NaN</td>\n",
              "      <td>NaN</td>\n",
              "      <td>PASHTO</td>\n",
              "      <td>NaN</td>\n",
              "      <td>NaN</td>\n",
              "      <td>Poor</td>\n",
              "      <td>NaN</td>\n",
              "      <td>NaN</td>\n",
              "      <td>kutcha</td>\n",
              "      <td>Government</td>\n",
              "      <td>Balochistan</td>\n",
              "      <td>2</td>\n",
              "    </tr>\n",
              "    <tr>\n",
              "      <th>freq</th>\n",
              "      <td>NaN</td>\n",
              "      <td>251196</td>\n",
              "      <td>186805</td>\n",
              "      <td>NaN</td>\n",
              "      <td>253589</td>\n",
              "      <td>124465</td>\n",
              "      <td>NaN</td>\n",
              "      <td>132547</td>\n",
              "      <td>NaN</td>\n",
              "      <td>125860</td>\n",
              "      <td>NaN</td>\n",
              "      <td>NaN</td>\n",
              "      <td>NaN</td>\n",
              "      <td>146910</td>\n",
              "      <td>NaN</td>\n",
              "      <td>NaN</td>\n",
              "      <td>3808</td>\n",
              "      <td>NaN</td>\n",
              "      <td>NaN</td>\n",
              "      <td>128349</td>\n",
              "      <td>NaN</td>\n",
              "      <td>NaN</td>\n",
              "      <td>67392</td>\n",
              "      <td>NaN</td>\n",
              "      <td>NaN</td>\n",
              "      <td>98345</td>\n",
              "      <td>215730</td>\n",
              "      <td>67706</td>\n",
              "      <td>111843</td>\n",
              "    </tr>\n",
              "    <tr>\n",
              "      <th>mean</th>\n",
              "      <td>130092.500000</td>\n",
              "      <td>NaN</td>\n",
              "      <td>NaN</td>\n",
              "      <td>8.727061</td>\n",
              "      <td>NaN</td>\n",
              "      <td>NaN</td>\n",
              "      <td>40.869555</td>\n",
              "      <td>NaN</td>\n",
              "      <td>36.144401</td>\n",
              "      <td>NaN</td>\n",
              "      <td>3.519002</td>\n",
              "      <td>3.083075</td>\n",
              "      <td>3.084632</td>\n",
              "      <td>NaN</td>\n",
              "      <td>-0.737038</td>\n",
              "      <td>111052.476194</td>\n",
              "      <td>NaN</td>\n",
              "      <td>160.647079</td>\n",
              "      <td>1987.922709</td>\n",
              "      <td>NaN</td>\n",
              "      <td>189.815482</td>\n",
              "      <td>0.662545</td>\n",
              "      <td>NaN</td>\n",
              "      <td>1.138193</td>\n",
              "      <td>0.633877</td>\n",
              "      <td>NaN</td>\n",
              "      <td>NaN</td>\n",
              "      <td>NaN</td>\n",
              "      <td>NaN</td>\n",
              "    </tr>\n",
              "    <tr>\n",
              "      <th>std</th>\n",
              "      <td>75109.372907</td>\n",
              "      <td>NaN</td>\n",
              "      <td>NaN</td>\n",
              "      <td>3.779195</td>\n",
              "      <td>NaN</td>\n",
              "      <td>NaN</td>\n",
              "      <td>8.321908</td>\n",
              "      <td>NaN</td>\n",
              "      <td>7.396435</td>\n",
              "      <td>NaN</td>\n",
              "      <td>1.558213</td>\n",
              "      <td>1.251340</td>\n",
              "      <td>1.147668</td>\n",
              "      <td>NaN</td>\n",
              "      <td>0.440243</td>\n",
              "      <td>11889.175063</td>\n",
              "      <td>NaN</td>\n",
              "      <td>195.974294</td>\n",
              "      <td>11.284562</td>\n",
              "      <td>NaN</td>\n",
              "      <td>214.571726</td>\n",
              "      <td>0.514786</td>\n",
              "      <td>NaN</td>\n",
              "      <td>1.105592</td>\n",
              "      <td>0.481744</td>\n",
              "      <td>NaN</td>\n",
              "      <td>NaN</td>\n",
              "      <td>NaN</td>\n",
              "      <td>NaN</td>\n",
              "    </tr>\n",
              "    <tr>\n",
              "      <th>min</th>\n",
              "      <td>0.000000</td>\n",
              "      <td>NaN</td>\n",
              "      <td>NaN</td>\n",
              "      <td>3.000000</td>\n",
              "      <td>NaN</td>\n",
              "      <td>NaN</td>\n",
              "      <td>20.000000</td>\n",
              "      <td>NaN</td>\n",
              "      <td>17.000000</td>\n",
              "      <td>NaN</td>\n",
              "      <td>0.000000</td>\n",
              "      <td>0.000000</td>\n",
              "      <td>0.000000</td>\n",
              "      <td>NaN</td>\n",
              "      <td>-1.000000</td>\n",
              "      <td>4792.000000</td>\n",
              "      <td>NaN</td>\n",
              "      <td>5.000000</td>\n",
              "      <td>1956.000000</td>\n",
              "      <td>NaN</td>\n",
              "      <td>10.000000</td>\n",
              "      <td>0.000000</td>\n",
              "      <td>NaN</td>\n",
              "      <td>0.000000</td>\n",
              "      <td>0.000000</td>\n",
              "      <td>NaN</td>\n",
              "      <td>NaN</td>\n",
              "      <td>NaN</td>\n",
              "      <td>NaN</td>\n",
              "    </tr>\n",
              "    <tr>\n",
              "      <th>25%</th>\n",
              "      <td>65046.250000</td>\n",
              "      <td>NaN</td>\n",
              "      <td>NaN</td>\n",
              "      <td>6.000000</td>\n",
              "      <td>NaN</td>\n",
              "      <td>NaN</td>\n",
              "      <td>35.000000</td>\n",
              "      <td>NaN</td>\n",
              "      <td>30.000000</td>\n",
              "      <td>NaN</td>\n",
              "      <td>3.000000</td>\n",
              "      <td>3.000000</td>\n",
              "      <td>3.000000</td>\n",
              "      <td>NaN</td>\n",
              "      <td>-1.000000</td>\n",
              "      <td>105869.000000</td>\n",
              "      <td>NaN</td>\n",
              "      <td>46.000000</td>\n",
              "      <td>1983.000000</td>\n",
              "      <td>NaN</td>\n",
              "      <td>61.000000</td>\n",
              "      <td>0.000000</td>\n",
              "      <td>NaN</td>\n",
              "      <td>0.000000</td>\n",
              "      <td>0.000000</td>\n",
              "      <td>NaN</td>\n",
              "      <td>NaN</td>\n",
              "      <td>NaN</td>\n",
              "      <td>NaN</td>\n",
              "    </tr>\n",
              "    <tr>\n",
              "      <th>50%</th>\n",
              "      <td>130092.500000</td>\n",
              "      <td>NaN</td>\n",
              "      <td>NaN</td>\n",
              "      <td>8.000000</td>\n",
              "      <td>NaN</td>\n",
              "      <td>NaN</td>\n",
              "      <td>40.000000</td>\n",
              "      <td>NaN</td>\n",
              "      <td>36.000000</td>\n",
              "      <td>NaN</td>\n",
              "      <td>3.000000</td>\n",
              "      <td>3.000000</td>\n",
              "      <td>3.000000</td>\n",
              "      <td>NaN</td>\n",
              "      <td>-1.000000</td>\n",
              "      <td>116946.000000</td>\n",
              "      <td>NaN</td>\n",
              "      <td>93.000000</td>\n",
              "      <td>1990.000000</td>\n",
              "      <td>NaN</td>\n",
              "      <td>119.000000</td>\n",
              "      <td>1.000000</td>\n",
              "      <td>NaN</td>\n",
              "      <td>1.000000</td>\n",
              "      <td>1.000000</td>\n",
              "      <td>NaN</td>\n",
              "      <td>NaN</td>\n",
              "      <td>NaN</td>\n",
              "      <td>NaN</td>\n",
              "    </tr>\n",
              "    <tr>\n",
              "      <th>75%</th>\n",
              "      <td>195138.750000</td>\n",
              "      <td>NaN</td>\n",
              "      <td>NaN</td>\n",
              "      <td>12.000000</td>\n",
              "      <td>NaN</td>\n",
              "      <td>NaN</td>\n",
              "      <td>45.000000</td>\n",
              "      <td>NaN</td>\n",
              "      <td>40.000000</td>\n",
              "      <td>NaN</td>\n",
              "      <td>4.000000</td>\n",
              "      <td>3.000000</td>\n",
              "      <td>3.000000</td>\n",
              "      <td>NaN</td>\n",
              "      <td>0.000000</td>\n",
              "      <td>118083.000000</td>\n",
              "      <td>NaN</td>\n",
              "      <td>197.000000</td>\n",
              "      <td>1993.000000</td>\n",
              "      <td>NaN</td>\n",
              "      <td>233.000000</td>\n",
              "      <td>1.000000</td>\n",
              "      <td>NaN</td>\n",
              "      <td>2.000000</td>\n",
              "      <td>1.000000</td>\n",
              "      <td>NaN</td>\n",
              "      <td>NaN</td>\n",
              "      <td>NaN</td>\n",
              "      <td>NaN</td>\n",
              "    </tr>\n",
              "    <tr>\n",
              "      <th>max</th>\n",
              "      <td>260185.000000</td>\n",
              "      <td>NaN</td>\n",
              "      <td>NaN</td>\n",
              "      <td>16.000000</td>\n",
              "      <td>NaN</td>\n",
              "      <td>NaN</td>\n",
              "      <td>347.000000</td>\n",
              "      <td>NaN</td>\n",
              "      <td>90.000000</td>\n",
              "      <td>NaN</td>\n",
              "      <td>15.000000</td>\n",
              "      <td>31.000000</td>\n",
              "      <td>25.000000</td>\n",
              "      <td>NaN</td>\n",
              "      <td>0.000000</td>\n",
              "      <td>139005.000000</td>\n",
              "      <td>NaN</td>\n",
              "      <td>2528.000000</td>\n",
              "      <td>2018.000000</td>\n",
              "      <td>NaN</td>\n",
              "      <td>2545.000000</td>\n",
              "      <td>4.000000</td>\n",
              "      <td>NaN</td>\n",
              "      <td>5.000000</td>\n",
              "      <td>1.000000</td>\n",
              "      <td>NaN</td>\n",
              "      <td>NaN</td>\n",
              "      <td>NaN</td>\n",
              "      <td>NaN</td>\n",
              "    </tr>\n",
              "  </tbody>\n",
              "</table>\n",
              "</div>"
            ],
            "text/plain": [
              "           Unnamed: 0  ... Current Class-Grade of Child\n",
              "count   260186.000000  ...                       260186\n",
              "unique            NaN  ...                           18\n",
              "top               NaN  ...                            2\n",
              "freq              NaN  ...                       111843\n",
              "mean    130092.500000  ...                          NaN\n",
              "std      75109.372907  ...                          NaN\n",
              "min          0.000000  ...                          NaN\n",
              "25%      65046.250000  ...                          NaN\n",
              "50%     130092.500000  ...                          NaN\n",
              "75%     195138.750000  ...                          NaN\n",
              "max     260185.000000  ...                          NaN\n",
              "\n",
              "[11 rows x 29 columns]"
            ]
          },
          "metadata": {
            "tags": []
          },
          "execution_count": 46
        }
      ]
    },
    {
      "cell_type": "code",
      "metadata": {
        "colab": {
          "base_uri": "https://localhost:8080/",
          "height": 323
        },
        "id": "p6GIT0lx4yWE",
        "outputId": "4c0c80ec-3171-4134-d1f3-c709f60a47eb"
      },
      "source": [
        "data['If Drop-out, studied up-to which class'].unique()\n",
        "#display(data['If Drop-out, studied up-to which class'].value_counts())\n",
        "\n",
        "data.replace({'If Drop-out, studied up-to which class':{'Kachi': 0.0, 'Nursery': 0.2, 'Prep': 0.4, 'PG': 0.6, 'KG': 0.8, 'ECE': 8}}, inplace = True)\n",
        "data.replace({'Current Class-Grade of Child':{'Kachi': 0.0, 'Nursery': 0.2, 'Prep': 0.4, 'PG': 0.6, 'KG': 0.8, 'ECE': 8}}, inplace = True)\n",
        "\n",
        "data['Current Class-Grade of Child'] = data['Current Class-Grade of Child'].astype(float)\n",
        "\n",
        "data['If Drop-out, studied up-to which class'] = data['If Drop-out, studied up-to which class'].astype(float)\n",
        "data.nunique()\n",
        "display(data['If Drop-out, studied up-to which class'].value_counts())"
      ],
      "execution_count": 47,
      "outputs": [
        {
          "output_type": "display_data",
          "data": {
            "text/plain": [
              "5.0     251654\n",
              "3.0       2135\n",
              "2.0       1966\n",
              "4.0       1375\n",
              "8.0        669\n",
              "1.0        563\n",
              "6.0        530\n",
              "7.0        369\n",
              "10.0       302\n",
              "9.0        160\n",
              "0.6        150\n",
              "0.0         86\n",
              "0.8         83\n",
              "0.4         81\n",
              "12.0        26\n",
              "0.2         24\n",
              "11.0        13\n",
              "Name: If Drop-out, studied up-to which class, dtype: int64"
            ]
          },
          "metadata": {
            "tags": []
          }
        }
      ]
    },
    {
      "cell_type": "code",
      "metadata": {
        "colab": {
          "base_uri": "https://localhost:8080/",
          "height": 279
        },
        "id": "2Sen9Wu5BUFn",
        "outputId": "6f94e096-b8d1-4fae-c977-9a99c941bebf"
      },
      "source": [
        "ax = sns.histplot(data['If Drop-out, studied up-to which class'])\n",
        "ax.set_yscale('log')"
      ],
      "execution_count": 48,
      "outputs": [
        {
          "output_type": "display_data",
          "data": {
            "image/png": "[encoded data removed]",
            "text/plain": [
              "<Figure size 432x288 with 1 Axes>"
            ]
          },
          "metadata": {
            "tags": [],
            "needs_background": "light"
          }
        }
      ]
    },
    {
      "cell_type": "code",
      "metadata": {
        "colab": {
          "base_uri": "https://localhost:8080/",
          "height": 283
        },
        "id": "TaRFPNw_EDas",
        "outputId": "b5159f52-81db-42a5-eef9-5df876a539cf"
      },
      "source": [
        "ax = sns.histplot(data['Age of Child'])\n",
        "ax.set_yscale('log')"
      ],
      "execution_count": 49,
      "outputs": [
        {
          "output_type": "display_data",
          "data": {
            "image/png": "[encoded data removed]",
            "text/plain": [
              "<Figure size 432x288 with 1 Axes>"
            ]
          },
          "metadata": {
            "tags": [],
            "needs_background": "light"
          }
        }
      ]
    },
    {
      "cell_type": "code",
      "metadata": {
        "colab": {
          "base_uri": "https://localhost:8080/",
          "height": 350
        },
        "id": "aUWeqmSOgS9Y",
        "outputId": "bc085ff8-79c5-47cf-8713-d0f9c3e815f1"
      },
      "source": [
        "sns.boxplot(data['Age of Child'])\n"
      ],
      "execution_count": 50,
      "outputs": [
        {
          "output_type": "stream",
          "text": [
            "/usr/local/lib/python3.6/dist-packages/seaborn/_decorators.py:43: FutureWarning: Pass the following variable as a keyword arg: x. From version 0.12, the only valid positional argument will be `data`, and passing other arguments without an explicit keyword will result in an error or misinterpretation.\n",
            "  FutureWarning\n"
          ],
          "name": "stderr"
        },
        {
          "output_type": "execute_result",
          "data": {
            "text/plain": [
              "<matplotlib.axes._subplots.AxesSubplot at 0x7ff2f3955f60>"
            ]
          },
          "metadata": {
            "tags": []
          },
          "execution_count": 50
        },
        {
          "output_type": "display_data",
          "data": {
            "image/png": "[encoded data removed]",
            "text/plain": [
              "<Figure size 432x288 with 1 Axes>"
            ]
          },
          "metadata": {
            "tags": [],
            "needs_background": "light"
          }
        }
      ]
    },
    {
      "cell_type": "code",
      "metadata": {
        "colab": {
          "base_uri": "https://localhost:8080/",
          "height": 350
        },
        "id": "88E8srfchKHn",
        "outputId": "05fcb12d-c62a-4a4b-a156-bccb66ec55aa"
      },
      "source": [
        "data['Current Class-Grade of Child'].value_counts()\n",
        "\n",
        "plt = data[data['Edu status'] == 'Currently Enrolled']\n",
        "plt['Current Class-Grade of Child'].value_counts()\n",
        "sns.boxplot(plt['Current Class-Grade of Child'])"
      ],
      "execution_count": 52,
      "outputs": [
        {
          "output_type": "stream",
          "text": [
            "/usr/local/lib/python3.6/dist-packages/seaborn/_decorators.py:43: FutureWarning: Pass the following variable as a keyword arg: x. From version 0.12, the only valid positional argument will be `data`, and passing other arguments without an explicit keyword will result in an error or misinterpretation.\n",
            "  FutureWarning\n"
          ],
          "name": "stderr"
        },
        {
          "output_type": "execute_result",
          "data": {
            "text/plain": [
              "<matplotlib.axes._subplots.AxesSubplot at 0x7ff2f39af550>"
            ]
          },
          "metadata": {
            "tags": []
          },
          "execution_count": 52
        },
        {
          "output_type": "display_data",
          "data": {
            "image/png": "[encoded data removed]",
            "text/plain": [
              "<Figure size 432x288 with 1 Axes>"
            ]
          },
          "metadata": {
            "tags": [],
            "needs_background": "light"
          }
        }
      ]
    },
    {
      "cell_type": "code",
      "metadata": {
        "colab": {
          "base_uri": "https://localhost:8080/",
          "height": 691
        },
        "id": "TFAqJ8cal-QT",
        "outputId": "8fc1c031-6885-49e3-fca4-1dcfc9dbf5a7"
      },
      "source": [
        "\n",
        "plt = data[data['Edu status'] == 'Currently Enrolled']\n",
        "#plt['Currently Enrolled: Institution type'].value_counts()\n",
        "\n",
        "fig, ax = pyplt.subplots()\n",
        "# the size of A4 paper\n",
        "fig.set_size_inches(9.7, 10.27)\n",
        "sns.histplot(data=data['Currently Enrolled: Institution type'], ax=ax)\n",
        "pyplt.xticks(rotation=15)\n"
      ],
      "execution_count": 75,
      "outputs": [
        {
          "output_type": "execute_result",
          "data": {
            "text/plain": [
              "([0, 1, 2, 3], <a list of 4 Text major ticklabel objects>)"
            ]
          },
          "metadata": {
            "tags": []
          },
          "execution_count": 75
        },
        {
          "output_type": "display_data",
          "data": {
            "image/png": "[encoded data removed]",
            "text/plain": [
              "<Figure size 698.4x739.44 with 1 Axes>"
            ]
          },
          "metadata": {
            "tags": [],
            "needs_background": "light"
          }
        }
      ]
    },
    {
      "cell_type": "code",
      "metadata": {
        "colab": {
          "base_uri": "https://localhost:8080/",
          "height": 405
        },
        "id": "GH28933lqID8",
        "outputId": "14dadff4-3953-4c16-ecce-ca18a1d4ee12"
      },
      "source": [
        "#plt = data[data['Edu status'] == 'Currently Enrolled']\n",
        "#plt['Currently Enrolled: Institution type'].value_counts()\n",
        "\n",
        "fig, ax = pyplt.subplots()\n",
        "# the size of A4 paper\n",
        "\n",
        "#data.hist(column='Type of Household', bins=25, color='#86bf91')\n",
        "\n",
        "fig.set_size_inches(6, 6)\n",
        "sns.histplot(data=data['Type of Household'], ax=ax, binwidth=0.5)\n",
        "#pyplt.xticks(rotation=15)"
      ],
      "execution_count": 85,
      "outputs": [
        {
          "output_type": "execute_result",
          "data": {
            "text/plain": [
              "<matplotlib.axes._subplots.AxesSubplot at 0x7ff2eaf92160>"
            ]
          },
          "metadata": {
            "tags": []
          },
          "execution_count": 85
        },
        {
          "output_type": "display_data",
          "data": {
            "image/png": "[encoded data removed]",
            "text/plain": [
              "<Figure size 432x432 with 1 Axes>"
            ]
          },
          "metadata": {
            "tags": [],
            "needs_background": "light"
          }
        }
      ]
    },
    {
      "cell_type": "code",
      "metadata": {
        "colab": {
          "base_uri": "https://localhost:8080/",
          "height": 781
        },
        "id": "rGP0oyC2rw5G",
        "outputId": "f5ba0386-b136-48de-ac0e-0950c616618a"
      },
      "source": [
        "distInfo = data[['Name of the District', 'Name of Province/Territory']].groupby(['Name of Province/Territory']).count()\n",
        "display(distInfo)\n",
        "\n",
        "distInfo.plot(kind = 'bar')\n",
        "\n",
        "#Bar plot\n",
        "#ax = data[[\"Category\", \"OrderQuantity\"]].groupby(['Category']).sum().plot.bar(rot=0)"
      ],
      "execution_count": 120,
      "outputs": [
        {
          "output_type": "display_data",
          "data": {
            "text/html": [
              "<div>\n",
              "<style scoped>\n",
              "    .dataframe tbody tr th:only-of-type {\n",
              "        vertical-align: middle;\n",
              "    }\n",
              "\n",
              "    .dataframe tbody tr th {\n",
              "        vertical-align: top;\n",
              "    }\n",
              "\n",
              "    .dataframe thead th {\n",
              "        text-align: right;\n",
              "    }\n",
              "</style>\n",
              "<table border=\"1\" class=\"dataframe\">\n",
              "  <thead>\n",
              "    <tr style=\"text-align: right;\">\n",
              "      <th></th>\n",
              "      <th>Name of the District</th>\n",
              "    </tr>\n",
              "    <tr>\n",
              "      <th>Name of Province/Territory</th>\n",
              "      <th></th>\n",
              "    </tr>\n",
              "  </thead>\n",
              "  <tbody>\n",
              "    <tr>\n",
              "      <th>Azad Jammu and Kashmir</th>\n",
              "      <td>15848</td>\n",
              "    </tr>\n",
              "    <tr>\n",
              "      <th>Balochistan</th>\n",
              "      <td>67706</td>\n",
              "    </tr>\n",
              "    <tr>\n",
              "      <th>Gilgit-Baltistan</th>\n",
              "      <td>16828</td>\n",
              "    </tr>\n",
              "    <tr>\n",
              "      <th>Islamabad - ICT</th>\n",
              "      <td>1392</td>\n",
              "    </tr>\n",
              "    <tr>\n",
              "      <th>Khyber Pakhtunkhwa</th>\n",
              "      <td>42125</td>\n",
              "    </tr>\n",
              "    <tr>\n",
              "      <th>Khyber Pakhtunkhwa Merged Region</th>\n",
              "      <td>22312</td>\n",
              "    </tr>\n",
              "    <tr>\n",
              "      <th>Punjab</th>\n",
              "      <td>57450</td>\n",
              "    </tr>\n",
              "    <tr>\n",
              "      <th>Sindh</th>\n",
              "      <td>36525</td>\n",
              "    </tr>\n",
              "  </tbody>\n",
              "</table>\n",
              "</div>"
            ],
            "text/plain": [
              "                                  Name of the District\n",
              "Name of Province/Territory                            \n",
              "Azad Jammu and Kashmir                           15848\n",
              "Balochistan                                      67706\n",
              "Gilgit-Baltistan                                 16828\n",
              "Islamabad - ICT                                   1392\n",
              "Khyber Pakhtunkhwa                               42125\n",
              "Khyber Pakhtunkhwa Merged Region                 22312\n",
              "Punjab                                           57450\n",
              "Sindh                                            36525"
            ]
          },
          "metadata": {
            "tags": []
          }
        },
        {
          "output_type": "execute_result",
          "data": {
            "text/plain": [
              "<matplotlib.axes._subplots.AxesSubplot at 0x7ff2ea7b23c8>"
            ]
          },
          "metadata": {
            "tags": []
          },
          "execution_count": 120
        },
        {
          "output_type": "display_data",
          "data": {
            "image/png": "[encoded data removed]",
            "text/plain": [
              "<Figure size 432x288 with 1 Axes>"
            ]
          },
          "metadata": {
            "tags": [],
            "needs_background": "light"
          }
        }
      ]
    },
    {
      "cell_type": "code",
      "metadata": {
        "colab": {
          "base_uri": "https://localhost:8080/",
          "height": 296
        },
        "id": "j2-_4UuVzYP4",
        "outputId": "b3c64bbf-38c2-4c9c-b8ba-ca9a21db8b42"
      },
      "source": [
        "\n",
        "sns.histplot(data['Is electricity available at school?'])"
      ],
      "execution_count": 123,
      "outputs": [
        {
          "output_type": "execute_result",
          "data": {
            "text/plain": [
              "<matplotlib.axes._subplots.AxesSubplot at 0x7ff2ea693080>"
            ]
          },
          "metadata": {
            "tags": []
          },
          "execution_count": 123
        },
        {
          "output_type": "display_data",
          "data": {
            "image/png": "[encoded data removed]",
            "text/plain": [
              "<Figure size 432x288 with 1 Axes>"
            ]
          },
          "metadata": {
            "tags": [],
            "needs_background": "light"
          }
        }
      ]
    },
    {
      "cell_type": "code",
      "metadata": {
        "colab": {
          "base_uri": "https://localhost:8080/",
          "height": 659
        },
        "id": "1QKpvyYf1M-k",
        "outputId": "d274ad1e-ffc6-4f74-e625-3d6ef8448a3a"
      },
      "source": [
        "sns.swarmplot(data['Edu status'])"
      ],
      "execution_count": 127,
      "outputs": [
        {
          "output_type": "stream",
          "text": [
            "/usr/local/lib/python3.6/dist-packages/seaborn/_decorators.py:43: FutureWarning: Pass the following variable as a keyword arg: x. From version 0.12, the only valid positional argument will be `data`, and passing other arguments without an explicit keyword will result in an error or misinterpretation.\n",
            "  FutureWarning\n"
          ],
          "name": "stderr"
        },
        {
          "output_type": "error",
          "ename": "KeyboardInterrupt",
          "evalue": "ignored",
          "traceback": [
            "\u001b[0;31m---------------------------------------------------------------------------\u001b[0m",
            "\u001b[0;31mKeyboardInterrupt\u001b[0m                         Traceback (most recent call last)",
            "\u001b[0;32m<ipython-input-127-ed17042c96c7>\u001b[0m in \u001b[0;36m<module>\u001b[0;34m()\u001b[0m\n\u001b[1;32m      1\u001b[0m \u001b[0;34m\u001b[0m\u001b[0m\n\u001b[0;32m----> 2\u001b[0;31m \u001b[0msns\u001b[0m\u001b[0;34m.\u001b[0m\u001b[0mswarmplot\u001b[0m\u001b[0;34m(\u001b[0m\u001b[0mdata\u001b[0m\u001b[0;34m[\u001b[0m\u001b[0;34m'Edu status'\u001b[0m\u001b[0;34m]\u001b[0m\u001b[0;34m)\u001b[0m\u001b[0;34m\u001b[0m\u001b[0;34m\u001b[0m\u001b[0m\n\u001b[0m",
            "\u001b[0;32m/usr/local/lib/python3.6/dist-packages/seaborn/_decorators.py\u001b[0m in \u001b[0;36minner_f\u001b[0;34m(*args, **kwargs)\u001b[0m\n\u001b[1;32m     44\u001b[0m             )\n\u001b[1;32m     45\u001b[0m         \u001b[0mkwargs\u001b[0m\u001b[0;34m.\u001b[0m\u001b[0mupdate\u001b[0m\u001b[0;34m(\u001b[0m\u001b[0;34m{\u001b[0m\u001b[0mk\u001b[0m\u001b[0;34m:\u001b[0m \u001b[0marg\u001b[0m \u001b[0;32mfor\u001b[0m \u001b[0mk\u001b[0m\u001b[0;34m,\u001b[0m \u001b[0marg\u001b[0m \u001b[0;32min\u001b[0m \u001b[0mzip\u001b[0m\u001b[0;34m(\u001b[0m\u001b[0msig\u001b[0m\u001b[0;34m.\u001b[0m\u001b[0mparameters\u001b[0m\u001b[0;34m,\u001b[0m \u001b[0margs\u001b[0m\u001b[0;34m)\u001b[0m\u001b[0;34m}\u001b[0m\u001b[0;34m)\u001b[0m\u001b[0;34m\u001b[0m\u001b[0;34m\u001b[0m\u001b[0m\n\u001b[0;32m---> 46\u001b[0;31m         \u001b[0;32mreturn\u001b[0m \u001b[0mf\u001b[0m\u001b[0;34m(\u001b[0m\u001b[0;34m**\u001b[0m\u001b[0mkwargs\u001b[0m\u001b[0;34m)\u001b[0m\u001b[0;34m\u001b[0m\u001b[0;34m\u001b[0m\u001b[0m\n\u001b[0m\u001b[1;32m     47\u001b[0m     \u001b[0;32mreturn\u001b[0m \u001b[0minner_f\u001b[0m\u001b[0;34m\u001b[0m\u001b[0;34m\u001b[0m\u001b[0m\n\u001b[1;32m     48\u001b[0m \u001b[0;34m\u001b[0m\u001b[0m\n",
            "\u001b[0;32m/usr/local/lib/python3.6/dist-packages/seaborn/categorical.py\u001b[0m in \u001b[0;36mswarmplot\u001b[0;34m(x, y, hue, data, order, hue_order, dodge, orient, color, palette, size, edgecolor, linewidth, ax, **kwargs)\u001b[0m\n\u001b[1;32m   3004\u001b[0m                        linewidth=linewidth))\n\u001b[1;32m   3005\u001b[0m \u001b[0;34m\u001b[0m\u001b[0m\n\u001b[0;32m-> 3006\u001b[0;31m     \u001b[0mplotter\u001b[0m\u001b[0;34m.\u001b[0m\u001b[0mplot\u001b[0m\u001b[0;34m(\u001b[0m\u001b[0max\u001b[0m\u001b[0;34m,\u001b[0m \u001b[0mkwargs\u001b[0m\u001b[0;34m)\u001b[0m\u001b[0;34m\u001b[0m\u001b[0;34m\u001b[0m\u001b[0m\n\u001b[0m\u001b[1;32m   3007\u001b[0m     \u001b[0;32mreturn\u001b[0m \u001b[0max\u001b[0m\u001b[0;34m\u001b[0m\u001b[0;34m\u001b[0m\u001b[0m\n\u001b[1;32m   3008\u001b[0m \u001b[0;34m\u001b[0m\u001b[0m\n",
            "\u001b[0;32m/usr/local/lib/python3.6/dist-packages/seaborn/categorical.py\u001b[0m in \u001b[0;36mplot\u001b[0;34m(self, ax, kws)\u001b[0m\n\u001b[1;32m   1418\u001b[0m     \u001b[0;32mdef\u001b[0m \u001b[0mplot\u001b[0m\u001b[0;34m(\u001b[0m\u001b[0mself\u001b[0m\u001b[0;34m,\u001b[0m \u001b[0max\u001b[0m\u001b[0;34m,\u001b[0m \u001b[0mkws\u001b[0m\u001b[0;34m)\u001b[0m\u001b[0;34m:\u001b[0m\u001b[0;34m\u001b[0m\u001b[0;34m\u001b[0m\u001b[0m\n\u001b[1;32m   1419\u001b[0m         \u001b[0;34m\"\"\"Make the full plot.\"\"\"\u001b[0m\u001b[0;34m\u001b[0m\u001b[0;34m\u001b[0m\u001b[0m\n\u001b[0;32m-> 1420\u001b[0;31m         \u001b[0mself\u001b[0m\u001b[0;34m.\u001b[0m\u001b[0mdraw_swarmplot\u001b[0m\u001b[0;34m(\u001b[0m\u001b[0max\u001b[0m\u001b[0;34m,\u001b[0m \u001b[0mkws\u001b[0m\u001b[0;34m)\u001b[0m\u001b[0;34m\u001b[0m\u001b[0;34m\u001b[0m\u001b[0m\n\u001b[0m\u001b[1;32m   1421\u001b[0m         \u001b[0mself\u001b[0m\u001b[0;34m.\u001b[0m\u001b[0madd_legend_data\u001b[0m\u001b[0;34m(\u001b[0m\u001b[0max\u001b[0m\u001b[0;34m)\u001b[0m\u001b[0;34m\u001b[0m\u001b[0;34m\u001b[0m\u001b[0m\n\u001b[1;32m   1422\u001b[0m         \u001b[0mself\u001b[0m\u001b[0;34m.\u001b[0m\u001b[0mannotate_axes\u001b[0m\u001b[0;34m(\u001b[0m\u001b[0max\u001b[0m\u001b[0;34m)\u001b[0m\u001b[0;34m\u001b[0m\u001b[0;34m\u001b[0m\u001b[0m\n",
            "\u001b[0;32m/usr/local/lib/python3.6/dist-packages/seaborn/categorical.py\u001b[0m in \u001b[0;36mdraw_swarmplot\u001b[0;34m(self, ax, kws)\u001b[0m\n\u001b[1;32m   1414\u001b[0m         \u001b[0;32mfor\u001b[0m \u001b[0mcenter\u001b[0m\u001b[0;34m,\u001b[0m \u001b[0mswarm\u001b[0m \u001b[0;32min\u001b[0m \u001b[0mzip\u001b[0m\u001b[0;34m(\u001b[0m\u001b[0mcenters\u001b[0m\u001b[0;34m,\u001b[0m \u001b[0mswarms\u001b[0m\u001b[0;34m)\u001b[0m\u001b[0;34m:\u001b[0m\u001b[0;34m\u001b[0m\u001b[0;34m\u001b[0m\u001b[0m\n\u001b[1;32m   1415\u001b[0m             \u001b[0;32mif\u001b[0m \u001b[0mswarm\u001b[0m\u001b[0;34m.\u001b[0m\u001b[0mget_offsets\u001b[0m\u001b[0;34m(\u001b[0m\u001b[0;34m)\u001b[0m\u001b[0;34m.\u001b[0m\u001b[0msize\u001b[0m\u001b[0;34m:\u001b[0m\u001b[0;34m\u001b[0m\u001b[0;34m\u001b[0m\u001b[0m\n\u001b[0;32m-> 1416\u001b[0;31m                 \u001b[0mself\u001b[0m\u001b[0;34m.\u001b[0m\u001b[0mswarm_points\u001b[0m\u001b[0;34m(\u001b[0m\u001b[0max\u001b[0m\u001b[0;34m,\u001b[0m \u001b[0mswarm\u001b[0m\u001b[0;34m,\u001b[0m \u001b[0mcenter\u001b[0m\u001b[0;34m,\u001b[0m \u001b[0mwidth\u001b[0m\u001b[0;34m,\u001b[0m \u001b[0ms\u001b[0m\u001b[0;34m,\u001b[0m \u001b[0;34m**\u001b[0m\u001b[0mkws\u001b[0m\u001b[0;34m)\u001b[0m\u001b[0;34m\u001b[0m\u001b[0;34m\u001b[0m\u001b[0m\n\u001b[0m\u001b[1;32m   1417\u001b[0m \u001b[0;34m\u001b[0m\u001b[0m\n\u001b[1;32m   1418\u001b[0m     \u001b[0;32mdef\u001b[0m \u001b[0mplot\u001b[0m\u001b[0;34m(\u001b[0m\u001b[0mself\u001b[0m\u001b[0;34m,\u001b[0m \u001b[0max\u001b[0m\u001b[0;34m,\u001b[0m \u001b[0mkws\u001b[0m\u001b[0;34m)\u001b[0m\u001b[0;34m:\u001b[0m\u001b[0;34m\u001b[0m\u001b[0;34m\u001b[0m\u001b[0m\n",
            "\u001b[0;32m/usr/local/lib/python3.6/dist-packages/seaborn/categorical.py\u001b[0m in \u001b[0;36mswarm_points\u001b[0;34m(self, ax, points, center, width, s, **kws)\u001b[0m\n\u001b[1;32m   1316\u001b[0m \u001b[0;34m\u001b[0m\u001b[0m\n\u001b[1;32m   1317\u001b[0m         \u001b[0;31m# Do the beeswarm in point coordinates\u001b[0m\u001b[0;34m\u001b[0m\u001b[0;34m\u001b[0m\u001b[0;34m\u001b[0m\u001b[0m\n\u001b[0;32m-> 1318\u001b[0;31m         \u001b[0mnew_xy\u001b[0m \u001b[0;34m=\u001b[0m \u001b[0mself\u001b[0m\u001b[0;34m.\u001b[0m\u001b[0mbeeswarm\u001b[0m\u001b[0;34m(\u001b[0m\u001b[0morig_xy\u001b[0m\u001b[0;34m,\u001b[0m \u001b[0md\u001b[0m\u001b[0;34m)\u001b[0m\u001b[0;34m\u001b[0m\u001b[0;34m\u001b[0m\u001b[0m\n\u001b[0m\u001b[1;32m   1319\u001b[0m \u001b[0;34m\u001b[0m\u001b[0m\n\u001b[1;32m   1320\u001b[0m         \u001b[0;31m# Transform the point coordinates back to data coordinates\u001b[0m\u001b[0;34m\u001b[0m\u001b[0;34m\u001b[0m\u001b[0;34m\u001b[0m\u001b[0m\n",
            "\u001b[0;32m/usr/local/lib/python3.6/dist-packages/seaborn/categorical.py\u001b[0m in \u001b[0;36mbeeswarm\u001b[0;34m(self, orig_xy, d)\u001b[0m\n\u001b[1;32m   1269\u001b[0m             \u001b[0;31m# Find the first candidate that does not overlap any neighbours\u001b[0m\u001b[0;34m\u001b[0m\u001b[0;34m\u001b[0m\u001b[0;34m\u001b[0m\u001b[0m\n\u001b[1;32m   1270\u001b[0m             new_xy_i = self.first_non_overlapping_candidate(candidates,\n\u001b[0;32m-> 1271\u001b[0;31m                                                             neighbors, d)\n\u001b[0m\u001b[1;32m   1272\u001b[0m \u001b[0;34m\u001b[0m\u001b[0m\n\u001b[1;32m   1273\u001b[0m             \u001b[0;31m# Place it into the swarm\u001b[0m\u001b[0;34m\u001b[0m\u001b[0;34m\u001b[0m\u001b[0;34m\u001b[0m\u001b[0m\n",
            "\u001b[0;32m/usr/local/lib/python3.6/dist-packages/seaborn/categorical.py\u001b[0m in \u001b[0;36mfirst_non_overlapping_candidate\u001b[0;34m(self, candidates, neighbors, d)\u001b[0m\n\u001b[1;32m   1233\u001b[0m             \u001b[0;31m# and any of the neighbours has to be at least\u001b[0m\u001b[0;34m\u001b[0m\u001b[0;34m\u001b[0m\u001b[0;34m\u001b[0m\u001b[0m\n\u001b[1;32m   1234\u001b[0m             \u001b[0;31m# square of the diameter\u001b[0m\u001b[0;34m\u001b[0m\u001b[0;34m\u001b[0m\u001b[0;34m\u001b[0m\u001b[0m\n\u001b[0;32m-> 1235\u001b[0;31m             \u001b[0mgood_candidate\u001b[0m \u001b[0;34m=\u001b[0m \u001b[0mnp\u001b[0m\u001b[0;34m.\u001b[0m\u001b[0mall\u001b[0m\u001b[0;34m(\u001b[0m\u001b[0msq_distances\u001b[0m \u001b[0;34m>=\u001b[0m \u001b[0md_square\u001b[0m\u001b[0;34m)\u001b[0m\u001b[0;34m\u001b[0m\u001b[0;34m\u001b[0m\u001b[0m\n\u001b[0m\u001b[1;32m   1236\u001b[0m \u001b[0;34m\u001b[0m\u001b[0m\n\u001b[1;32m   1237\u001b[0m             \u001b[0;32mif\u001b[0m \u001b[0mgood_candidate\u001b[0m\u001b[0;34m:\u001b[0m\u001b[0;34m\u001b[0m\u001b[0;34m\u001b[0m\u001b[0m\n",
            "\u001b[0;32m<__array_function__ internals>\u001b[0m in \u001b[0;36mall\u001b[0;34m(*args, **kwargs)\u001b[0m\n",
            "\u001b[0;32m/usr/local/lib/python3.6/dist-packages/numpy/core/fromnumeric.py\u001b[0m in \u001b[0;36mall\u001b[0;34m(a, axis, out, keepdims)\u001b[0m\n\u001b[1;32m   2396\u001b[0m \u001b[0;34m\u001b[0m\u001b[0m\n\u001b[1;32m   2397\u001b[0m     \"\"\"\n\u001b[0;32m-> 2398\u001b[0;31m     \u001b[0;32mreturn\u001b[0m \u001b[0m_wrapreduction\u001b[0m\u001b[0;34m(\u001b[0m\u001b[0ma\u001b[0m\u001b[0;34m,\u001b[0m \u001b[0mnp\u001b[0m\u001b[0;34m.\u001b[0m\u001b[0mlogical_and\u001b[0m\u001b[0;34m,\u001b[0m \u001b[0;34m'all'\u001b[0m\u001b[0;34m,\u001b[0m \u001b[0maxis\u001b[0m\u001b[0;34m,\u001b[0m \u001b[0;32mNone\u001b[0m\u001b[0;34m,\u001b[0m \u001b[0mout\u001b[0m\u001b[0;34m,\u001b[0m \u001b[0mkeepdims\u001b[0m\u001b[0;34m=\u001b[0m\u001b[0mkeepdims\u001b[0m\u001b[0;34m)\u001b[0m\u001b[0;34m\u001b[0m\u001b[0;34m\u001b[0m\u001b[0m\n\u001b[0m\u001b[1;32m   2399\u001b[0m \u001b[0;34m\u001b[0m\u001b[0m\n\u001b[1;32m   2400\u001b[0m \u001b[0;34m\u001b[0m\u001b[0m\n",
            "\u001b[0;32m/usr/local/lib/python3.6/dist-packages/numpy/core/fromnumeric.py\u001b[0m in \u001b[0;36m_wrapreduction\u001b[0;34m(obj, ufunc, method, axis, dtype, out, **kwargs)\u001b[0m\n\u001b[1;32m     88\u001b[0m                 \u001b[0;32mreturn\u001b[0m \u001b[0mreduction\u001b[0m\u001b[0;34m(\u001b[0m\u001b[0maxis\u001b[0m\u001b[0;34m=\u001b[0m\u001b[0maxis\u001b[0m\u001b[0;34m,\u001b[0m \u001b[0mout\u001b[0m\u001b[0;34m=\u001b[0m\u001b[0mout\u001b[0m\u001b[0;34m,\u001b[0m \u001b[0;34m**\u001b[0m\u001b[0mpasskwargs\u001b[0m\u001b[0;34m)\u001b[0m\u001b[0;34m\u001b[0m\u001b[0;34m\u001b[0m\u001b[0m\n\u001b[1;32m     89\u001b[0m \u001b[0;34m\u001b[0m\u001b[0m\n\u001b[0;32m---> 90\u001b[0;31m     \u001b[0;32mreturn\u001b[0m \u001b[0mufunc\u001b[0m\u001b[0;34m.\u001b[0m\u001b[0mreduce\u001b[0m\u001b[0;34m(\u001b[0m\u001b[0mobj\u001b[0m\u001b[0;34m,\u001b[0m \u001b[0maxis\u001b[0m\u001b[0;34m,\u001b[0m \u001b[0mdtype\u001b[0m\u001b[0;34m,\u001b[0m \u001b[0mout\u001b[0m\u001b[0;34m,\u001b[0m \u001b[0;34m**\u001b[0m\u001b[0mpasskwargs\u001b[0m\u001b[0;34m)\u001b[0m\u001b[0;34m\u001b[0m\u001b[0;34m\u001b[0m\u001b[0m\n\u001b[0m\u001b[1;32m     91\u001b[0m \u001b[0;34m\u001b[0m\u001b[0m\n\u001b[1;32m     92\u001b[0m \u001b[0;34m\u001b[0m\u001b[0m\n",
            "\u001b[0;31mKeyboardInterrupt\u001b[0m: "
          ]
        },
        {
          "output_type": "display_data",
          "data": {
            "image/png": "[encoded data removed]",
            "text/plain": [
              "<Figure size 432x288 with 1 Axes>"
            ]
          },
          "metadata": {
            "tags": [],
            "needs_background": "light"
          }
        }
      ]
    },
    {
      "cell_type": "code",
      "metadata": {
        "colab": {
          "base_uri": "https://localhost:8080/",
          "height": 296
        },
        "id": "QSATNjhJmp7Y",
        "outputId": "d5c3536b-efde-4bc7-e2ed-626d86d15728"
      },
      "source": [
        "plt = data[data['Edu status'] == 'Drop out']\n",
        "#plt['Currently Enrolled: Institution type'].value_counts()\n",
        "sns.histplot(plt['Currently Enrolled: Institution type'])"
      ],
      "execution_count": 55,
      "outputs": [
        {
          "output_type": "execute_result",
          "data": {
            "text/plain": [
              "<matplotlib.axes._subplots.AxesSubplot at 0x7ff2eba5cc88>"
            ]
          },
          "metadata": {
            "tags": []
          },
          "execution_count": 55
        },
        {
          "output_type": "display_data",
          "data": {
            "image/png": "[encoded data removed]",
            "text/plain": [
              "<Figure size 432x288 with 1 Axes>"
            ]
          },
          "metadata": {
            "tags": [],
            "needs_background": "light"
          }
        }
      ]
    },
    {
      "cell_type": "code",
      "metadata": {
        "id": "2vsbTmlKnApA"
      },
      "source": [
        ""
      ],
      "execution_count": null,
      "outputs": []
    }
  ]
}