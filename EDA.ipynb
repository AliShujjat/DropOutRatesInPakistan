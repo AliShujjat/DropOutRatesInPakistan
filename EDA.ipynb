{
  "nbformat": 4,
  "nbformat_minor": 0,
  "metadata": {
    "colab": {
      "name": "Untitled8.ipynb",
      "provenance": [],
      "collapsed_sections": [],
      "include_colab_link": true
    },
    "kernelspec": {
      "name": "python3",
      "display_name": "Python 3"
    }
  },
  "cells": [
    {
      "cell_type": "markdown",
      "metadata": {
        "id": "view-in-github",
        "colab_type": "text"
      },
      "source": [
        "<a href=\"https://colab.research.google.com/github/AliShujjat/DropOutRatesInPakistan/blob/main/EDA.ipynb\" target=\"_parent\"><img src=\"https://colab.research.google.com/assets/colab-badge.svg\" alt=\"Open In Colab\"/></a>"
      ]
    },
    {
      "cell_type": "code",
      "metadata": {
        "colab": {
          "base_uri": "https://localhost:8080/"
        },
        "id": "YXcb_e5e3jW1",
        "outputId": "374e09ab-8d55-4f33-a137-9c233e403898"
      },
      "source": [
        "#Retrieving the data from Google Drive\n",
        "from google.colab import drive\n",
        "drive.mount('/content/drive')\n",
        "!cp \"/content/drive/My Drive/Edu/Edu4.csv\" \"Edu4.csv\""
      ],
      "execution_count": 81,
      "outputs": [
        {
          "output_type": "stream",
          "text": [
            "Drive already mounted at /content/drive; to attempt to forcibly remount, call drive.mount(\"/content/drive\", force_remount=True).\n"
          ],
          "name": "stdout"
        }
      ]
    },
    {
      "cell_type": "code",
      "metadata": {
        "id": "KyhC4sqR4x5w"
      },
      "source": [
        "#Import Libraries\n",
        "\n",
        "import numpy as np\n",
        "import pandas as pd\n",
        "import matplotlib.pyplot as pyplt\n",
        "import math as math\n",
        "import seaborn as sns\n",
        "from scipy import stats\n",
        "import warnings\n",
        "warnings.filterwarnings('ignore')"
      ],
      "execution_count": 82,
      "outputs": []
    },
    {
      "cell_type": "code",
      "metadata": {
        "colab": {
          "base_uri": "https://localhost:8080/",
          "height": 411
        },
        "id": "_DeMqdOO4yG6",
        "outputId": "336dd787-8117-4fd6-aff2-02d5458dd4b6"
      },
      "source": [
        "#Data\n",
        "data = pd.read_csv('Edu4.csv')\n",
        "data.head()"
      ],
      "execution_count": 83,
      "outputs": [
        {
          "output_type": "execute_result",
          "data": {
            "text/html": [
              "<div>\n",
              "<style scoped>\n",
              "    .dataframe tbody tr th:only-of-type {\n",
              "        vertical-align: middle;\n",
              "    }\n",
              "\n",
              "    .dataframe tbody tr th {\n",
              "        vertical-align: top;\n",
              "    }\n",
              "\n",
              "    .dataframe thead th {\n",
              "        text-align: right;\n",
              "    }\n",
              "</style>\n",
              "<table border=\"1\" class=\"dataframe\">\n",
              "  <thead>\n",
              "    <tr style=\"text-align: right;\">\n",
              "      <th></th>\n",
              "      <th>Unnamed: 0</th>\n",
              "      <th>If Drop-out, studied up-to which class</th>\n",
              "      <th>Edu status</th>\n",
              "      <th>Age of Child</th>\n",
              "      <th>Reasons for dropout</th>\n",
              "      <th>English Reading Level</th>\n",
              "      <th>Age of father (completed years)</th>\n",
              "      <th>Reading in local language</th>\n",
              "      <th>Age of mother (completed years)</th>\n",
              "      <th>Arithmetic Levels</th>\n",
              "      <th>Total number of surviving children (LESS THAN 17) of mother</th>\n",
              "      <th>Male members of household</th>\n",
              "      <th>Female members of household</th>\n",
              "      <th>Gender</th>\n",
              "      <th>Is bonus math question 1 attempted correctly?</th>\n",
              "      <th>Unique ID of government school</th>\n",
              "      <th>Name of the District</th>\n",
              "      <th>Total children present on day of visit</th>\n",
              "      <th>Year of school establishment</th>\n",
              "      <th>Local Language of the Village</th>\n",
              "      <th>Total number of enrolled children</th>\n",
              "      <th>Availability of Motorcycles/Bikes</th>\n",
              "      <th>Economic Profile</th>\n",
              "      <th>Total number of government schools in surveyed village</th>\n",
              "      <th>Is electricity available at school?</th>\n",
              "      <th>Type of Household</th>\n",
              "      <th>Currently Enrolled: Institution type</th>\n",
              "      <th>Name of Province/Territory</th>\n",
              "      <th>Current Class-Grade of Child</th>\n",
              "    </tr>\n",
              "  </thead>\n",
              "  <tbody>\n",
              "    <tr>\n",
              "      <th>0</th>\n",
              "      <td>0</td>\n",
              "      <td>5</td>\n",
              "      <td>Never Enrolled</td>\n",
              "      <td>3.0</td>\n",
              "      <td>Poverty</td>\n",
              "      <td>Beginner</td>\n",
              "      <td>40.0</td>\n",
              "      <td>Story</td>\n",
              "      <td>36.0</td>\n",
              "      <td>Division</td>\n",
              "      <td>4.0</td>\n",
              "      <td>5.0</td>\n",
              "      <td>1.0</td>\n",
              "      <td>male</td>\n",
              "      <td>-1.0</td>\n",
              "      <td>4792.0</td>\n",
              "      <td>Poonch</td>\n",
              "      <td>50.0</td>\n",
              "      <td>1977.0</td>\n",
              "      <td>HINDKO</td>\n",
              "      <td>54.0</td>\n",
              "      <td>0.0</td>\n",
              "      <td>Poor</td>\n",
              "      <td>2.0</td>\n",
              "      <td>0.0</td>\n",
              "      <td>pucca</td>\n",
              "      <td>Government</td>\n",
              "      <td>Azad Jammu and Kashmir</td>\n",
              "      <td>2</td>\n",
              "    </tr>\n",
              "    <tr>\n",
              "      <th>1</th>\n",
              "      <td>1</td>\n",
              "      <td>5</td>\n",
              "      <td>Currently Enrolled</td>\n",
              "      <td>5.0</td>\n",
              "      <td>Poverty</td>\n",
              "      <td>Words</td>\n",
              "      <td>35.0</td>\n",
              "      <td>Words</td>\n",
              "      <td>30.0</td>\n",
              "      <td>Division</td>\n",
              "      <td>2.0</td>\n",
              "      <td>2.0</td>\n",
              "      <td>2.0</td>\n",
              "      <td>female</td>\n",
              "      <td>-1.0</td>\n",
              "      <td>4792.0</td>\n",
              "      <td>Poonch</td>\n",
              "      <td>50.0</td>\n",
              "      <td>1977.0</td>\n",
              "      <td>HINDKO</td>\n",
              "      <td>54.0</td>\n",
              "      <td>0.0</td>\n",
              "      <td>Rich</td>\n",
              "      <td>2.0</td>\n",
              "      <td>0.0</td>\n",
              "      <td>Semi pucca</td>\n",
              "      <td>Government</td>\n",
              "      <td>Azad Jammu and Kashmir</td>\n",
              "      <td>2</td>\n",
              "    </tr>\n",
              "    <tr>\n",
              "      <th>2</th>\n",
              "      <td>2</td>\n",
              "      <td>5</td>\n",
              "      <td>Currently Enrolled</td>\n",
              "      <td>5.0</td>\n",
              "      <td>Poverty</td>\n",
              "      <td>Small letters</td>\n",
              "      <td>70.0</td>\n",
              "      <td>Letters</td>\n",
              "      <td>65.0</td>\n",
              "      <td>Recognition of 10-99</td>\n",
              "      <td>3.0</td>\n",
              "      <td>6.0</td>\n",
              "      <td>3.0</td>\n",
              "      <td>female</td>\n",
              "      <td>0.0</td>\n",
              "      <td>4792.0</td>\n",
              "      <td>Poonch</td>\n",
              "      <td>50.0</td>\n",
              "      <td>1977.0</td>\n",
              "      <td>HINDKO</td>\n",
              "      <td>54.0</td>\n",
              "      <td>0.0</td>\n",
              "      <td>Rich</td>\n",
              "      <td>2.0</td>\n",
              "      <td>0.0</td>\n",
              "      <td>Semi pucca</td>\n",
              "      <td>Government</td>\n",
              "      <td>Azad Jammu and Kashmir</td>\n",
              "      <td>Nursery</td>\n",
              "    </tr>\n",
              "    <tr>\n",
              "      <th>3</th>\n",
              "      <td>3</td>\n",
              "      <td>5</td>\n",
              "      <td>Currently Enrolled</td>\n",
              "      <td>10.0</td>\n",
              "      <td>Poverty</td>\n",
              "      <td>NaN</td>\n",
              "      <td>50.0</td>\n",
              "      <td>Story</td>\n",
              "      <td>45.0</td>\n",
              "      <td>Division</td>\n",
              "      <td>3.0</td>\n",
              "      <td>2.0</td>\n",
              "      <td>3.0</td>\n",
              "      <td>male</td>\n",
              "      <td>-1.0</td>\n",
              "      <td>4792.0</td>\n",
              "      <td>Poonch</td>\n",
              "      <td>50.0</td>\n",
              "      <td>1977.0</td>\n",
              "      <td>HINDKO</td>\n",
              "      <td>54.0</td>\n",
              "      <td>1.0</td>\n",
              "      <td>Richest</td>\n",
              "      <td>2.0</td>\n",
              "      <td>0.0</td>\n",
              "      <td>Semi pucca</td>\n",
              "      <td>Government</td>\n",
              "      <td>Azad Jammu and Kashmir</td>\n",
              "      <td>3</td>\n",
              "    </tr>\n",
              "    <tr>\n",
              "      <th>4</th>\n",
              "      <td>4</td>\n",
              "      <td>5</td>\n",
              "      <td>Currently Enrolled</td>\n",
              "      <td>4.0</td>\n",
              "      <td>Poverty</td>\n",
              "      <td>Beginner</td>\n",
              "      <td>40.0</td>\n",
              "      <td>Story</td>\n",
              "      <td>30.0</td>\n",
              "      <td>Division</td>\n",
              "      <td>3.0</td>\n",
              "      <td>3.0</td>\n",
              "      <td>2.0</td>\n",
              "      <td>male</td>\n",
              "      <td>-1.0</td>\n",
              "      <td>4792.0</td>\n",
              "      <td>Poonch</td>\n",
              "      <td>50.0</td>\n",
              "      <td>1977.0</td>\n",
              "      <td>HINDKO</td>\n",
              "      <td>54.0</td>\n",
              "      <td>0.0</td>\n",
              "      <td>Poor</td>\n",
              "      <td>2.0</td>\n",
              "      <td>0.0</td>\n",
              "      <td>pucca</td>\n",
              "      <td>Private</td>\n",
              "      <td>Azad Jammu and Kashmir</td>\n",
              "      <td>Nursery</td>\n",
              "    </tr>\n",
              "  </tbody>\n",
              "</table>\n",
              "</div>"
            ],
            "text/plain": [
              "   Unnamed: 0  ... Current Class-Grade of Child\n",
              "0           0  ...                            2\n",
              "1           1  ...                            2\n",
              "2           2  ...                      Nursery\n",
              "3           3  ...                            3\n",
              "4           4  ...                      Nursery\n",
              "\n",
              "[5 rows x 29 columns]"
            ]
          },
          "metadata": {
            "tags": []
          },
          "execution_count": 83
        }
      ]
    },
    {
      "cell_type": "code",
      "metadata": {
        "colab": {
          "base_uri": "https://localhost:8080/"
        },
        "id": "hhcTLrOZ4ySZ",
        "outputId": "d0b06eb2-9f14-4d7f-f6a5-f6f55e2e1608"
      },
      "source": [
        "#Dimensions\n",
        "data.shape"
      ],
      "execution_count": 84,
      "outputs": [
        {
          "output_type": "execute_result",
          "data": {
            "text/plain": [
              "(260186, 29)"
            ]
          },
          "metadata": {
            "tags": []
          },
          "execution_count": 84
        }
      ]
    },
    {
      "cell_type": "code",
      "metadata": {
        "colab": {
          "base_uri": "https://localhost:8080/"
        },
        "id": "V4ag-7CM4yXM",
        "outputId": "236dc142-fb2e-4608-a5ad-823b6560b173"
      },
      "source": [
        "#Data types\n",
        "data.dtypes"
      ],
      "execution_count": 85,
      "outputs": [
        {
          "output_type": "execute_result",
          "data": {
            "text/plain": [
              "Unnamed: 0                                                       int64\n",
              "If Drop-out, studied up-to which class                          object\n",
              "Edu status                                                      object\n",
              "Age of Child                                                   float64\n",
              "Reasons for dropout                                             object\n",
              "English Reading Level                                           object\n",
              "Age of father (completed years)                                float64\n",
              "Reading in local language                                       object\n",
              "Age of mother (completed years)                                float64\n",
              "Arithmetic Levels                                               object\n",
              "Total number of surviving children (LESS THAN 17) of mother    float64\n",
              "Male members of household                                      float64\n",
              "Female members of household                                    float64\n",
              "Gender                                                          object\n",
              "Is bonus math question 1 attempted correctly?                  float64\n",
              "Unique ID of government school                                 float64\n",
              "Name of the District                                            object\n",
              "Total children present on day of visit                         float64\n",
              "Year of school establishment                                   float64\n",
              "Local Language of the Village                                   object\n",
              "Total number of enrolled children                              float64\n",
              "Availability of Motorcycles/Bikes                              float64\n",
              "Economic Profile                                                object\n",
              "Total number of government schools in surveyed village         float64\n",
              "Is electricity available at school?                            float64\n",
              "Type of Household                                               object\n",
              "Currently Enrolled: Institution type                            object\n",
              "Name of Province/Territory                                      object\n",
              "Current Class-Grade of Child                                    object\n",
              "dtype: object"
            ]
          },
          "metadata": {
            "tags": []
          },
          "execution_count": 85
        }
      ]
    },
    {
      "cell_type": "code",
      "metadata": {
        "colab": {
          "base_uri": "https://localhost:8080/"
        },
        "id": "c4-G0GxscHAQ",
        "outputId": "addae30b-3c22-43b5-fa8a-2bc278f1bced"
      },
      "source": [
        "data.isnull().sum(axis = 0)\n",
        "#WE HAVE NULLS"
      ],
      "execution_count": 86,
      "outputs": [
        {
          "output_type": "execute_result",
          "data": {
            "text/plain": [
              "Unnamed: 0                                                         0\n",
              "If Drop-out, studied up-to which class                             0\n",
              "Edu status                                                         0\n",
              "Age of Child                                                       0\n",
              "Reasons for dropout                                                0\n",
              "English Reading Level                                          49360\n",
              "Age of father (completed years)                                    0\n",
              "Reading in local language                                          0\n",
              "Age of mother (completed years)                                    0\n",
              "Arithmetic Levels                                                  0\n",
              "Total number of surviving children (LESS THAN 17) of mother        0\n",
              "Male members of household                                          0\n",
              "Female members of household                                        0\n",
              "Gender                                                             0\n",
              "Is bonus math question 1 attempted correctly?                      0\n",
              "Unique ID of government school                                     0\n",
              "Name of the District                                               0\n",
              "Total children present on day of visit                             0\n",
              "Year of school establishment                                       0\n",
              "Local Language of the Village                                      0\n",
              "Total number of enrolled children                                  0\n",
              "Availability of Motorcycles/Bikes                                  0\n",
              "Economic Profile                                                   0\n",
              "Total number of government schools in surveyed village             0\n",
              "Is electricity available at school?                                0\n",
              "Type of Household                                                  0\n",
              "Currently Enrolled: Institution type                               0\n",
              "Name of Province/Territory                                         0\n",
              "Current Class-Grade of Child                                       0\n",
              "dtype: int64"
            ]
          },
          "metadata": {
            "tags": []
          },
          "execution_count": 86
        }
      ]
    },
    {
      "cell_type": "code",
      "metadata": {
        "id": "tQ51K9gjlx5v",
        "colab": {
          "base_uri": "https://localhost:8080/"
        },
        "outputId": "14fcc1cc-b24a-47df-de47-1a6ea3771cf3"
      },
      "source": [
        "#Replace nulls with mode\n",
        "data['English Reading Level'].fillna(data['English Reading Level'].mode()[0], inplace=True)\n",
        "data.isnull().sum(axis = 0)"
      ],
      "execution_count": 87,
      "outputs": [
        {
          "output_type": "execute_result",
          "data": {
            "text/plain": [
              "Unnamed: 0                                                     0\n",
              "If Drop-out, studied up-to which class                         0\n",
              "Edu status                                                     0\n",
              "Age of Child                                                   0\n",
              "Reasons for dropout                                            0\n",
              "English Reading Level                                          0\n",
              "Age of father (completed years)                                0\n",
              "Reading in local language                                      0\n",
              "Age of mother (completed years)                                0\n",
              "Arithmetic Levels                                              0\n",
              "Total number of surviving children (LESS THAN 17) of mother    0\n",
              "Male members of household                                      0\n",
              "Female members of household                                    0\n",
              "Gender                                                         0\n",
              "Is bonus math question 1 attempted correctly?                  0\n",
              "Unique ID of government school                                 0\n",
              "Name of the District                                           0\n",
              "Total children present on day of visit                         0\n",
              "Year of school establishment                                   0\n",
              "Local Language of the Village                                  0\n",
              "Total number of enrolled children                              0\n",
              "Availability of Motorcycles/Bikes                              0\n",
              "Economic Profile                                               0\n",
              "Total number of government schools in surveyed village         0\n",
              "Is electricity available at school?                            0\n",
              "Type of Household                                              0\n",
              "Currently Enrolled: Institution type                           0\n",
              "Name of Province/Territory                                     0\n",
              "Current Class-Grade of Child                                   0\n",
              "dtype: int64"
            ]
          },
          "metadata": {
            "tags": []
          },
          "execution_count": 87
        }
      ]
    },
    {
      "cell_type": "code",
      "metadata": {
        "colab": {
          "base_uri": "https://localhost:8080/"
        },
        "id": "sebUIC9a4yaf",
        "outputId": "c4d9cfdd-f156-469d-9d80-1e7f501f4ae9"
      },
      "source": [
        "data.nunique()"
      ],
      "execution_count": 88,
      "outputs": [
        {
          "output_type": "execute_result",
          "data": {
            "text/plain": [
              "Unnamed: 0                                                     260186\n",
              "If Drop-out, studied up-to which class                             30\n",
              "Edu status                                                          3\n",
              "Age of Child                                                       14\n",
              "Reasons for dropout                                                 7\n",
              "English Reading Level                                               4\n",
              "Age of father (completed years)                                    72\n",
              "Reading in local language                                           5\n",
              "Age of mother (completed years)                                    65\n",
              "Arithmetic Levels                                                   6\n",
              "Total number of surviving children (LESS THAN 17) of mother        16\n",
              "Male members of household                                          28\n",
              "Female members of household                                        21\n",
              "Gender                                                              2\n",
              "Is bonus math question 1 attempted correctly?                       2\n",
              "Unique ID of government school                                   4274\n",
              "Name of the District                                              154\n",
              "Total children present on day of visit                            659\n",
              "Year of school establishment                                       63\n",
              "Local Language of the Village                                     295\n",
              "Total number of enrolled children                                 699\n",
              "Availability of Motorcycles/Bikes                                   5\n",
              "Economic Profile                                                    4\n",
              "Total number of government schools in surveyed village              6\n",
              "Is electricity available at school?                                 2\n",
              "Type of Household                                                   3\n",
              "Currently Enrolled: Institution type                                4\n",
              "Name of Province/Territory                                          8\n",
              "Current Class-Grade of Child                                       18\n",
              "dtype: int64"
            ]
          },
          "metadata": {
            "tags": []
          },
          "execution_count": 88
        }
      ]
    },
    {
      "cell_type": "code",
      "metadata": {
        "colab": {
          "base_uri": "https://localhost:8080/",
          "height": 529
        },
        "id": "7UoRztQj4yeH",
        "outputId": "16068fc6-c8d2-42e4-9251-080cbce88292"
      },
      "source": [
        "#Stats\n",
        "data.describe(include='all')  "
      ],
      "execution_count": 89,
      "outputs": [
        {
          "output_type": "execute_result",
          "data": {
            "text/html": [
              "<div>\n",
              "<style scoped>\n",
              "    .dataframe tbody tr th:only-of-type {\n",
              "        vertical-align: middle;\n",
              "    }\n",
              "\n",
              "    .dataframe tbody tr th {\n",
              "        vertical-align: top;\n",
              "    }\n",
              "\n",
              "    .dataframe thead th {\n",
              "        text-align: right;\n",
              "    }\n",
              "</style>\n",
              "<table border=\"1\" class=\"dataframe\">\n",
              "  <thead>\n",
              "    <tr style=\"text-align: right;\">\n",
              "      <th></th>\n",
              "      <th>Unnamed: 0</th>\n",
              "      <th>If Drop-out, studied up-to which class</th>\n",
              "      <th>Edu status</th>\n",
              "      <th>Age of Child</th>\n",
              "      <th>Reasons for dropout</th>\n",
              "      <th>English Reading Level</th>\n",
              "      <th>Age of father (completed years)</th>\n",
              "      <th>Reading in local language</th>\n",
              "      <th>Age of mother (completed years)</th>\n",
              "      <th>Arithmetic Levels</th>\n",
              "      <th>Total number of surviving children (LESS THAN 17) of mother</th>\n",
              "      <th>Male members of household</th>\n",
              "      <th>Female members of household</th>\n",
              "      <th>Gender</th>\n",
              "      <th>Is bonus math question 1 attempted correctly?</th>\n",
              "      <th>Unique ID of government school</th>\n",
              "      <th>Name of the District</th>\n",
              "      <th>Total children present on day of visit</th>\n",
              "      <th>Year of school establishment</th>\n",
              "      <th>Local Language of the Village</th>\n",
              "      <th>Total number of enrolled children</th>\n",
              "      <th>Availability of Motorcycles/Bikes</th>\n",
              "      <th>Economic Profile</th>\n",
              "      <th>Total number of government schools in surveyed village</th>\n",
              "      <th>Is electricity available at school?</th>\n",
              "      <th>Type of Household</th>\n",
              "      <th>Currently Enrolled: Institution type</th>\n",
              "      <th>Name of Province/Territory</th>\n",
              "      <th>Current Class-Grade of Child</th>\n",
              "    </tr>\n",
              "  </thead>\n",
              "  <tbody>\n",
              "    <tr>\n",
              "      <th>count</th>\n",
              "      <td>260186.000000</td>\n",
              "      <td>260186</td>\n",
              "      <td>260186</td>\n",
              "      <td>260186.000000</td>\n",
              "      <td>260186</td>\n",
              "      <td>260186</td>\n",
              "      <td>260186.000000</td>\n",
              "      <td>260186</td>\n",
              "      <td>260186.000000</td>\n",
              "      <td>260186</td>\n",
              "      <td>260186.000000</td>\n",
              "      <td>260186.000000</td>\n",
              "      <td>260186.000000</td>\n",
              "      <td>260186</td>\n",
              "      <td>260186.000000</td>\n",
              "      <td>260186.000000</td>\n",
              "      <td>260186</td>\n",
              "      <td>260186.000000</td>\n",
              "      <td>260186.000000</td>\n",
              "      <td>260186</td>\n",
              "      <td>260186.000000</td>\n",
              "      <td>260186.000000</td>\n",
              "      <td>260186</td>\n",
              "      <td>260186.000000</td>\n",
              "      <td>260186.000000</td>\n",
              "      <td>260186</td>\n",
              "      <td>260186</td>\n",
              "      <td>260186</td>\n",
              "      <td>260186</td>\n",
              "    </tr>\n",
              "    <tr>\n",
              "      <th>unique</th>\n",
              "      <td>NaN</td>\n",
              "      <td>30</td>\n",
              "      <td>3</td>\n",
              "      <td>NaN</td>\n",
              "      <td>7</td>\n",
              "      <td>4</td>\n",
              "      <td>NaN</td>\n",
              "      <td>5</td>\n",
              "      <td>NaN</td>\n",
              "      <td>6</td>\n",
              "      <td>NaN</td>\n",
              "      <td>NaN</td>\n",
              "      <td>NaN</td>\n",
              "      <td>2</td>\n",
              "      <td>NaN</td>\n",
              "      <td>NaN</td>\n",
              "      <td>154</td>\n",
              "      <td>NaN</td>\n",
              "      <td>NaN</td>\n",
              "      <td>295</td>\n",
              "      <td>NaN</td>\n",
              "      <td>NaN</td>\n",
              "      <td>4</td>\n",
              "      <td>NaN</td>\n",
              "      <td>NaN</td>\n",
              "      <td>3</td>\n",
              "      <td>4</td>\n",
              "      <td>8</td>\n",
              "      <td>18</td>\n",
              "    </tr>\n",
              "    <tr>\n",
              "      <th>top</th>\n",
              "      <td>NaN</td>\n",
              "      <td>5</td>\n",
              "      <td>Currently Enrolled</td>\n",
              "      <td>NaN</td>\n",
              "      <td>Poverty</td>\n",
              "      <td>Beginner</td>\n",
              "      <td>NaN</td>\n",
              "      <td>Story</td>\n",
              "      <td>NaN</td>\n",
              "      <td>Division</td>\n",
              "      <td>NaN</td>\n",
              "      <td>NaN</td>\n",
              "      <td>NaN</td>\n",
              "      <td>male</td>\n",
              "      <td>NaN</td>\n",
              "      <td>NaN</td>\n",
              "      <td>Panjgur</td>\n",
              "      <td>NaN</td>\n",
              "      <td>NaN</td>\n",
              "      <td>PASHTO</td>\n",
              "      <td>NaN</td>\n",
              "      <td>NaN</td>\n",
              "      <td>Poor</td>\n",
              "      <td>NaN</td>\n",
              "      <td>NaN</td>\n",
              "      <td>kutcha</td>\n",
              "      <td>Government</td>\n",
              "      <td>Balochistan</td>\n",
              "      <td>2</td>\n",
              "    </tr>\n",
              "    <tr>\n",
              "      <th>freq</th>\n",
              "      <td>NaN</td>\n",
              "      <td>251196</td>\n",
              "      <td>186805</td>\n",
              "      <td>NaN</td>\n",
              "      <td>253589</td>\n",
              "      <td>173825</td>\n",
              "      <td>NaN</td>\n",
              "      <td>132547</td>\n",
              "      <td>NaN</td>\n",
              "      <td>125860</td>\n",
              "      <td>NaN</td>\n",
              "      <td>NaN</td>\n",
              "      <td>NaN</td>\n",
              "      <td>146910</td>\n",
              "      <td>NaN</td>\n",
              "      <td>NaN</td>\n",
              "      <td>3808</td>\n",
              "      <td>NaN</td>\n",
              "      <td>NaN</td>\n",
              "      <td>128349</td>\n",
              "      <td>NaN</td>\n",
              "      <td>NaN</td>\n",
              "      <td>67392</td>\n",
              "      <td>NaN</td>\n",
              "      <td>NaN</td>\n",
              "      <td>98345</td>\n",
              "      <td>215730</td>\n",
              "      <td>67706</td>\n",
              "      <td>111843</td>\n",
              "    </tr>\n",
              "    <tr>\n",
              "      <th>mean</th>\n",
              "      <td>130092.500000</td>\n",
              "      <td>NaN</td>\n",
              "      <td>NaN</td>\n",
              "      <td>8.727061</td>\n",
              "      <td>NaN</td>\n",
              "      <td>NaN</td>\n",
              "      <td>40.869555</td>\n",
              "      <td>NaN</td>\n",
              "      <td>36.144401</td>\n",
              "      <td>NaN</td>\n",
              "      <td>3.519002</td>\n",
              "      <td>3.083075</td>\n",
              "      <td>3.084632</td>\n",
              "      <td>NaN</td>\n",
              "      <td>-0.737038</td>\n",
              "      <td>111052.476194</td>\n",
              "      <td>NaN</td>\n",
              "      <td>160.647079</td>\n",
              "      <td>1987.922709</td>\n",
              "      <td>NaN</td>\n",
              "      <td>189.815482</td>\n",
              "      <td>0.662545</td>\n",
              "      <td>NaN</td>\n",
              "      <td>1.138193</td>\n",
              "      <td>0.633877</td>\n",
              "      <td>NaN</td>\n",
              "      <td>NaN</td>\n",
              "      <td>NaN</td>\n",
              "      <td>NaN</td>\n",
              "    </tr>\n",
              "    <tr>\n",
              "      <th>std</th>\n",
              "      <td>75109.372907</td>\n",
              "      <td>NaN</td>\n",
              "      <td>NaN</td>\n",
              "      <td>3.779195</td>\n",
              "      <td>NaN</td>\n",
              "      <td>NaN</td>\n",
              "      <td>8.321908</td>\n",
              "      <td>NaN</td>\n",
              "      <td>7.396435</td>\n",
              "      <td>NaN</td>\n",
              "      <td>1.558213</td>\n",
              "      <td>1.251340</td>\n",
              "      <td>1.147668</td>\n",
              "      <td>NaN</td>\n",
              "      <td>0.440243</td>\n",
              "      <td>11889.175063</td>\n",
              "      <td>NaN</td>\n",
              "      <td>195.974294</td>\n",
              "      <td>11.284562</td>\n",
              "      <td>NaN</td>\n",
              "      <td>214.571726</td>\n",
              "      <td>0.514786</td>\n",
              "      <td>NaN</td>\n",
              "      <td>1.105592</td>\n",
              "      <td>0.481744</td>\n",
              "      <td>NaN</td>\n",
              "      <td>NaN</td>\n",
              "      <td>NaN</td>\n",
              "      <td>NaN</td>\n",
              "    </tr>\n",
              "    <tr>\n",
              "      <th>min</th>\n",
              "      <td>0.000000</td>\n",
              "      <td>NaN</td>\n",
              "      <td>NaN</td>\n",
              "      <td>3.000000</td>\n",
              "      <td>NaN</td>\n",
              "      <td>NaN</td>\n",
              "      <td>20.000000</td>\n",
              "      <td>NaN</td>\n",
              "      <td>17.000000</td>\n",
              "      <td>NaN</td>\n",
              "      <td>0.000000</td>\n",
              "      <td>0.000000</td>\n",
              "      <td>0.000000</td>\n",
              "      <td>NaN</td>\n",
              "      <td>-1.000000</td>\n",
              "      <td>4792.000000</td>\n",
              "      <td>NaN</td>\n",
              "      <td>5.000000</td>\n",
              "      <td>1956.000000</td>\n",
              "      <td>NaN</td>\n",
              "      <td>10.000000</td>\n",
              "      <td>0.000000</td>\n",
              "      <td>NaN</td>\n",
              "      <td>0.000000</td>\n",
              "      <td>0.000000</td>\n",
              "      <td>NaN</td>\n",
              "      <td>NaN</td>\n",
              "      <td>NaN</td>\n",
              "      <td>NaN</td>\n",
              "    </tr>\n",
              "    <tr>\n",
              "      <th>25%</th>\n",
              "      <td>65046.250000</td>\n",
              "      <td>NaN</td>\n",
              "      <td>NaN</td>\n",
              "      <td>6.000000</td>\n",
              "      <td>NaN</td>\n",
              "      <td>NaN</td>\n",
              "      <td>35.000000</td>\n",
              "      <td>NaN</td>\n",
              "      <td>30.000000</td>\n",
              "      <td>NaN</td>\n",
              "      <td>3.000000</td>\n",
              "      <td>3.000000</td>\n",
              "      <td>3.000000</td>\n",
              "      <td>NaN</td>\n",
              "      <td>-1.000000</td>\n",
              "      <td>105869.000000</td>\n",
              "      <td>NaN</td>\n",
              "      <td>46.000000</td>\n",
              "      <td>1983.000000</td>\n",
              "      <td>NaN</td>\n",
              "      <td>61.000000</td>\n",
              "      <td>0.000000</td>\n",
              "      <td>NaN</td>\n",
              "      <td>0.000000</td>\n",
              "      <td>0.000000</td>\n",
              "      <td>NaN</td>\n",
              "      <td>NaN</td>\n",
              "      <td>NaN</td>\n",
              "      <td>NaN</td>\n",
              "    </tr>\n",
              "    <tr>\n",
              "      <th>50%</th>\n",
              "      <td>130092.500000</td>\n",
              "      <td>NaN</td>\n",
              "      <td>NaN</td>\n",
              "      <td>8.000000</td>\n",
              "      <td>NaN</td>\n",
              "      <td>NaN</td>\n",
              "      <td>40.000000</td>\n",
              "      <td>NaN</td>\n",
              "      <td>36.000000</td>\n",
              "      <td>NaN</td>\n",
              "      <td>3.000000</td>\n",
              "      <td>3.000000</td>\n",
              "      <td>3.000000</td>\n",
              "      <td>NaN</td>\n",
              "      <td>-1.000000</td>\n",
              "      <td>116946.000000</td>\n",
              "      <td>NaN</td>\n",
              "      <td>93.000000</td>\n",
              "      <td>1990.000000</td>\n",
              "      <td>NaN</td>\n",
              "      <td>119.000000</td>\n",
              "      <td>1.000000</td>\n",
              "      <td>NaN</td>\n",
              "      <td>1.000000</td>\n",
              "      <td>1.000000</td>\n",
              "      <td>NaN</td>\n",
              "      <td>NaN</td>\n",
              "      <td>NaN</td>\n",
              "      <td>NaN</td>\n",
              "    </tr>\n",
              "    <tr>\n",
              "      <th>75%</th>\n",
              "      <td>195138.750000</td>\n",
              "      <td>NaN</td>\n",
              "      <td>NaN</td>\n",
              "      <td>12.000000</td>\n",
              "      <td>NaN</td>\n",
              "      <td>NaN</td>\n",
              "      <td>45.000000</td>\n",
              "      <td>NaN</td>\n",
              "      <td>40.000000</td>\n",
              "      <td>NaN</td>\n",
              "      <td>4.000000</td>\n",
              "      <td>3.000000</td>\n",
              "      <td>3.000000</td>\n",
              "      <td>NaN</td>\n",
              "      <td>0.000000</td>\n",
              "      <td>118083.000000</td>\n",
              "      <td>NaN</td>\n",
              "      <td>197.000000</td>\n",
              "      <td>1993.000000</td>\n",
              "      <td>NaN</td>\n",
              "      <td>233.000000</td>\n",
              "      <td>1.000000</td>\n",
              "      <td>NaN</td>\n",
              "      <td>2.000000</td>\n",
              "      <td>1.000000</td>\n",
              "      <td>NaN</td>\n",
              "      <td>NaN</td>\n",
              "      <td>NaN</td>\n",
              "      <td>NaN</td>\n",
              "    </tr>\n",
              "    <tr>\n",
              "      <th>max</th>\n",
              "      <td>260185.000000</td>\n",
              "      <td>NaN</td>\n",
              "      <td>NaN</td>\n",
              "      <td>16.000000</td>\n",
              "      <td>NaN</td>\n",
              "      <td>NaN</td>\n",
              "      <td>347.000000</td>\n",
              "      <td>NaN</td>\n",
              "      <td>90.000000</td>\n",
              "      <td>NaN</td>\n",
              "      <td>15.000000</td>\n",
              "      <td>31.000000</td>\n",
              "      <td>25.000000</td>\n",
              "      <td>NaN</td>\n",
              "      <td>0.000000</td>\n",
              "      <td>139005.000000</td>\n",
              "      <td>NaN</td>\n",
              "      <td>2528.000000</td>\n",
              "      <td>2018.000000</td>\n",
              "      <td>NaN</td>\n",
              "      <td>2545.000000</td>\n",
              "      <td>4.000000</td>\n",
              "      <td>NaN</td>\n",
              "      <td>5.000000</td>\n",
              "      <td>1.000000</td>\n",
              "      <td>NaN</td>\n",
              "      <td>NaN</td>\n",
              "      <td>NaN</td>\n",
              "      <td>NaN</td>\n",
              "    </tr>\n",
              "  </tbody>\n",
              "</table>\n",
              "</div>"
            ],
            "text/plain": [
              "           Unnamed: 0  ... Current Class-Grade of Child\n",
              "count   260186.000000  ...                       260186\n",
              "unique            NaN  ...                           18\n",
              "top               NaN  ...                            2\n",
              "freq              NaN  ...                       111843\n",
              "mean    130092.500000  ...                          NaN\n",
              "std      75109.372907  ...                          NaN\n",
              "min          0.000000  ...                          NaN\n",
              "25%      65046.250000  ...                          NaN\n",
              "50%     130092.500000  ...                          NaN\n",
              "75%     195138.750000  ...                          NaN\n",
              "max     260185.000000  ...                          NaN\n",
              "\n",
              "[11 rows x 29 columns]"
            ]
          },
          "metadata": {
            "tags": []
          },
          "execution_count": 89
        }
      ]
    },
    {
      "cell_type": "code",
      "metadata": {
        "colab": {
          "base_uri": "https://localhost:8080/",
          "height": 629
        },
        "id": "p6GIT0lx4yWE",
        "outputId": "7201bfe8-b2ff-41a6-c377-ed74742ac706"
      },
      "source": [
        "#Replacing all values in dropout class-grade and class grade with numerics\n",
        "data.replace({'If Drop-out, studied up-to which class':{'Kachi': 0.0, 'Nursery': 0.2, 'Prep': 0.4, 'PG': 0.6, 'KG': 0.8, 'ECE': 8}}, inplace = True)\n",
        "data.replace({'Current Class-Grade of Child':{'Kachi': 0.0, 'Nursery': 0.2, 'Prep': 0.4, 'PG': 0.6, 'KG': 0.8, 'ECE': 8}}, inplace = True)\n",
        "\n",
        "#Convert to float type\n",
        "data['Current Class-Grade of Child'] = data['Current Class-Grade of Child'].astype(float)\n",
        "data['If Drop-out, studied up-to which class'] = data['If Drop-out, studied up-to which class'].astype(float)\n",
        "\n",
        "#Recheck uniques\n",
        "display(data['If Drop-out, studied up-to which class'].value_counts())\n",
        "display(data['Current Class-Grade of Child'].value_counts())"
      ],
      "execution_count": 90,
      "outputs": [
        {
          "output_type": "display_data",
          "data": {
            "text/plain": [
              "5.0     251654\n",
              "3.0       2135\n",
              "2.0       1966\n",
              "4.0       1375\n",
              "8.0        669\n",
              "1.0        563\n",
              "6.0        530\n",
              "7.0        369\n",
              "10.0       302\n",
              "9.0        160\n",
              "0.6        150\n",
              "0.0         86\n",
              "0.8         83\n",
              "0.4         81\n",
              "12.0        26\n",
              "0.2         24\n",
              "11.0        13\n",
              "Name: If Drop-out, studied up-to which class, dtype: int64"
            ]
          },
          "metadata": {
            "tags": []
          }
        },
        {
          "output_type": "display_data",
          "data": {
            "text/plain": [
              "2.0     111843\n",
              "3.0      22712\n",
              "1.0      20160\n",
              "5.0      17264\n",
              "4.0      17250\n",
              "6.0      11346\n",
              "8.0      11321\n",
              "7.0       8963\n",
              "9.0       6669\n",
              "0.0       6554\n",
              "0.8       6287\n",
              "10.0      5976\n",
              "0.2       4739\n",
              "0.4       4366\n",
              "0.6       3179\n",
              "11.0      1068\n",
              "12.0       489\n",
              "Name: Current Class-Grade of Child, dtype: int64"
            ]
          },
          "metadata": {
            "tags": []
          }
        }
      ]
    },
    {
      "cell_type": "code",
      "metadata": {
        "id": "m5vEVDzH7RtX",
        "colab": {
          "base_uri": "https://localhost:8080/",
          "height": 726
        },
        "outputId": "1b3632e8-4e63-451e-8b71-a5c89cadf38a"
      },
      "source": [
        "#Visualize distribution of all numeric attributes\n",
        "data.hist(column=['Age of Child','Age of father (completed years)','Age of mother (completed years)','Total number of surviving children (LESS THAN 17) of mother','Male members of household','Female members of household'], figsize=(10,10), bins=20)"
      ],
      "execution_count": 91,
      "outputs": [
        {
          "output_type": "execute_result",
          "data": {
            "text/plain": [
              "array([[<matplotlib.axes._subplots.AxesSubplot object at 0x7f8029376470>,\n",
              "        <matplotlib.axes._subplots.AxesSubplot object at 0x7f802929e860>],\n",
              "       [<matplotlib.axes._subplots.AxesSubplot object at 0x7f802924bba8>,\n",
              "        <matplotlib.axes._subplots.AxesSubplot object at 0x7f80291faf28>],\n",
              "       [<matplotlib.axes._subplots.AxesSubplot object at 0x7f802922a470>,\n",
              "        <matplotlib.axes._subplots.AxesSubplot object at 0x7f80291d7710>]],\n",
              "      dtype=object)"
            ]
          },
          "metadata": {
            "tags": []
          },
          "execution_count": 91
        },
        {
          "output_type": "display_data",
          "data": {
            "image/png": "[encoded data removed]",
            "text/plain": [
              "<Figure size 720x720 with 6 Axes>"
            ]
          },
          "metadata": {
            "tags": [],
            "needs_background": "light"
          }
        }
      ]
    },
    {
      "cell_type": "code",
      "metadata": {
        "colab": {
          "base_uri": "https://localhost:8080/",
          "height": 279
        },
        "id": "TaRFPNw_EDas",
        "outputId": "15b900ee-e37c-4382-97d5-03921930e52b"
      },
      "source": [
        "#Distribution of Ages\n",
        "ax = sns.distplot(data['Age of Child'])"
      ],
      "execution_count": 92,
      "outputs": [
        {
          "output_type": "display_data",
          "data": {
            "image/png": "[encoded data removed]",
            "text/plain": [
              "<Figure size 432x288 with 1 Axes>"
            ]
          },
          "metadata": {
            "tags": [],
            "needs_background": "light"
          }
        }
      ]
    },
    {
      "cell_type": "code",
      "metadata": {
        "colab": {
          "base_uri": "https://localhost:8080/",
          "height": 296
        },
        "id": "aUWeqmSOgS9Y",
        "outputId": "5acd8539-f1a4-40f9-d6e2-973e5dc0646e"
      },
      "source": [
        "#What ages of children were interviewed\n",
        "sns.boxplot(data['Age of Child'])\n",
        "#Data is not symmetric its right skewed"
      ],
      "execution_count": 93,
      "outputs": [
        {
          "output_type": "execute_result",
          "data": {
            "text/plain": [
              "<matplotlib.axes._subplots.AxesSubplot at 0x7f8029887d30>"
            ]
          },
          "metadata": {
            "tags": []
          },
          "execution_count": 93
        },
        {
          "output_type": "display_data",
          "data": {
            "image/png": "[encoded data removed]",
            "text/plain": [
              "<Figure size 432x288 with 1 Axes>"
            ]
          },
          "metadata": {
            "tags": [],
            "needs_background": "light"
          }
        }
      ]
    },
    {
      "cell_type": "code",
      "metadata": {
        "colab": {
          "base_uri": "https://localhost:8080/",
          "height": 296
        },
        "id": "88E8srfchKHn",
        "outputId": "bf8211bc-3967-47fb-896b-040172afbcdd"
      },
      "source": [
        "#What Class grades data is available\n",
        "data['Current Class-Grade of Child'].value_counts()\n",
        "plt = data[data['Edu status'] == 'Currently Enrolled']\n",
        "plt['Current Class-Grade of Child'].value_counts()\n",
        "sns.boxplot(plt['Current Class-Grade of Child'])"
      ],
      "execution_count": 94,
      "outputs": [
        {
          "output_type": "execute_result",
          "data": {
            "text/plain": [
              "<matplotlib.axes._subplots.AxesSubplot at 0x7f8029b96320>"
            ]
          },
          "metadata": {
            "tags": []
          },
          "execution_count": 94
        },
        {
          "output_type": "display_data",
          "data": {
            "image/png": "[encoded data removed]",
            "text/plain": [
              "<Figure size 432x288 with 1 Axes>"
            ]
          },
          "metadata": {
            "tags": [],
            "needs_background": "light"
          }
        }
      ]
    },
    {
      "cell_type": "code",
      "metadata": {
        "colab": {
          "base_uri": "https://localhost:8080/",
          "height": 350
        },
        "id": "TFAqJ8cal-QT",
        "outputId": "994def7e-9467-45e8-d1dc-416304e54ce3"
      },
      "source": [
        "#What type of instituions were visited\n",
        "plt = data[data['Edu status'] == 'Currently Enrolled']\n",
        "fig, ax = pyplt.subplots()\n",
        "\n",
        "# the size of A4 paper\n",
        "sns.histplot(data=data['Currently Enrolled: Institution type'], ax=ax)\n",
        "pyplt.xticks(rotation=15)\n"
      ],
      "execution_count": 95,
      "outputs": [
        {
          "output_type": "execute_result",
          "data": {
            "text/plain": [
              "([0, 1, 2, 3], <a list of 4 Text major ticklabel objects>)"
            ]
          },
          "metadata": {
            "tags": []
          },
          "execution_count": 95
        },
        {
          "output_type": "display_data",
          "data": {
            "image/png": "[encoded data removed]",
            "text/plain": [
              "<Figure size 432x288 with 1 Axes>"
            ]
          },
          "metadata": {
            "tags": [],
            "needs_background": "light"
          }
        }
      ]
    },
    {
      "cell_type": "code",
      "metadata": {
        "colab": {
          "base_uri": "https://localhost:8080/",
          "height": 405
        },
        "id": "GH28933lqID8",
        "outputId": "4350f0aa-3ceb-4d61-d3d4-2efae1c0da50"
      },
      "source": [
        "#What type of houswholds were visited\n",
        "\n",
        "fig, ax = pyplt.subplots()\n",
        "fig.set_size_inches(6, 6)\n",
        "sns.histplot(data=data['Type of Household'], ax=ax, binwidth=0.5)"
      ],
      "execution_count": 96,
      "outputs": [
        {
          "output_type": "execute_result",
          "data": {
            "text/plain": [
              "<matplotlib.axes._subplots.AxesSubplot at 0x7f802a7befd0>"
            ]
          },
          "metadata": {
            "tags": []
          },
          "execution_count": 96
        },
        {
          "output_type": "display_data",
          "data": {
            "image/png": "[encoded data removed]",
            "text/plain": [
              "<Figure size 432x432 with 1 Axes>"
            ]
          },
          "metadata": {
            "tags": [],
            "needs_background": "light"
          }
        }
      ]
    },
    {
      "cell_type": "code",
      "metadata": {
        "id": "ezQUo5NEGC32",
        "colab": {
          "base_uri": "https://localhost:8080/",
          "height": 296
        },
        "outputId": "4956dd8e-4536-4b9e-8f77-edc7e2230e76"
      },
      "source": [
        "#What is the distrubution of education status like\n",
        "sns.histplot(data['Edu status'])"
      ],
      "execution_count": 97,
      "outputs": [
        {
          "output_type": "execute_result",
          "data": {
            "text/plain": [
              "<matplotlib.axes._subplots.AxesSubplot at 0x7f802964bb38>"
            ]
          },
          "metadata": {
            "tags": []
          },
          "execution_count": 97
        },
        {
          "output_type": "display_data",
          "data": {
            "image/png": "[encoded data removed]",
            "text/plain": [
              "<Figure size 432x288 with 1 Axes>"
            ]
          },
          "metadata": {
            "tags": [],
            "needs_background": "light"
          }
        }
      ]
    },
    {
      "cell_type": "code",
      "metadata": {
        "colab": {
          "base_uri": "https://localhost:8080/",
          "height": 781
        },
        "id": "rGP0oyC2rw5G",
        "outputId": "9150a126-446f-47de-cd73-3f447e61b373"
      },
      "source": [
        "#How many districts per province were included\n",
        "distInfo = data[['Name of the District', 'Name of Province/Territory']].groupby(['Name of Province/Territory']).count()\n",
        "display(distInfo)\n",
        "distInfo.plot(kind = 'bar')"
      ],
      "execution_count": 98,
      "outputs": [
        {
          "output_type": "display_data",
          "data": {
            "text/html": [
              "<div>\n",
              "<style scoped>\n",
              "    .dataframe tbody tr th:only-of-type {\n",
              "        vertical-align: middle;\n",
              "    }\n",
              "\n",
              "    .dataframe tbody tr th {\n",
              "        vertical-align: top;\n",
              "    }\n",
              "\n",
              "    .dataframe thead th {\n",
              "        text-align: right;\n",
              "    }\n",
              "</style>\n",
              "<table border=\"1\" class=\"dataframe\">\n",
              "  <thead>\n",
              "    <tr style=\"text-align: right;\">\n",
              "      <th></th>\n",
              "      <th>Name of the District</th>\n",
              "    </tr>\n",
              "    <tr>\n",
              "      <th>Name of Province/Territory</th>\n",
              "      <th></th>\n",
              "    </tr>\n",
              "  </thead>\n",
              "  <tbody>\n",
              "    <tr>\n",
              "      <th>Azad Jammu and Kashmir</th>\n",
              "      <td>15848</td>\n",
              "    </tr>\n",
              "    <tr>\n",
              "      <th>Balochistan</th>\n",
              "      <td>67706</td>\n",
              "    </tr>\n",
              "    <tr>\n",
              "      <th>Gilgit-Baltistan</th>\n",
              "      <td>16828</td>\n",
              "    </tr>\n",
              "    <tr>\n",
              "      <th>Islamabad - ICT</th>\n",
              "      <td>1392</td>\n",
              "    </tr>\n",
              "    <tr>\n",
              "      <th>Khyber Pakhtunkhwa</th>\n",
              "      <td>42125</td>\n",
              "    </tr>\n",
              "    <tr>\n",
              "      <th>Khyber Pakhtunkhwa Merged Region</th>\n",
              "      <td>22312</td>\n",
              "    </tr>\n",
              "    <tr>\n",
              "      <th>Punjab</th>\n",
              "      <td>57450</td>\n",
              "    </tr>\n",
              "    <tr>\n",
              "      <th>Sindh</th>\n",
              "      <td>36525</td>\n",
              "    </tr>\n",
              "  </tbody>\n",
              "</table>\n",
              "</div>"
            ],
            "text/plain": [
              "                                  Name of the District\n",
              "Name of Province/Territory                            \n",
              "Azad Jammu and Kashmir                           15848\n",
              "Balochistan                                      67706\n",
              "Gilgit-Baltistan                                 16828\n",
              "Islamabad - ICT                                   1392\n",
              "Khyber Pakhtunkhwa                               42125\n",
              "Khyber Pakhtunkhwa Merged Region                 22312\n",
              "Punjab                                           57450\n",
              "Sindh                                            36525"
            ]
          },
          "metadata": {
            "tags": []
          }
        },
        {
          "output_type": "execute_result",
          "data": {
            "text/plain": [
              "<matplotlib.axes._subplots.AxesSubplot at 0x7f8029b36860>"
            ]
          },
          "metadata": {
            "tags": []
          },
          "execution_count": 98
        },
        {
          "output_type": "display_data",
          "data": {
            "image/png": "[encoded data removed]",
            "text/plain": [
              "<Figure size 432x288 with 1 Axes>"
            ]
          },
          "metadata": {
            "tags": [],
            "needs_background": "light"
          }
        }
      ]
    },
    {
      "cell_type": "code",
      "metadata": {
        "id": "Z4Ha8L6gOet6",
        "colab": {
          "base_uri": "https://localhost:8080/",
          "height": 573
        },
        "outputId": "bbc7994b-db51-4c5b-f081-945786272b8c"
      },
      "source": [
        "#What provinces have the highest dropouts/enrolled/never enrolled students\n",
        "g = sns.catplot('Name of Province/Territory', col = 'Edu status',\n",
        "                data=data[data['Edu status'].notnull()], kind=\"count\", dodge = False, legend = True, hue = 'Name of Province/Territory')\n",
        "fig.suptitle('sf')\n",
        "g.set_xticklabels(rotation=90)"
      ],
      "execution_count": 99,
      "outputs": [
        {
          "output_type": "execute_result",
          "data": {
            "text/plain": [
              "<seaborn.axisgrid.FacetGrid at 0x7f8029590f98>"
            ]
          },
          "metadata": {
            "tags": []
          },
          "execution_count": 99
        },
        {
          "output_type": "display_data",
          "data": {
            "image/png": "[encoded data removed]",
            "text/plain": [
              "<Figure size 1080x360 with 3 Axes>"
            ]
          },
          "metadata": {
            "tags": [],
            "needs_background": "light"
          }
        }
      ]
    },
    {
      "cell_type": "code",
      "metadata": {
        "id": "8U_-iiZnq754",
        "outputId": "40693b79-3927-4978-e307-d9690a44e608",
        "colab": {
          "base_uri": "https://localhost:8080/",
          "height": 480
        }
      },
      "source": [
        "#Province wise education status for difference genders\n",
        "g = sns.catplot('Edu status', col = 'Gender',\n",
        "                data=data[data['Gender'].notnull()], kind=\"count\", dodge = False, legend = True, hue = 'Name of Province/Territory')\n",
        "fig.suptitle('sf')\n",
        "g.set_xticklabels(rotation=90)"
      ],
      "execution_count": 101,
      "outputs": [
        {
          "output_type": "execute_result",
          "data": {
            "text/plain": [
              "<seaborn.axisgrid.FacetGrid at 0x7f8028e98d68>"
            ]
          },
          "metadata": {
            "tags": []
          },
          "execution_count": 101
        },
        {
          "output_type": "display_data",
          "data": {
            "image/png": "[encoded data removed]",
            "text/plain": [
              "<Figure size 939.125x360 with 2 Axes>"
            ]
          },
          "metadata": {
            "tags": [],
            "needs_background": "light"
          }
        }
      ]
    },
    {
      "cell_type": "code",
      "metadata": {
        "id": "ccU_vkMRrUhq"
      },
      "source": [
        "#What genders have the highest dropouts/enrolled/never enrolled students in provinces\n"
      ],
      "execution_count": null,
      "outputs": []
    },
    {
      "cell_type": "code",
      "metadata": {
        "id": "7NmoUDct2Ky5",
        "colab": {
          "base_uri": "https://localhost:8080/",
          "height": 867
        },
        "outputId": "f8592db0-f1d4-4b22-bc41-45b936e46c36"
      },
      "source": [
        "#Age distribution within Edu status\n",
        "ageCE = data[data['Edu status'] == 'Currently Enrolled']\n",
        "ageNE = data[data['Edu status'] == 'Never Enrolled']\n",
        "ageDO = data[data['Edu status'] == 'Drop out']\n",
        "\n",
        "print('Total number of dropouts are', ageDO['Age of Child'].count())\n",
        "print('Total number of currently enrolled are', ageCE['Age of Child'].count())\n",
        "print('Total number of never enrolled are', ageNE['Age of Child'].count(), '\\n')\n",
        "\n",
        "print(\"Descriptive Statistics for dropped out ages: \", ageDO['Age of Child'].describe(), '\\n')\n",
        "print(\"Descriptive Statistics for never enrolled ages \", ageNE['Age of Child'].describe(), '\\n')\n",
        "print(\"Descriptive Statistics for currently enrolled ages \", ageCE['Age of Child'].describe(), '\\n')\n",
        "\n",
        "sns.boxplot(y='Age of Child', x='Edu status',                  data=data,                  palette=\"colorblind\")"
      ],
      "execution_count": null,
      "outputs": [
        {
          "output_type": "stream",
          "text": [
            "Total number of dropouts are 12603\n",
            "Total number of currently enrolled are 186805\n",
            "Total number of never enrolled are 60778 \n",
            "\n",
            "Descriptive Statistics for dropped out ages:  count    12603.000000\n",
            "mean        12.519162\n",
            "std          2.948644\n",
            "min          3.000000\n",
            "25%         10.000000\n",
            "50%         13.000000\n",
            "75%         15.000000\n",
            "max         16.000000\n",
            "Name: Age of Child, dtype: float64 \n",
            "\n",
            "Descriptive Statistics for never enrolled ages  count    60778.000000\n",
            "mean         5.815114\n",
            "std          3.589742\n",
            "min          3.000000\n",
            "25%          3.000000\n",
            "50%          4.000000\n",
            "75%          7.000000\n",
            "max         16.000000\n",
            "Name: Age of Child, dtype: float64 \n",
            "\n",
            "Descriptive Statistics for currently enrolled ages  count    186805.000000\n",
            "mean          9.418640\n",
            "std           3.302475\n",
            "min           3.000000\n",
            "25%           7.000000\n",
            "50%           9.000000\n",
            "75%          12.000000\n",
            "max          16.000000\n",
            "Name: Age of Child, dtype: float64 \n",
            "\n"
          ],
          "name": "stdout"
        },
        {
          "output_type": "execute_result",
          "data": {
            "text/plain": [
              "<matplotlib.axes._subplots.AxesSubplot at 0x7fd7e4551cc0>"
            ]
          },
          "metadata": {
            "tags": []
          },
          "execution_count": 67
        },
        {
          "output_type": "display_data",
          "data": {
            "image/png": "[encoded data removed]",
            "text/plain": [
              "<Figure size 432x288 with 1 Axes>"
            ]
          },
          "metadata": {
            "tags": [],
            "needs_background": "light"
          }
        }
      ]
    },
    {
      "cell_type": "code",
      "metadata": {
        "colab": {
          "base_uri": "https://localhost:8080/",
          "height": 279
        },
        "id": "2Sen9Wu5BUFn",
        "outputId": "47927685-f696-4d06-c9b2-6400b083485f"
      },
      "source": [
        "ax = sns.histplot(data['If Drop-out, studied up-to which class'])\n",
        "ax.set_yscale('log')"
      ],
      "execution_count": null,
      "outputs": [
        {
          "output_type": "display_data",
          "data": {
            "image/png": "[encoded data removed]",
            "text/plain": [
              "<Figure size 432x288 with 1 Axes>"
            ]
          },
          "metadata": {
            "tags": [],
            "needs_background": "light"
          }
        }
      ]
    },
    {
      "cell_type": "code",
      "metadata": {
        "colab": {
          "base_uri": "https://localhost:8080/",
          "height": 320
        },
        "id": "22quPx4Z6p2T",
        "outputId": "abd3eb74-35aa-4e1b-f43a-e3b1d72a98f1"
      },
      "source": [
        "g = sns.catplot('Edu status', col = 'Reading in local language',\n",
        "                data=data[data['Reading in local language'].notnull()], kind=\"count\", dodge = False)\n",
        "fig.suptitle('sf')"
      ],
      "execution_count": null,
      "outputs": [
        {
          "output_type": "execute_result",
          "data": {
            "text/plain": [
              "Text(0.5, 0.98, 'sf')"
            ]
          },
          "metadata": {
            "tags": []
          },
          "execution_count": 18
        },
        {
          "output_type": "display_data",
          "data": {
            "image/png": "[encoded data removed]",
            "text/plain": [
              "<Figure size 1800x360 with 5 Axes>"
            ]
          },
          "metadata": {
            "tags": [],
            "needs_background": "light"
          }
        }
      ]
    },
    {
      "cell_type": "code",
      "metadata": {
        "colab": {
          "base_uri": "https://localhost:8080/",
          "height": 273
        },
        "id": "S5IQoZrL94S9",
        "outputId": "da171c2f-6562-4eb8-b0dc-6761dfaf1ad9"
      },
      "source": [
        "g = sns.catplot('Edu status', col = 'Arithmetic Levels',\n",
        "                data=data[data['Arithmetic Levels'].notnull()], kind=\"count\", dodge = False)\n",
        "fig.suptitle('sf')"
      ],
      "execution_count": null,
      "outputs": [
        {
          "output_type": "execute_result",
          "data": {
            "text/plain": [
              "Text(0.5, 0.98, 'sf')"
            ]
          },
          "metadata": {
            "tags": []
          },
          "execution_count": 19
        },
        {
          "output_type": "display_data",
          "data": {
            "image/png": "[encoded data removed]",
            "text/plain": [
              "<Figure size 2160x360 with 6 Axes>"
            ]
          },
          "metadata": {
            "tags": [],
            "needs_background": "light"
          }
        }
      ]
    },
    {
      "cell_type": "code",
      "metadata": {
        "id": "zHFsHuT0rT_j",
        "colab": {
          "base_uri": "https://localhost:8080/",
          "height": 420
        },
        "outputId": "3f502ebb-eb60-404c-bb63-e91fd30c43b0"
      },
      "source": [
        "g = sns.catplot('Edu status', col = 'English Reading Level',\n",
        "                data=data[data['English Reading Level'].notnull()], kind=\"count\", dodge = False)\n",
        "fig.suptitle('sf')"
      ],
      "execution_count": null,
      "outputs": [
        {
          "output_type": "execute_result",
          "data": {
            "text/plain": [
              "Text(0.5, 0.98, 'sf')"
            ]
          },
          "metadata": {
            "tags": []
          },
          "execution_count": 20
        },
        {
          "output_type": "display_data",
          "data": {
            "image/png": "[encoded data removed]",
            "text/plain": [
              "<Figure size 1440x360 with 4 Axes>"
            ]
          },
          "metadata": {
            "tags": [],
            "needs_background": "light"
          }
        }
      ]
    },
    {
      "cell_type": "code",
      "metadata": {
        "id": "Op4flP19t0aQ",
        "colab": {
          "base_uri": "https://localhost:8080/",
          "height": 400
        },
        "outputId": "c5f8c519-8f12-4def-8903-5300dfd33378"
      },
      "source": [
        "g = sns.catplot('Gender', col = 'Edu status',\n",
        "                data=data[data['Edu status'].notnull()], kind=\"count\", dodge = False)\n",
        "fig.suptitle('sf')"
      ],
      "execution_count": null,
      "outputs": [
        {
          "output_type": "execute_result",
          "data": {
            "text/plain": [
              "Text(0.5, 0.98, 'sf')"
            ]
          },
          "metadata": {
            "tags": []
          },
          "execution_count": 25
        },
        {
          "output_type": "display_data",
          "data": {
            "image/png": "[encoded data removed]",
            "text/plain": [
              "<Figure size 1080x360 with 3 Axes>"
            ]
          },
          "metadata": {
            "tags": [],
            "needs_background": "light"
          }
        }
      ]
    },
    {
      "cell_type": "code",
      "metadata": {
        "id": "gAcfY4rxuNoL",
        "colab": {
          "base_uri": "https://localhost:8080/",
          "height": 392
        },
        "outputId": "9a9847c6-b06b-444a-9c0c-d72ef47881ad"
      },
      "source": [
        "g = sns.catplot('Gender', col = 'Economic Profile',\n",
        "                data=data[data['Economic Profile'].notnull()], kind=\"count\", dodge = False)\n",
        "fig.suptitle('sf')"
      ],
      "execution_count": null,
      "outputs": [
        {
          "output_type": "execute_result",
          "data": {
            "text/plain": [
              "Text(0.5, 0.98, 'sf')"
            ]
          },
          "metadata": {
            "tags": []
          },
          "execution_count": 26
        },
        {
          "output_type": "display_data",
          "data": {
            "image/png": "[encoded data removed]",
            "text/plain": [
              "<Figure size 1440x360 with 4 Axes>"
            ]
          },
          "metadata": {
            "tags": [],
            "needs_background": "light"
          }
        }
      ]
    },
    {
      "cell_type": "code",
      "metadata": {
        "id": "PCBy8hpwuTtK",
        "colab": {
          "base_uri": "https://localhost:8080/",
          "height": 400
        },
        "outputId": "0206b033-7b4a-4f6a-ae09-3e7d93c435f2"
      },
      "source": [
        "g = sns.catplot('Gender', col = 'Type of Household',\n",
        "                data=data[data['Type of Household'].notnull()], kind=\"count\", dodge = False)\n",
        "fig.suptitle('sf')"
      ],
      "execution_count": null,
      "outputs": [
        {
          "output_type": "execute_result",
          "data": {
            "text/plain": [
              "Text(0.5, 0.98, 'sf')"
            ]
          },
          "metadata": {
            "tags": []
          },
          "execution_count": 28
        },
        {
          "output_type": "display_data",
          "data": {
            "image/png": "[encoded data removed]",
            "text/plain": [
              "<Figure size 1080x360 with 3 Axes>"
            ]
          },
          "metadata": {
            "tags": [],
            "needs_background": "light"
          }
        }
      ]
    },
    {
      "cell_type": "code",
      "metadata": {
        "id": "DvsWajAuuhQR"
      },
      "source": [
        "g = sns.catplot('Gender', col = 'Economic Profile',\n",
        "                data=data[data['Economic Profile'].notnull()], kind=\"count\", dodge = False)\n",
        "fig.suptitle('sf')"
      ],
      "execution_count": null,
      "outputs": []
    },
    {
      "cell_type": "code",
      "metadata": {
        "colab": {
          "base_uri": "https://localhost:8080/",
          "height": 296
        },
        "id": "j2-_4UuVzYP4",
        "outputId": "92565bad-1034-4474-cc98-518037cc8e1b"
      },
      "source": [
        "sns.histplot(data['Is electricity available at school?'])"
      ],
      "execution_count": null,
      "outputs": [
        {
          "output_type": "execute_result",
          "data": {
            "text/plain": [
              "<matplotlib.axes._subplots.AxesSubplot at 0x7fd7ef74cba8>"
            ]
          },
          "metadata": {
            "tags": []
          },
          "execution_count": 21
        },
        {
          "output_type": "display_data",
          "data": {
            "image/png": "[encoded data removed]",
            "text/plain": [
              "<Figure size 432x288 with 1 Axes>"
            ]
          },
          "metadata": {
            "tags": [],
            "needs_background": "light"
          }
        }
      ]
    },
    {
      "cell_type": "code",
      "metadata": {
        "colab": {
          "base_uri": "https://localhost:8080/",
          "height": 282
        },
        "id": "1QKpvyYf1M-k",
        "outputId": "97264774-f953-434b-9f7b-516e3165837d"
      },
      "source": [
        "data['Edu status'].value_counts().plot(kind='barh')"
      ],
      "execution_count": null,
      "outputs": [
        {
          "output_type": "execute_result",
          "data": {
            "text/plain": [
              "<matplotlib.axes._subplots.AxesSubplot at 0x7fd7f2f2c7f0>"
            ]
          },
          "metadata": {
            "tags": []
          },
          "execution_count": 22
        },
        {
          "output_type": "display_data",
          "data": {
            "image/png": "[encoded data removed]",
            "text/plain": [
              "<Figure size 432x288 with 1 Axes>"
            ]
          },
          "metadata": {
            "tags": [],
            "needs_background": "light"
          }
        }
      ]
    },
    {
      "cell_type": "code",
      "metadata": {
        "id": "lKIotqgZum3n",
        "colab": {
          "base_uri": "https://localhost:8080/",
          "height": 248
        },
        "outputId": "debd7e48-2de4-49c6-da05-d04bfe1fd2e6"
      },
      "source": [
        "#####################MAKE BIGGER IF YOU HAVE TIME LATER#####################\n",
        "plt = data[data['Edu status'] == 'Drop out']\n",
        "#plt['Reasons for dropout'].value_counts().plot(kind='pie', subplots=True, figsize=(15,10))\n",
        "#plt['Reasons for dropout'].value_counts().plot.pie(subplots=True)\n",
        "labels = ['Poverty', 'Misc Reasons with frequency less than 5 cases' ,'Law and Order', 'Flood', 'Migration', 'School building shifted by gov', 'Illness']\n",
        "pyplt.pie(plt['Reasons for dropout'].value_counts())\n",
        "pyplt.legend(labels=labels,  bbox_to_anchor=(1.05, 1), loc='upper left')\n",
        "pyplt.show()"
      ],
      "execution_count": null,
      "outputs": [
        {
          "output_type": "display_data",
          "data": {
            "image/png": "[encoded data removed]",
            "text/plain": [
              "<Figure size 432x288 with 1 Axes>"
            ]
          },
          "metadata": {
            "tags": []
          }
        }
      ]
    },
    {
      "cell_type": "code",
      "metadata": {
        "id": "TwPchlFh0rd8",
        "colab": {
          "base_uri": "https://localhost:8080/"
        },
        "outputId": "231144f2-5310-414a-f283-9bbd2fac6f9f"
      },
      "source": [
        "plt['Reasons for dropout'].value_counts()"
      ],
      "execution_count": null,
      "outputs": [
        {
          "output_type": "execute_result",
          "data": {
            "text/plain": [
              "Poverty                                          6006\n",
              "Misc Reasons with frequency less than 5 cases    4593\n",
              "Law and Order                                    1871\n",
              "Flood                                              55\n",
              "Migration                                          36\n",
              "School building shifted by gov                     35\n",
              "Illness                                             7\n",
              "Name: Reasons for dropout, dtype: int64"
            ]
          },
          "metadata": {
            "tags": []
          },
          "execution_count": 75
        }
      ]
    },
    {
      "cell_type": "code",
      "metadata": {
        "id": "vHiqwTL58OMf",
        "colab": {
          "base_uri": "https://localhost:8080/",
          "height": 295
        },
        "outputId": "6de1b23b-a348-4c07-8d0c-374e1a876ffa"
      },
      "source": [
        "import matplotlib.pyplot as plt\n",
        "data.plot.scatter(x='Year of school establishment', y='Total number of enrolled children', title= \"Scatter plot between two variables X and Y\")"
      ],
      "execution_count": null,
      "outputs": [
        {
          "output_type": "display_data",
          "data": {
            "image/png": "[encoded data removed]",
            "text/plain": [
              "<Figure size 432x288 with 1 Axes>"
            ]
          },
          "metadata": {
            "tags": [],
            "needs_background": "light"
          }
        }
      ]
    },
    {
      "cell_type": "code",
      "metadata": {
        "id": "49QzxFHe9TVq",
        "colab": {
          "base_uri": "https://localhost:8080/",
          "height": 807
        },
        "outputId": "fd5f5998-f9df-4ffa-ec78-417615480aa2"
      },
      "source": [
        "import matplotlib.pyplot as plt\n",
        "#distInfo = data[['Edu status', 'Year of school establishment']].groupby(['Edu status']).count()\n",
        "#display(distInfo)\n",
        "numDrop = data[data['Edu status'] == 'Drop out']\n",
        "distInfo = numDrop[['Edu status', 'Year of school establishment']].groupby(['Year of school establishment']).count()\n",
        "display(distInfo)\n",
        "#numEnroll = data[data['Edu status'] == 'Currently Enrolled']\n",
        "numDrop['Year of school establishment'].groupby(1956.0).count()\n",
        "distInfo.plot(kind='bar')\n",
        "\n",
        "#data.plot.scatter(x='Year of school establishment', y = 'Edu status', title= \"Scatter plot between two variables X and Y\")\n",
        "#numDrop.plot.scatter(x='Year of school establishment', y='Total number of enrolled children', title= \"Scatter plot between two variables X and Y\")"
      ],
      "execution_count": null,
      "outputs": [
        {
          "output_type": "display_data",
          "data": {
            "text/html": [
              "<div>\n",
              "<style scoped>\n",
              "    .dataframe tbody tr th:only-of-type {\n",
              "        vertical-align: middle;\n",
              "    }\n",
              "\n",
              "    .dataframe tbody tr th {\n",
              "        vertical-align: top;\n",
              "    }\n",
              "\n",
              "    .dataframe thead th {\n",
              "        text-align: right;\n",
              "    }\n",
              "</style>\n",
              "<table border=\"1\" class=\"dataframe\">\n",
              "  <thead>\n",
              "    <tr style=\"text-align: right;\">\n",
              "      <th></th>\n",
              "      <th>Edu status</th>\n",
              "    </tr>\n",
              "    <tr>\n",
              "      <th>Year of school establishment</th>\n",
              "      <th></th>\n",
              "    </tr>\n",
              "  </thead>\n",
              "  <tbody>\n",
              "    <tr>\n",
              "      <th>1956.0</th>\n",
              "      <td>23</td>\n",
              "    </tr>\n",
              "    <tr>\n",
              "      <th>1957.0</th>\n",
              "      <td>29</td>\n",
              "    </tr>\n",
              "    <tr>\n",
              "      <th>1958.0</th>\n",
              "      <td>47</td>\n",
              "    </tr>\n",
              "    <tr>\n",
              "      <th>1959.0</th>\n",
              "      <td>15</td>\n",
              "    </tr>\n",
              "    <tr>\n",
              "      <th>1960.0</th>\n",
              "      <td>79</td>\n",
              "    </tr>\n",
              "    <tr>\n",
              "      <th>...</th>\n",
              "      <td>...</td>\n",
              "    </tr>\n",
              "    <tr>\n",
              "      <th>2014.0</th>\n",
              "      <td>25</td>\n",
              "    </tr>\n",
              "    <tr>\n",
              "      <th>2015.0</th>\n",
              "      <td>33</td>\n",
              "    </tr>\n",
              "    <tr>\n",
              "      <th>2016.0</th>\n",
              "      <td>13</td>\n",
              "    </tr>\n",
              "    <tr>\n",
              "      <th>2017.0</th>\n",
              "      <td>7</td>\n",
              "    </tr>\n",
              "    <tr>\n",
              "      <th>2018.0</th>\n",
              "      <td>10</td>\n",
              "    </tr>\n",
              "  </tbody>\n",
              "</table>\n",
              "<p>63 rows × 1 columns</p>\n",
              "</div>"
            ],
            "text/plain": [
              "                              Edu status\n",
              "Year of school establishment            \n",
              "1956.0                                23\n",
              "1957.0                                29\n",
              "1958.0                                47\n",
              "1959.0                                15\n",
              "1960.0                                79\n",
              "...                                  ...\n",
              "2014.0                                25\n",
              "2015.0                                33\n",
              "2016.0                                13\n",
              "2017.0                                 7\n",
              "2018.0                                10\n",
              "\n",
              "[63 rows x 1 columns]"
            ]
          },
          "metadata": {
            "tags": []
          }
        },
        {
          "output_type": "error",
          "ename": "KeyError",
          "evalue": "ignored",
          "traceback": [
            "\u001b[0;31m---------------------------------------------------------------------------\u001b[0m",
            "\u001b[0;31mKeyError\u001b[0m                                  Traceback (most recent call last)",
            "\u001b[0;32m<ipython-input-80-222466eac974>\u001b[0m in \u001b[0;36m<module>\u001b[0;34m()\u001b[0m\n\u001b[1;32m      6\u001b[0m \u001b[0mdisplay\u001b[0m\u001b[0;34m(\u001b[0m\u001b[0mdistInfo\u001b[0m\u001b[0;34m)\u001b[0m\u001b[0;34m\u001b[0m\u001b[0;34m\u001b[0m\u001b[0m\n\u001b[1;32m      7\u001b[0m \u001b[0;31m#numEnroll = data[data['Edu status'] == 'Currently Enrolled']\u001b[0m\u001b[0;34m\u001b[0m\u001b[0;34m\u001b[0m\u001b[0;34m\u001b[0m\u001b[0m\n\u001b[0;32m----> 8\u001b[0;31m \u001b[0mnumDrop\u001b[0m\u001b[0;34m[\u001b[0m\u001b[0;34m'Year of school establishment'\u001b[0m\u001b[0;34m]\u001b[0m\u001b[0;34m.\u001b[0m\u001b[0mgroupby\u001b[0m\u001b[0;34m(\u001b[0m\u001b[0;36m1956.0\u001b[0m\u001b[0;34m)\u001b[0m\u001b[0;34m.\u001b[0m\u001b[0mcount\u001b[0m\u001b[0;34m(\u001b[0m\u001b[0;34m)\u001b[0m\u001b[0;34m\u001b[0m\u001b[0;34m\u001b[0m\u001b[0m\n\u001b[0m\u001b[1;32m      9\u001b[0m \u001b[0mdistInfo\u001b[0m\u001b[0;34m.\u001b[0m\u001b[0mplot\u001b[0m\u001b[0;34m(\u001b[0m\u001b[0mkind\u001b[0m\u001b[0;34m=\u001b[0m\u001b[0;34m'bar'\u001b[0m\u001b[0;34m)\u001b[0m\u001b[0;34m\u001b[0m\u001b[0;34m\u001b[0m\u001b[0m\n\u001b[1;32m     10\u001b[0m \u001b[0;34m\u001b[0m\u001b[0m\n",
            "\u001b[0;32m/usr/local/lib/python3.6/dist-packages/pandas/core/series.py\u001b[0m in \u001b[0;36mgroupby\u001b[0;34m(self, by, axis, level, as_index, sort, group_keys, squeeze, observed, dropna)\u001b[0m\n\u001b[1;32m   1743\u001b[0m             \u001b[0msqueeze\u001b[0m\u001b[0;34m=\u001b[0m\u001b[0msqueeze\u001b[0m\u001b[0;34m,\u001b[0m\u001b[0;34m\u001b[0m\u001b[0;34m\u001b[0m\u001b[0m\n\u001b[1;32m   1744\u001b[0m             \u001b[0mobserved\u001b[0m\u001b[0;34m=\u001b[0m\u001b[0mobserved\u001b[0m\u001b[0;34m,\u001b[0m\u001b[0;34m\u001b[0m\u001b[0;34m\u001b[0m\u001b[0m\n\u001b[0;32m-> 1745\u001b[0;31m             \u001b[0mdropna\u001b[0m\u001b[0;34m=\u001b[0m\u001b[0mdropna\u001b[0m\u001b[0;34m,\u001b[0m\u001b[0;34m\u001b[0m\u001b[0;34m\u001b[0m\u001b[0m\n\u001b[0m\u001b[1;32m   1746\u001b[0m         )\n\u001b[1;32m   1747\u001b[0m \u001b[0;34m\u001b[0m\u001b[0m\n",
            "\u001b[0;32m/usr/local/lib/python3.6/dist-packages/pandas/core/groupby/groupby.py\u001b[0m in \u001b[0;36m__init__\u001b[0;34m(self, obj, keys, axis, level, grouper, exclusions, selection, as_index, sort, group_keys, squeeze, observed, mutated, dropna)\u001b[0m\n\u001b[1;32m    531\u001b[0m                 \u001b[0mobserved\u001b[0m\u001b[0;34m=\u001b[0m\u001b[0mobserved\u001b[0m\u001b[0;34m,\u001b[0m\u001b[0;34m\u001b[0m\u001b[0;34m\u001b[0m\u001b[0m\n\u001b[1;32m    532\u001b[0m                 \u001b[0mmutated\u001b[0m\u001b[0;34m=\u001b[0m\u001b[0mself\u001b[0m\u001b[0;34m.\u001b[0m\u001b[0mmutated\u001b[0m\u001b[0;34m,\u001b[0m\u001b[0;34m\u001b[0m\u001b[0;34m\u001b[0m\u001b[0m\n\u001b[0;32m--> 533\u001b[0;31m                 \u001b[0mdropna\u001b[0m\u001b[0;34m=\u001b[0m\u001b[0mself\u001b[0m\u001b[0;34m.\u001b[0m\u001b[0mdropna\u001b[0m\u001b[0;34m,\u001b[0m\u001b[0;34m\u001b[0m\u001b[0;34m\u001b[0m\u001b[0m\n\u001b[0m\u001b[1;32m    534\u001b[0m             )\n\u001b[1;32m    535\u001b[0m \u001b[0;34m\u001b[0m\u001b[0m\n",
            "\u001b[0;32m/usr/local/lib/python3.6/dist-packages/pandas/core/groupby/grouper.py\u001b[0m in \u001b[0;36mget_grouper\u001b[0;34m(obj, key, axis, level, sort, observed, mutated, validate, dropna)\u001b[0m\n\u001b[1;32m    784\u001b[0m                 \u001b[0min_axis\u001b[0m\u001b[0;34m,\u001b[0m \u001b[0mname\u001b[0m\u001b[0;34m,\u001b[0m \u001b[0mlevel\u001b[0m\u001b[0;34m,\u001b[0m \u001b[0mgpr\u001b[0m \u001b[0;34m=\u001b[0m \u001b[0;32mFalse\u001b[0m\u001b[0;34m,\u001b[0m \u001b[0;32mNone\u001b[0m\u001b[0;34m,\u001b[0m \u001b[0mgpr\u001b[0m\u001b[0;34m,\u001b[0m \u001b[0;32mNone\u001b[0m\u001b[0;34m\u001b[0m\u001b[0;34m\u001b[0m\u001b[0m\n\u001b[1;32m    785\u001b[0m             \u001b[0;32melse\u001b[0m\u001b[0;34m:\u001b[0m\u001b[0;34m\u001b[0m\u001b[0;34m\u001b[0m\u001b[0m\n\u001b[0;32m--> 786\u001b[0;31m                 \u001b[0;32mraise\u001b[0m \u001b[0mKeyError\u001b[0m\u001b[0;34m(\u001b[0m\u001b[0mgpr\u001b[0m\u001b[0;34m)\u001b[0m\u001b[0;34m\u001b[0m\u001b[0;34m\u001b[0m\u001b[0m\n\u001b[0m\u001b[1;32m    787\u001b[0m         \u001b[0;32melif\u001b[0m \u001b[0misinstance\u001b[0m\u001b[0;34m(\u001b[0m\u001b[0mgpr\u001b[0m\u001b[0;34m,\u001b[0m \u001b[0mGrouper\u001b[0m\u001b[0;34m)\u001b[0m \u001b[0;32mand\u001b[0m \u001b[0mgpr\u001b[0m\u001b[0;34m.\u001b[0m\u001b[0mkey\u001b[0m \u001b[0;32mis\u001b[0m \u001b[0;32mnot\u001b[0m \u001b[0;32mNone\u001b[0m\u001b[0;34m:\u001b[0m\u001b[0;34m\u001b[0m\u001b[0;34m\u001b[0m\u001b[0m\n\u001b[1;32m    788\u001b[0m             \u001b[0;31m# Add key to exclusions\u001b[0m\u001b[0;34m\u001b[0m\u001b[0;34m\u001b[0m\u001b[0;34m\u001b[0m\u001b[0m\n",
            "\u001b[0;31mKeyError\u001b[0m: 1956.0"
          ]
        }
      ]
    },
    {
      "cell_type": "code",
      "metadata": {
        "colab": {
          "base_uri": "https://localhost:8080/",
          "height": 296
        },
        "id": "QSATNjhJmp7Y",
        "outputId": "88b05a47-984e-49f1-fa2d-25f5a2150cd1"
      },
      "source": [
        "plt = data[data['Edu status'] == 'Drop out']\n",
        "#plt['Currently Enrolled: Institution type'].value_counts()\n",
        "sns.histplot(plt['Currently Enrolled: Institution type'])"
      ],
      "execution_count": null,
      "outputs": [
        {
          "output_type": "execute_result",
          "data": {
            "text/plain": [
              "<matplotlib.axes._subplots.AxesSubplot at 0x7fd7eff33e80>"
            ]
          },
          "metadata": {
            "tags": []
          },
          "execution_count": 23
        },
        {
          "output_type": "display_data",
          "data": {
            "image/png": "[encoded data removed]",
            "text/plain": [
              "<Figure size 432x288 with 1 Axes>"
            ]
          },
          "metadata": {
            "tags": [],
            "needs_background": "light"
          }
        }
      ]
    },
    {
      "cell_type": "code",
      "metadata": {
        "id": "PZpVZ--d0mEE"
      },
      "source": [
        ""
      ],
      "execution_count": null,
      "outputs": []
    },
    {
      "cell_type": "code",
      "metadata": {
        "id": "aSIbHOlIze9Q",
        "colab": {
          "base_uri": "https://localhost:8080/"
        },
        "outputId": "a51d3337-4418-47a2-884d-e65318c70078"
      },
      "source": [
        ""
      ],
      "execution_count": null,
      "outputs": [
        {
          "output_type": "execute_result",
          "data": {
            "text/plain": [
              "Poverty                                          6006\n",
              "Misc Reasons with frequency less than 5 cases    4593\n",
              "Law and Order                                    1871\n",
              "Flood                                              55\n",
              "Migration                                          36\n",
              "School building shifted by gov                     35\n",
              "Illness                                             7\n",
              "Name: Reasons for dropout, dtype: int64"
            ]
          },
          "metadata": {
            "tags": []
          },
          "execution_count": 54
        }
      ]
    },
    {
      "cell_type": "code",
      "metadata": {
        "id": "he5UT4UlyJMN"
      },
      "source": [
        ""
      ],
      "execution_count": null,
      "outputs": []
    },
    {
      "cell_type": "code",
      "metadata": {
        "colab": {
          "base_uri": "https://localhost:8080/",
          "height": 370
        },
        "id": "2vsbTmlKnApA",
        "outputId": "16373aed-f936-4891-a09b-d87e5a05e7ef"
      },
      "source": [
        "plt = data[data['Edu status'] == 'Drop out']\n",
        "#sns.boxplot(plt['Edu status'])\n",
        "plt.plot(kind='pie', subplots = True)"
      ],
      "execution_count": null,
      "outputs": [
        {
          "output_type": "error",
          "ename": "TypeError",
          "evalue": "ignored",
          "traceback": [
            "\u001b[0;31m---------------------------------------------------------------------------\u001b[0m",
            "\u001b[0;31mTypeError\u001b[0m                                 Traceback (most recent call last)",
            "\u001b[0;32m<ipython-input-24-8ccf0e7b8703>\u001b[0m in \u001b[0;36m<module>\u001b[0;34m()\u001b[0m\n\u001b[1;32m      1\u001b[0m \u001b[0mplt\u001b[0m \u001b[0;34m=\u001b[0m \u001b[0mdata\u001b[0m\u001b[0;34m[\u001b[0m\u001b[0mdata\u001b[0m\u001b[0;34m[\u001b[0m\u001b[0;34m'Edu status'\u001b[0m\u001b[0;34m]\u001b[0m \u001b[0;34m==\u001b[0m \u001b[0;34m'Drop out'\u001b[0m\u001b[0;34m]\u001b[0m\u001b[0;34m\u001b[0m\u001b[0;34m\u001b[0m\u001b[0m\n\u001b[1;32m      2\u001b[0m \u001b[0;31m#sns.boxplot(plt['Edu status'])\u001b[0m\u001b[0;34m\u001b[0m\u001b[0;34m\u001b[0m\u001b[0;34m\u001b[0m\u001b[0m\n\u001b[0;32m----> 3\u001b[0;31m \u001b[0mplt\u001b[0m\u001b[0;34m.\u001b[0m\u001b[0mplot\u001b[0m\u001b[0;34m(\u001b[0m\u001b[0mkind\u001b[0m\u001b[0;34m=\u001b[0m\u001b[0;34m'pie'\u001b[0m\u001b[0;34m,\u001b[0m \u001b[0msubplots\u001b[0m \u001b[0;34m=\u001b[0m \u001b[0;32mTrue\u001b[0m\u001b[0;34m)\u001b[0m\u001b[0;34m\u001b[0m\u001b[0;34m\u001b[0m\u001b[0m\n\u001b[0m",
            "\u001b[0;32m/usr/local/lib/python3.6/dist-packages/pandas/plotting/_core.py\u001b[0m in \u001b[0;36m__call__\u001b[0;34m(self, *args, **kwargs)\u001b[0m\n\u001b[1;32m    947\u001b[0m                     \u001b[0mdata\u001b[0m\u001b[0;34m.\u001b[0m\u001b[0mcolumns\u001b[0m \u001b[0;34m=\u001b[0m \u001b[0mlabel_name\u001b[0m\u001b[0;34m\u001b[0m\u001b[0;34m\u001b[0m\u001b[0m\n\u001b[1;32m    948\u001b[0m \u001b[0;34m\u001b[0m\u001b[0m\n\u001b[0;32m--> 949\u001b[0;31m         \u001b[0;32mreturn\u001b[0m \u001b[0mplot_backend\u001b[0m\u001b[0;34m.\u001b[0m\u001b[0mplot\u001b[0m\u001b[0;34m(\u001b[0m\u001b[0mdata\u001b[0m\u001b[0;34m,\u001b[0m \u001b[0mkind\u001b[0m\u001b[0;34m=\u001b[0m\u001b[0mkind\u001b[0m\u001b[0;34m,\u001b[0m \u001b[0;34m**\u001b[0m\u001b[0mkwargs\u001b[0m\u001b[0;34m)\u001b[0m\u001b[0;34m\u001b[0m\u001b[0;34m\u001b[0m\u001b[0m\n\u001b[0m\u001b[1;32m    950\u001b[0m \u001b[0;34m\u001b[0m\u001b[0m\n\u001b[1;32m    951\u001b[0m     \u001b[0m__call__\u001b[0m\u001b[0;34m.\u001b[0m\u001b[0m__doc__\u001b[0m \u001b[0;34m=\u001b[0m \u001b[0m__doc__\u001b[0m\u001b[0;34m\u001b[0m\u001b[0;34m\u001b[0m\u001b[0m\n",
            "\u001b[0;32m/usr/local/lib/python3.6/dist-packages/pandas/plotting/_matplotlib/__init__.py\u001b[0m in \u001b[0;36mplot\u001b[0;34m(data, kind, **kwargs)\u001b[0m\n\u001b[1;32m     58\u001b[0m                 \u001b[0max\u001b[0m \u001b[0;34m=\u001b[0m \u001b[0mplt\u001b[0m\u001b[0;34m.\u001b[0m\u001b[0mgca\u001b[0m\u001b[0;34m(\u001b[0m\u001b[0;34m)\u001b[0m\u001b[0;34m\u001b[0m\u001b[0;34m\u001b[0m\u001b[0m\n\u001b[1;32m     59\u001b[0m             \u001b[0mkwargs\u001b[0m\u001b[0;34m[\u001b[0m\u001b[0;34m\"ax\"\u001b[0m\u001b[0;34m]\u001b[0m \u001b[0;34m=\u001b[0m \u001b[0mgetattr\u001b[0m\u001b[0;34m(\u001b[0m\u001b[0max\u001b[0m\u001b[0;34m,\u001b[0m \u001b[0;34m\"left_ax\"\u001b[0m\u001b[0;34m,\u001b[0m \u001b[0max\u001b[0m\u001b[0;34m)\u001b[0m\u001b[0;34m\u001b[0m\u001b[0;34m\u001b[0m\u001b[0m\n\u001b[0;32m---> 60\u001b[0;31m     \u001b[0mplot_obj\u001b[0m \u001b[0;34m=\u001b[0m \u001b[0mPLOT_CLASSES\u001b[0m\u001b[0;34m[\u001b[0m\u001b[0mkind\u001b[0m\u001b[0;34m]\u001b[0m\u001b[0;34m(\u001b[0m\u001b[0mdata\u001b[0m\u001b[0;34m,\u001b[0m \u001b[0;34m**\u001b[0m\u001b[0mkwargs\u001b[0m\u001b[0;34m)\u001b[0m\u001b[0;34m\u001b[0m\u001b[0;34m\u001b[0m\u001b[0m\n\u001b[0m\u001b[1;32m     61\u001b[0m     \u001b[0mplot_obj\u001b[0m\u001b[0;34m.\u001b[0m\u001b[0mgenerate\u001b[0m\u001b[0;34m(\u001b[0m\u001b[0;34m)\u001b[0m\u001b[0;34m\u001b[0m\u001b[0;34m\u001b[0m\u001b[0m\n\u001b[1;32m     62\u001b[0m     \u001b[0mplot_obj\u001b[0m\u001b[0;34m.\u001b[0m\u001b[0mdraw\u001b[0m\u001b[0;34m(\u001b[0m\u001b[0;34m)\u001b[0m\u001b[0;34m\u001b[0m\u001b[0;34m\u001b[0m\u001b[0m\n",
            "\u001b[0;32m/usr/local/lib/python3.6/dist-packages/pandas/plotting/_matplotlib/core.py\u001b[0m in \u001b[0;36m__init__\u001b[0;34m(self, data, kind, **kwargs)\u001b[0m\n\u001b[1;32m   1505\u001b[0m     \u001b[0;32mdef\u001b[0m \u001b[0m__init__\u001b[0m\u001b[0;34m(\u001b[0m\u001b[0mself\u001b[0m\u001b[0;34m,\u001b[0m \u001b[0mdata\u001b[0m\u001b[0;34m,\u001b[0m \u001b[0mkind\u001b[0m\u001b[0;34m=\u001b[0m\u001b[0;32mNone\u001b[0m\u001b[0;34m,\u001b[0m \u001b[0;34m**\u001b[0m\u001b[0mkwargs\u001b[0m\u001b[0;34m)\u001b[0m\u001b[0;34m:\u001b[0m\u001b[0;34m\u001b[0m\u001b[0;34m\u001b[0m\u001b[0m\n\u001b[1;32m   1506\u001b[0m         \u001b[0mdata\u001b[0m \u001b[0;34m=\u001b[0m \u001b[0mdata\u001b[0m\u001b[0;34m.\u001b[0m\u001b[0mfillna\u001b[0m\u001b[0;34m(\u001b[0m\u001b[0mvalue\u001b[0m\u001b[0;34m=\u001b[0m\u001b[0;36m0\u001b[0m\u001b[0;34m)\u001b[0m\u001b[0;34m\u001b[0m\u001b[0;34m\u001b[0m\u001b[0m\n\u001b[0;32m-> 1507\u001b[0;31m         \u001b[0;32mif\u001b[0m \u001b[0;34m(\u001b[0m\u001b[0mdata\u001b[0m \u001b[0;34m<\u001b[0m \u001b[0;36m0\u001b[0m\u001b[0;34m)\u001b[0m\u001b[0;34m.\u001b[0m\u001b[0many\u001b[0m\u001b[0;34m(\u001b[0m\u001b[0;34m)\u001b[0m\u001b[0;34m.\u001b[0m\u001b[0many\u001b[0m\u001b[0;34m(\u001b[0m\u001b[0;34m)\u001b[0m\u001b[0;34m:\u001b[0m\u001b[0;34m\u001b[0m\u001b[0;34m\u001b[0m\u001b[0m\n\u001b[0m\u001b[1;32m   1508\u001b[0m             \u001b[0;32mraise\u001b[0m \u001b[0mValueError\u001b[0m\u001b[0;34m(\u001b[0m\u001b[0;34mf\"{kind} doesn't allow negative values\"\u001b[0m\u001b[0;34m)\u001b[0m\u001b[0;34m\u001b[0m\u001b[0;34m\u001b[0m\u001b[0m\n\u001b[1;32m   1509\u001b[0m         \u001b[0mMPLPlot\u001b[0m\u001b[0;34m.\u001b[0m\u001b[0m__init__\u001b[0m\u001b[0;34m(\u001b[0m\u001b[0mself\u001b[0m\u001b[0;34m,\u001b[0m \u001b[0mdata\u001b[0m\u001b[0;34m,\u001b[0m \u001b[0mkind\u001b[0m\u001b[0;34m=\u001b[0m\u001b[0mkind\u001b[0m\u001b[0;34m,\u001b[0m \u001b[0;34m**\u001b[0m\u001b[0mkwargs\u001b[0m\u001b[0;34m)\u001b[0m\u001b[0;34m\u001b[0m\u001b[0;34m\u001b[0m\u001b[0m\n",
            "\u001b[0;32m/usr/local/lib/python3.6/dist-packages/pandas/core/ops/__init__.py\u001b[0m in \u001b[0;36mf\u001b[0;34m(self, other)\u001b[0m\n\u001b[1;32m    702\u001b[0m \u001b[0;34m\u001b[0m\u001b[0m\n\u001b[1;32m    703\u001b[0m         \u001b[0;31m# See GH#4537 for discussion of scalar op behavior\u001b[0m\u001b[0;34m\u001b[0m\u001b[0;34m\u001b[0m\u001b[0;34m\u001b[0m\u001b[0m\n\u001b[0;32m--> 704\u001b[0;31m         \u001b[0mnew_data\u001b[0m \u001b[0;34m=\u001b[0m \u001b[0mdispatch_to_series\u001b[0m\u001b[0;34m(\u001b[0m\u001b[0mself\u001b[0m\u001b[0;34m,\u001b[0m \u001b[0mother\u001b[0m\u001b[0;34m,\u001b[0m \u001b[0mop\u001b[0m\u001b[0;34m,\u001b[0m \u001b[0maxis\u001b[0m\u001b[0;34m=\u001b[0m\u001b[0maxis\u001b[0m\u001b[0;34m)\u001b[0m\u001b[0;34m\u001b[0m\u001b[0;34m\u001b[0m\u001b[0m\n\u001b[0m\u001b[1;32m    705\u001b[0m         \u001b[0;32mreturn\u001b[0m \u001b[0mself\u001b[0m\u001b[0;34m.\u001b[0m\u001b[0m_construct_result\u001b[0m\u001b[0;34m(\u001b[0m\u001b[0mnew_data\u001b[0m\u001b[0;34m)\u001b[0m\u001b[0;34m\u001b[0m\u001b[0;34m\u001b[0m\u001b[0m\n\u001b[1;32m    706\u001b[0m \u001b[0;34m\u001b[0m\u001b[0m\n",
            "\u001b[0;32m/usr/local/lib/python3.6/dist-packages/pandas/core/ops/__init__.py\u001b[0m in \u001b[0;36mdispatch_to_series\u001b[0;34m(left, right, func, axis)\u001b[0m\n\u001b[1;32m    263\u001b[0m     \u001b[0;32mif\u001b[0m \u001b[0;32mnot\u001b[0m \u001b[0mis_list_like\u001b[0m\u001b[0;34m(\u001b[0m\u001b[0mright\u001b[0m\u001b[0;34m)\u001b[0m\u001b[0;34m:\u001b[0m\u001b[0;34m\u001b[0m\u001b[0;34m\u001b[0m\u001b[0m\n\u001b[1;32m    264\u001b[0m         \u001b[0;31m# i.e. scalar, faster than checking np.ndim(right) == 0\u001b[0m\u001b[0;34m\u001b[0m\u001b[0;34m\u001b[0m\u001b[0;34m\u001b[0m\u001b[0m\n\u001b[0;32m--> 265\u001b[0;31m         \u001b[0mbm\u001b[0m \u001b[0;34m=\u001b[0m \u001b[0mleft\u001b[0m\u001b[0;34m.\u001b[0m\u001b[0m_mgr\u001b[0m\u001b[0;34m.\u001b[0m\u001b[0mapply\u001b[0m\u001b[0;34m(\u001b[0m\u001b[0marray_op\u001b[0m\u001b[0;34m,\u001b[0m \u001b[0mright\u001b[0m\u001b[0;34m=\u001b[0m\u001b[0mright\u001b[0m\u001b[0;34m)\u001b[0m\u001b[0;34m\u001b[0m\u001b[0;34m\u001b[0m\u001b[0m\n\u001b[0m\u001b[1;32m    266\u001b[0m         \u001b[0;32mreturn\u001b[0m \u001b[0mtype\u001b[0m\u001b[0;34m(\u001b[0m\u001b[0mleft\u001b[0m\u001b[0;34m)\u001b[0m\u001b[0;34m(\u001b[0m\u001b[0mbm\u001b[0m\u001b[0;34m)\u001b[0m\u001b[0;34m\u001b[0m\u001b[0;34m\u001b[0m\u001b[0m\n\u001b[1;32m    267\u001b[0m \u001b[0;34m\u001b[0m\u001b[0m\n",
            "\u001b[0;32m/usr/local/lib/python3.6/dist-packages/pandas/core/internals/managers.py\u001b[0m in \u001b[0;36mapply\u001b[0;34m(self, f, align_keys, **kwargs)\u001b[0m\n\u001b[1;32m    402\u001b[0m \u001b[0;34m\u001b[0m\u001b[0m\n\u001b[1;32m    403\u001b[0m             \u001b[0;32mif\u001b[0m \u001b[0mcallable\u001b[0m\u001b[0;34m(\u001b[0m\u001b[0mf\u001b[0m\u001b[0;34m)\u001b[0m\u001b[0;34m:\u001b[0m\u001b[0;34m\u001b[0m\u001b[0;34m\u001b[0m\u001b[0m\n\u001b[0;32m--> 404\u001b[0;31m                 \u001b[0mapplied\u001b[0m \u001b[0;34m=\u001b[0m \u001b[0mb\u001b[0m\u001b[0;34m.\u001b[0m\u001b[0mapply\u001b[0m\u001b[0;34m(\u001b[0m\u001b[0mf\u001b[0m\u001b[0;34m,\u001b[0m \u001b[0;34m**\u001b[0m\u001b[0mkwargs\u001b[0m\u001b[0;34m)\u001b[0m\u001b[0;34m\u001b[0m\u001b[0;34m\u001b[0m\u001b[0m\n\u001b[0m\u001b[1;32m    405\u001b[0m             \u001b[0;32melse\u001b[0m\u001b[0;34m:\u001b[0m\u001b[0;34m\u001b[0m\u001b[0;34m\u001b[0m\u001b[0m\n\u001b[1;32m    406\u001b[0m                 \u001b[0mapplied\u001b[0m \u001b[0;34m=\u001b[0m \u001b[0mgetattr\u001b[0m\u001b[0;34m(\u001b[0m\u001b[0mb\u001b[0m\u001b[0;34m,\u001b[0m \u001b[0mf\u001b[0m\u001b[0;34m)\u001b[0m\u001b[0;34m(\u001b[0m\u001b[0;34m**\u001b[0m\u001b[0mkwargs\u001b[0m\u001b[0;34m)\u001b[0m\u001b[0;34m\u001b[0m\u001b[0;34m\u001b[0m\u001b[0m\n",
            "\u001b[0;32m/usr/local/lib/python3.6/dist-packages/pandas/core/internals/blocks.py\u001b[0m in \u001b[0;36mapply\u001b[0;34m(self, func, **kwargs)\u001b[0m\n\u001b[1;32m    344\u001b[0m         \"\"\"\n\u001b[1;32m    345\u001b[0m         \u001b[0;32mwith\u001b[0m \u001b[0mnp\u001b[0m\u001b[0;34m.\u001b[0m\u001b[0merrstate\u001b[0m\u001b[0;34m(\u001b[0m\u001b[0mall\u001b[0m\u001b[0;34m=\u001b[0m\u001b[0;34m\"ignore\"\u001b[0m\u001b[0;34m)\u001b[0m\u001b[0;34m:\u001b[0m\u001b[0;34m\u001b[0m\u001b[0;34m\u001b[0m\u001b[0m\n\u001b[0;32m--> 346\u001b[0;31m             \u001b[0mresult\u001b[0m \u001b[0;34m=\u001b[0m \u001b[0mfunc\u001b[0m\u001b[0;34m(\u001b[0m\u001b[0mself\u001b[0m\u001b[0;34m.\u001b[0m\u001b[0mvalues\u001b[0m\u001b[0;34m,\u001b[0m \u001b[0;34m**\u001b[0m\u001b[0mkwargs\u001b[0m\u001b[0;34m)\u001b[0m\u001b[0;34m\u001b[0m\u001b[0;34m\u001b[0m\u001b[0m\n\u001b[0m\u001b[1;32m    347\u001b[0m \u001b[0;34m\u001b[0m\u001b[0m\n\u001b[1;32m    348\u001b[0m         \u001b[0;32mreturn\u001b[0m \u001b[0mself\u001b[0m\u001b[0;34m.\u001b[0m\u001b[0m_split_op_result\u001b[0m\u001b[0;34m(\u001b[0m\u001b[0mresult\u001b[0m\u001b[0;34m)\u001b[0m\u001b[0;34m\u001b[0m\u001b[0;34m\u001b[0m\u001b[0m\n",
            "\u001b[0;32m/usr/local/lib/python3.6/dist-packages/pandas/core/ops/array_ops.py\u001b[0m in \u001b[0;36mcomparison_op\u001b[0;34m(left, right, op)\u001b[0m\n\u001b[1;32m    242\u001b[0m \u001b[0;34m\u001b[0m\u001b[0m\n\u001b[1;32m    243\u001b[0m     \u001b[0;32melif\u001b[0m \u001b[0mis_object_dtype\u001b[0m\u001b[0;34m(\u001b[0m\u001b[0mlvalues\u001b[0m\u001b[0;34m.\u001b[0m\u001b[0mdtype\u001b[0m\u001b[0;34m)\u001b[0m\u001b[0;34m:\u001b[0m\u001b[0;34m\u001b[0m\u001b[0;34m\u001b[0m\u001b[0m\n\u001b[0;32m--> 244\u001b[0;31m         \u001b[0mres_values\u001b[0m \u001b[0;34m=\u001b[0m \u001b[0mcomp_method_OBJECT_ARRAY\u001b[0m\u001b[0;34m(\u001b[0m\u001b[0mop\u001b[0m\u001b[0;34m,\u001b[0m \u001b[0mlvalues\u001b[0m\u001b[0;34m,\u001b[0m \u001b[0mrvalues\u001b[0m\u001b[0;34m)\u001b[0m\u001b[0;34m\u001b[0m\u001b[0;34m\u001b[0m\u001b[0m\n\u001b[0m\u001b[1;32m    245\u001b[0m \u001b[0;34m\u001b[0m\u001b[0m\n\u001b[1;32m    246\u001b[0m     \u001b[0;32melse\u001b[0m\u001b[0;34m:\u001b[0m\u001b[0;34m\u001b[0m\u001b[0;34m\u001b[0m\u001b[0m\n",
            "\u001b[0;32m/usr/local/lib/python3.6/dist-packages/pandas/core/ops/array_ops.py\u001b[0m in \u001b[0;36mcomp_method_OBJECT_ARRAY\u001b[0;34m(op, x, y)\u001b[0m\n\u001b[1;32m     54\u001b[0m         \u001b[0mresult\u001b[0m \u001b[0;34m=\u001b[0m \u001b[0mlibops\u001b[0m\u001b[0;34m.\u001b[0m\u001b[0mvec_compare\u001b[0m\u001b[0;34m(\u001b[0m\u001b[0mx\u001b[0m\u001b[0;34m.\u001b[0m\u001b[0mravel\u001b[0m\u001b[0;34m(\u001b[0m\u001b[0;34m)\u001b[0m\u001b[0;34m,\u001b[0m \u001b[0my\u001b[0m\u001b[0;34m.\u001b[0m\u001b[0mravel\u001b[0m\u001b[0;34m(\u001b[0m\u001b[0;34m)\u001b[0m\u001b[0;34m,\u001b[0m \u001b[0mop\u001b[0m\u001b[0;34m)\u001b[0m\u001b[0;34m\u001b[0m\u001b[0;34m\u001b[0m\u001b[0m\n\u001b[1;32m     55\u001b[0m     \u001b[0;32melse\u001b[0m\u001b[0;34m:\u001b[0m\u001b[0;34m\u001b[0m\u001b[0;34m\u001b[0m\u001b[0m\n\u001b[0;32m---> 56\u001b[0;31m         \u001b[0mresult\u001b[0m \u001b[0;34m=\u001b[0m \u001b[0mlibops\u001b[0m\u001b[0;34m.\u001b[0m\u001b[0mscalar_compare\u001b[0m\u001b[0;34m(\u001b[0m\u001b[0mx\u001b[0m\u001b[0;34m.\u001b[0m\u001b[0mravel\u001b[0m\u001b[0;34m(\u001b[0m\u001b[0;34m)\u001b[0m\u001b[0;34m,\u001b[0m \u001b[0my\u001b[0m\u001b[0;34m,\u001b[0m \u001b[0mop\u001b[0m\u001b[0;34m)\u001b[0m\u001b[0;34m\u001b[0m\u001b[0;34m\u001b[0m\u001b[0m\n\u001b[0m\u001b[1;32m     57\u001b[0m     \u001b[0;32mreturn\u001b[0m \u001b[0mresult\u001b[0m\u001b[0;34m.\u001b[0m\u001b[0mreshape\u001b[0m\u001b[0;34m(\u001b[0m\u001b[0mx\u001b[0m\u001b[0;34m.\u001b[0m\u001b[0mshape\u001b[0m\u001b[0;34m)\u001b[0m\u001b[0;34m\u001b[0m\u001b[0;34m\u001b[0m\u001b[0m\n\u001b[1;32m     58\u001b[0m \u001b[0;34m\u001b[0m\u001b[0m\n",
            "\u001b[0;32mpandas/_libs/ops.pyx\u001b[0m in \u001b[0;36mpandas._libs.ops.scalar_compare\u001b[0;34m()\u001b[0m\n",
            "\u001b[0;31mTypeError\u001b[0m: '<' not supported between instances of 'str' and 'int'"
          ]
        }
      ]
    }
  ]
}