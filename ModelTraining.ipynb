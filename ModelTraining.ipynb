{
  "nbformat": 4,
  "nbformat_minor": 0,
  "metadata": {
    "colab": {
      "name": "Model Training.ipynb",
      "provenance": [],
      "include_colab_link": true
    },
    "kernelspec": {
      "display_name": "Python 3",
      "language": "python",
      "name": "python3"
    },
    "language_info": {
      "codemirror_mode": {
        "name": "ipython",
        "version": 3
      },
      "file_extension": ".py",
      "mimetype": "text/x-python",
      "name": "python",
      "nbconvert_exporter": "python",
      "pygments_lexer": "ipython3",
      "version": "3.7.1"
    }
  },
  "cells": [
    {
      "cell_type": "markdown",
      "metadata": {
        "id": "view-in-github",
        "colab_type": "text"
      },
      "source": [
        "<a href=\"https://colab.research.google.com/github/AliShujjat/DropOutRatesInPakistan/blob/main/ModelTraining.ipynb\" target=\"_parent\"><img src=\"https://colab.research.google.com/assets/colab-badge.svg\" alt=\"Open In Colab\"/></a>"
      ]
    },
    {
      "cell_type": "code",
      "metadata": {
        "colab": {
          "base_uri": "https://localhost:8080/"
        },
        "id": "gpGdj1h0tkwf",
        "outputId": "3e3e3305-948d-496b-8d0e-3e2f67088fa4"
      },
      "source": [
        "#Retrieving the data from Google Drive\n",
        "from google.colab import drive\n",
        "drive.mount('/content/drive')\n",
        "!cp \"/content/drive/My Drive/Edu/Edu2.csv\" \"Edu2.csv\""
      ],
      "execution_count": 1,
      "outputs": [
        {
          "output_type": "stream",
          "text": [
            "Drive already mounted at /content/drive; to attempt to forcibly remount, call drive.mount(\"/content/drive\", force_remount=True).\n"
          ],
          "name": "stdout"
        }
      ]
    },
    {
      "cell_type": "code",
      "metadata": {
        "id": "qjXqkO_8uCfl"
      },
      "source": [
        "#Importing the libraries\n",
        "import numpy as np\n",
        "import pandas as pd\n",
        "import seaborn as sns\n",
        "import matplotlib.pyplot as plt\n",
        "from sklearn.metrics import roc_curve, auc\n",
        "from sklearn.feature_selection import SelectKBest\n",
        "from sklearn.feature_selection import chi2\n",
        "from sklearn.feature_selection import mutual_info_classif\n",
        "from sklearn.model_selection import train_test_split\n",
        "from sklearn.linear_model import LogisticRegression\n",
        "from sklearn.ensemble import RandomForestClassifier\n",
        "from sklearn.svm import SVC\n",
        "from sklearn.neighbors import KNeighborsClassifier\n",
        "from sklearn.tree import DecisionTreeClassifier\n",
        "from sklearn.metrics import confusion_matrix, classification_report\n",
        "from sklearn.naive_bayes import GaussianNB\n",
        "from sklearn.preprocessing import MinMaxScaler\n",
        "from sklearn.metrics import precision_recall_curve\n",
        "from sklearn.metrics import plot_precision_recall_curve\n",
        "from sklearn.metrics import confusion_matrix, roc_curve, roc_auc_score\n",
        "from matplotlib import pyplot\n",
        "\n",
        "from keras.wrappers.scikit_learn import KerasClassifier\n",
        "from sklearn.model_selection import cross_val_score\n",
        "from keras.models import Sequential # initialize neural network library\n",
        "from keras.layers import Dense # build our layers library"
      ],
      "execution_count": 2,
      "outputs": []
    },
    {
      "cell_type": "code",
      "metadata": {
        "id": "FGq4qPLjuUbb"
      },
      "source": [
        "df = pd.read_csv('Edu2.csv')"
      ],
      "execution_count": 3,
      "outputs": []
    },
    {
      "cell_type": "code",
      "metadata": {
        "id": "zj4QrFtpu8Iz"
      },
      "source": [
        "performance = {\"Model\":[], \"Accuracy\":[]};\n",
        "auc_list = []"
      ],
      "execution_count": 4,
      "outputs": []
    },
    {
      "cell_type": "markdown",
      "metadata": {
        "id": "zn5Alu3f8ADc"
      },
      "source": [
        "# Preprocessing"
      ]
    },
    {
      "cell_type": "code",
      "metadata": {
        "colab": {
          "base_uri": "https://localhost:8080/",
          "height": 326
        },
        "id": "s9ZEQA6lujRV",
        "outputId": "16ced9af-c046-433b-ecb0-a824a370c56a"
      },
      "source": [
        "df.head()"
      ],
      "execution_count": 5,
      "outputs": [
        {
          "output_type": "execute_result",
          "data": {
            "text/html": [
              "<div>\n",
              "<style scoped>\n",
              "    .dataframe tbody tr th:only-of-type {\n",
              "        vertical-align: middle;\n",
              "    }\n",
              "\n",
              "    .dataframe tbody tr th {\n",
              "        vertical-align: top;\n",
              "    }\n",
              "\n",
              "    .dataframe thead th {\n",
              "        text-align: right;\n",
              "    }\n",
              "</style>\n",
              "<table border=\"1\" class=\"dataframe\">\n",
              "  <thead>\n",
              "    <tr style=\"text-align: right;\">\n",
              "      <th></th>\n",
              "      <th>Unnamed: 0</th>\n",
              "      <th>If Drop-out, studied up-to which\\nclass</th>\n",
              "      <th>Education Status of Child</th>\n",
              "      <th>Edu status</th>\n",
              "      <th>Reasons for Dropout</th>\n",
              "      <th>Age of Child</th>\n",
              "      <th>Reasons for dropout</th>\n",
              "      <th>C013</th>\n",
              "      <th>Age of father (completed years)</th>\n",
              "      <th>C010</th>\n",
              "      <th>HCOUNTER</th>\n",
              "      <th>Age of mother (completed years)</th>\n",
              "      <th>Arithmetic Levels</th>\n",
              "      <th>Total number of surviving children (LESS THAN 17) of mother</th>\n",
              "      <th>WSCORE</th>\n",
              "      <th>H001M</th>\n",
              "      <th>H001F</th>\n",
              "      <th>Gender of Child</th>\n",
              "      <th>DID</th>\n",
              "      <th>Gender</th>\n",
              "      <th>C012a</th>\n",
              "      <th>Unique ID of government school</th>\n",
              "      <th>Name of the District</th>\n",
              "      <th>GS007P</th>\n",
              "      <th>GS003Y</th>\n",
              "      <th>Local Language of the Village</th>\n",
              "      <th>GS007E</th>\n",
              "      <th>H010</th>\n",
              "      <th>WINDEX/Economic Profile</th>\n",
              "      <th>Windex</th>\n",
              "      <th>V007</th>\n",
              "    </tr>\n",
              "  </thead>\n",
              "  <tbody>\n",
              "    <tr>\n",
              "      <th>0</th>\n",
              "      <td>0</td>\n",
              "      <td>19</td>\n",
              "      <td>1.0</td>\n",
              "      <td>2</td>\n",
              "      <td>2.0</td>\n",
              "      <td>3.0</td>\n",
              "      <td>5</td>\n",
              "      <td>1.0</td>\n",
              "      <td>40.0</td>\n",
              "      <td>5.0</td>\n",
              "      <td>1.0</td>\n",
              "      <td>36.0</td>\n",
              "      <td>6.0</td>\n",
              "      <td>4.0</td>\n",
              "      <td>-0.023974</td>\n",
              "      <td>5.0</td>\n",
              "      <td>1.0</td>\n",
              "      <td>0.0</td>\n",
              "      <td>132</td>\n",
              "      <td>1</td>\n",
              "      <td>1.0</td>\n",
              "      <td>4792.0</td>\n",
              "      <td>113</td>\n",
              "      <td>50.0</td>\n",
              "      <td>1977.0</td>\n",
              "      <td>128</td>\n",
              "      <td>54.0</td>\n",
              "      <td>0.0</td>\n",
              "      <td>2.0</td>\n",
              "      <td>0</td>\n",
              "      <td>2.0</td>\n",
              "    </tr>\n",
              "    <tr>\n",
              "      <th>1</th>\n",
              "      <td>1</td>\n",
              "      <td>19</td>\n",
              "      <td>3.0</td>\n",
              "      <td>0</td>\n",
              "      <td>2.0</td>\n",
              "      <td>5.0</td>\n",
              "      <td>5</td>\n",
              "      <td>4.0</td>\n",
              "      <td>35.0</td>\n",
              "      <td>3.0</td>\n",
              "      <td>3.0</td>\n",
              "      <td>30.0</td>\n",
              "      <td>6.0</td>\n",
              "      <td>2.0</td>\n",
              "      <td>0.706430</td>\n",
              "      <td>2.0</td>\n",
              "      <td>2.0</td>\n",
              "      <td>1.0</td>\n",
              "      <td>132</td>\n",
              "      <td>0</td>\n",
              "      <td>1.0</td>\n",
              "      <td>4792.0</td>\n",
              "      <td>113</td>\n",
              "      <td>50.0</td>\n",
              "      <td>1977.0</td>\n",
              "      <td>128</td>\n",
              "      <td>54.0</td>\n",
              "      <td>0.0</td>\n",
              "      <td>3.0</td>\n",
              "      <td>2</td>\n",
              "      <td>2.0</td>\n",
              "    </tr>\n",
              "    <tr>\n",
              "      <th>2</th>\n",
              "      <td>2</td>\n",
              "      <td>19</td>\n",
              "      <td>3.0</td>\n",
              "      <td>0</td>\n",
              "      <td>2.0</td>\n",
              "      <td>5.0</td>\n",
              "      <td>5</td>\n",
              "      <td>3.0</td>\n",
              "      <td>70.0</td>\n",
              "      <td>2.0</td>\n",
              "      <td>2.0</td>\n",
              "      <td>65.0</td>\n",
              "      <td>3.0</td>\n",
              "      <td>3.0</td>\n",
              "      <td>0.706430</td>\n",
              "      <td>6.0</td>\n",
              "      <td>3.0</td>\n",
              "      <td>1.0</td>\n",
              "      <td>132</td>\n",
              "      <td>0</td>\n",
              "      <td>0.0</td>\n",
              "      <td>4792.0</td>\n",
              "      <td>113</td>\n",
              "      <td>50.0</td>\n",
              "      <td>1977.0</td>\n",
              "      <td>128</td>\n",
              "      <td>54.0</td>\n",
              "      <td>0.0</td>\n",
              "      <td>3.0</td>\n",
              "      <td>2</td>\n",
              "      <td>2.0</td>\n",
              "    </tr>\n",
              "    <tr>\n",
              "      <th>3</th>\n",
              "      <td>3</td>\n",
              "      <td>19</td>\n",
              "      <td>3.0</td>\n",
              "      <td>0</td>\n",
              "      <td>2.0</td>\n",
              "      <td>10.0</td>\n",
              "      <td>5</td>\n",
              "      <td>5.0</td>\n",
              "      <td>50.0</td>\n",
              "      <td>5.0</td>\n",
              "      <td>8.0</td>\n",
              "      <td>45.0</td>\n",
              "      <td>6.0</td>\n",
              "      <td>3.0</td>\n",
              "      <td>0.916803</td>\n",
              "      <td>2.0</td>\n",
              "      <td>3.0</td>\n",
              "      <td>0.0</td>\n",
              "      <td>132</td>\n",
              "      <td>1</td>\n",
              "      <td>1.0</td>\n",
              "      <td>4792.0</td>\n",
              "      <td>113</td>\n",
              "      <td>50.0</td>\n",
              "      <td>1977.0</td>\n",
              "      <td>128</td>\n",
              "      <td>54.0</td>\n",
              "      <td>1.0</td>\n",
              "      <td>4.0</td>\n",
              "      <td>3</td>\n",
              "      <td>2.0</td>\n",
              "    </tr>\n",
              "    <tr>\n",
              "      <th>4</th>\n",
              "      <td>4</td>\n",
              "      <td>19</td>\n",
              "      <td>3.0</td>\n",
              "      <td>0</td>\n",
              "      <td>2.0</td>\n",
              "      <td>4.0</td>\n",
              "      <td>5</td>\n",
              "      <td>1.0</td>\n",
              "      <td>40.0</td>\n",
              "      <td>5.0</td>\n",
              "      <td>20.0</td>\n",
              "      <td>30.0</td>\n",
              "      <td>6.0</td>\n",
              "      <td>3.0</td>\n",
              "      <td>-0.185241</td>\n",
              "      <td>3.0</td>\n",
              "      <td>2.0</td>\n",
              "      <td>0.0</td>\n",
              "      <td>132</td>\n",
              "      <td>1</td>\n",
              "      <td>1.0</td>\n",
              "      <td>4792.0</td>\n",
              "      <td>113</td>\n",
              "      <td>50.0</td>\n",
              "      <td>1977.0</td>\n",
              "      <td>128</td>\n",
              "      <td>54.0</td>\n",
              "      <td>0.0</td>\n",
              "      <td>2.0</td>\n",
              "      <td>0</td>\n",
              "      <td>2.0</td>\n",
              "    </tr>\n",
              "  </tbody>\n",
              "</table>\n",
              "</div>"
            ],
            "text/plain": [
              "   Unnamed: 0  If Drop-out, studied up-to which\\nclass  ...  Windex  V007\n",
              "0           0                                       19  ...       0   2.0\n",
              "1           1                                       19  ...       2   2.0\n",
              "2           2                                       19  ...       2   2.0\n",
              "3           3                                       19  ...       3   2.0\n",
              "4           4                                       19  ...       0   2.0\n",
              "\n",
              "[5 rows x 31 columns]"
            ]
          },
          "metadata": {
            "tags": []
          },
          "execution_count": 5
        }
      ]
    },
    {
      "cell_type": "code",
      "metadata": {
        "colab": {
          "base_uri": "https://localhost:8080/",
          "height": 326
        },
        "id": "ey28l0evXzuz",
        "outputId": "e090fdce-59e1-4f80-d29d-48ec0f2e08d2"
      },
      "source": [
        "cols = list(df.columns.values) #Make a list of all of the columns in the df\n",
        "cols.pop(cols.index('Education Status of Child')) #Remove b from list\n",
        "cols.pop(cols.index('Edu status')) #Remove x from list\n",
        "df = df[cols+['Education Status of Child','Edu status']] #Create new dataframe with columns in the order you want\n",
        "df.drop('Edu status', inplace=True, axis=1)\n",
        "df[\"Education Status of Child\"].replace({1: 2}, inplace=True)\n",
        "df.head()"
      ],
      "execution_count": 6,
      "outputs": [
        {
          "output_type": "execute_result",
          "data": {
            "text/html": [
              "<div>\n",
              "<style scoped>\n",
              "    .dataframe tbody tr th:only-of-type {\n",
              "        vertical-align: middle;\n",
              "    }\n",
              "\n",
              "    .dataframe tbody tr th {\n",
              "        vertical-align: top;\n",
              "    }\n",
              "\n",
              "    .dataframe thead th {\n",
              "        text-align: right;\n",
              "    }\n",
              "</style>\n",
              "<table border=\"1\" class=\"dataframe\">\n",
              "  <thead>\n",
              "    <tr style=\"text-align: right;\">\n",
              "      <th></th>\n",
              "      <th>Unnamed: 0</th>\n",
              "      <th>If Drop-out, studied up-to which\\nclass</th>\n",
              "      <th>Reasons for Dropout</th>\n",
              "      <th>Age of Child</th>\n",
              "      <th>Reasons for dropout</th>\n",
              "      <th>C013</th>\n",
              "      <th>Age of father (completed years)</th>\n",
              "      <th>C010</th>\n",
              "      <th>HCOUNTER</th>\n",
              "      <th>Age of mother (completed years)</th>\n",
              "      <th>Arithmetic Levels</th>\n",
              "      <th>Total number of surviving children (LESS THAN 17) of mother</th>\n",
              "      <th>WSCORE</th>\n",
              "      <th>H001M</th>\n",
              "      <th>H001F</th>\n",
              "      <th>Gender of Child</th>\n",
              "      <th>DID</th>\n",
              "      <th>Gender</th>\n",
              "      <th>C012a</th>\n",
              "      <th>Unique ID of government school</th>\n",
              "      <th>Name of the District</th>\n",
              "      <th>GS007P</th>\n",
              "      <th>GS003Y</th>\n",
              "      <th>Local Language of the Village</th>\n",
              "      <th>GS007E</th>\n",
              "      <th>H010</th>\n",
              "      <th>WINDEX/Economic Profile</th>\n",
              "      <th>Windex</th>\n",
              "      <th>V007</th>\n",
              "      <th>Education Status of Child</th>\n",
              "    </tr>\n",
              "  </thead>\n",
              "  <tbody>\n",
              "    <tr>\n",
              "      <th>0</th>\n",
              "      <td>0</td>\n",
              "      <td>19</td>\n",
              "      <td>2.0</td>\n",
              "      <td>3.0</td>\n",
              "      <td>5</td>\n",
              "      <td>1.0</td>\n",
              "      <td>40.0</td>\n",
              "      <td>5.0</td>\n",
              "      <td>1.0</td>\n",
              "      <td>36.0</td>\n",
              "      <td>6.0</td>\n",
              "      <td>4.0</td>\n",
              "      <td>-0.023974</td>\n",
              "      <td>5.0</td>\n",
              "      <td>1.0</td>\n",
              "      <td>0.0</td>\n",
              "      <td>132</td>\n",
              "      <td>1</td>\n",
              "      <td>1.0</td>\n",
              "      <td>4792.0</td>\n",
              "      <td>113</td>\n",
              "      <td>50.0</td>\n",
              "      <td>1977.0</td>\n",
              "      <td>128</td>\n",
              "      <td>54.0</td>\n",
              "      <td>0.0</td>\n",
              "      <td>2.0</td>\n",
              "      <td>0</td>\n",
              "      <td>2.0</td>\n",
              "      <td>2.0</td>\n",
              "    </tr>\n",
              "    <tr>\n",
              "      <th>1</th>\n",
              "      <td>1</td>\n",
              "      <td>19</td>\n",
              "      <td>2.0</td>\n",
              "      <td>5.0</td>\n",
              "      <td>5</td>\n",
              "      <td>4.0</td>\n",
              "      <td>35.0</td>\n",
              "      <td>3.0</td>\n",
              "      <td>3.0</td>\n",
              "      <td>30.0</td>\n",
              "      <td>6.0</td>\n",
              "      <td>2.0</td>\n",
              "      <td>0.706430</td>\n",
              "      <td>2.0</td>\n",
              "      <td>2.0</td>\n",
              "      <td>1.0</td>\n",
              "      <td>132</td>\n",
              "      <td>0</td>\n",
              "      <td>1.0</td>\n",
              "      <td>4792.0</td>\n",
              "      <td>113</td>\n",
              "      <td>50.0</td>\n",
              "      <td>1977.0</td>\n",
              "      <td>128</td>\n",
              "      <td>54.0</td>\n",
              "      <td>0.0</td>\n",
              "      <td>3.0</td>\n",
              "      <td>2</td>\n",
              "      <td>2.0</td>\n",
              "      <td>3.0</td>\n",
              "    </tr>\n",
              "    <tr>\n",
              "      <th>2</th>\n",
              "      <td>2</td>\n",
              "      <td>19</td>\n",
              "      <td>2.0</td>\n",
              "      <td>5.0</td>\n",
              "      <td>5</td>\n",
              "      <td>3.0</td>\n",
              "      <td>70.0</td>\n",
              "      <td>2.0</td>\n",
              "      <td>2.0</td>\n",
              "      <td>65.0</td>\n",
              "      <td>3.0</td>\n",
              "      <td>3.0</td>\n",
              "      <td>0.706430</td>\n",
              "      <td>6.0</td>\n",
              "      <td>3.0</td>\n",
              "      <td>1.0</td>\n",
              "      <td>132</td>\n",
              "      <td>0</td>\n",
              "      <td>0.0</td>\n",
              "      <td>4792.0</td>\n",
              "      <td>113</td>\n",
              "      <td>50.0</td>\n",
              "      <td>1977.0</td>\n",
              "      <td>128</td>\n",
              "      <td>54.0</td>\n",
              "      <td>0.0</td>\n",
              "      <td>3.0</td>\n",
              "      <td>2</td>\n",
              "      <td>2.0</td>\n",
              "      <td>3.0</td>\n",
              "    </tr>\n",
              "    <tr>\n",
              "      <th>3</th>\n",
              "      <td>3</td>\n",
              "      <td>19</td>\n",
              "      <td>2.0</td>\n",
              "      <td>10.0</td>\n",
              "      <td>5</td>\n",
              "      <td>5.0</td>\n",
              "      <td>50.0</td>\n",
              "      <td>5.0</td>\n",
              "      <td>8.0</td>\n",
              "      <td>45.0</td>\n",
              "      <td>6.0</td>\n",
              "      <td>3.0</td>\n",
              "      <td>0.916803</td>\n",
              "      <td>2.0</td>\n",
              "      <td>3.0</td>\n",
              "      <td>0.0</td>\n",
              "      <td>132</td>\n",
              "      <td>1</td>\n",
              "      <td>1.0</td>\n",
              "      <td>4792.0</td>\n",
              "      <td>113</td>\n",
              "      <td>50.0</td>\n",
              "      <td>1977.0</td>\n",
              "      <td>128</td>\n",
              "      <td>54.0</td>\n",
              "      <td>1.0</td>\n",
              "      <td>4.0</td>\n",
              "      <td>3</td>\n",
              "      <td>2.0</td>\n",
              "      <td>3.0</td>\n",
              "    </tr>\n",
              "    <tr>\n",
              "      <th>4</th>\n",
              "      <td>4</td>\n",
              "      <td>19</td>\n",
              "      <td>2.0</td>\n",
              "      <td>4.0</td>\n",
              "      <td>5</td>\n",
              "      <td>1.0</td>\n",
              "      <td>40.0</td>\n",
              "      <td>5.0</td>\n",
              "      <td>20.0</td>\n",
              "      <td>30.0</td>\n",
              "      <td>6.0</td>\n",
              "      <td>3.0</td>\n",
              "      <td>-0.185241</td>\n",
              "      <td>3.0</td>\n",
              "      <td>2.0</td>\n",
              "      <td>0.0</td>\n",
              "      <td>132</td>\n",
              "      <td>1</td>\n",
              "      <td>1.0</td>\n",
              "      <td>4792.0</td>\n",
              "      <td>113</td>\n",
              "      <td>50.0</td>\n",
              "      <td>1977.0</td>\n",
              "      <td>128</td>\n",
              "      <td>54.0</td>\n",
              "      <td>0.0</td>\n",
              "      <td>2.0</td>\n",
              "      <td>0</td>\n",
              "      <td>2.0</td>\n",
              "      <td>3.0</td>\n",
              "    </tr>\n",
              "  </tbody>\n",
              "</table>\n",
              "</div>"
            ],
            "text/plain": [
              "   Unnamed: 0  ...  Education Status of Child\n",
              "0           0  ...                        2.0\n",
              "1           1  ...                        3.0\n",
              "2           2  ...                        3.0\n",
              "3           3  ...                        3.0\n",
              "4           4  ...                        3.0\n",
              "\n",
              "[5 rows x 30 columns]"
            ]
          },
          "metadata": {
            "tags": []
          },
          "execution_count": 6
        }
      ]
    },
    {
      "cell_type": "code",
      "metadata": {
        "colab": {
          "base_uri": "https://localhost:8080/"
        },
        "id": "8_yVTkZ4v_2E",
        "outputId": "5291710d-1adc-432c-b3c3-334572456342"
      },
      "source": [
        "len(df.columns)"
      ],
      "execution_count": 7,
      "outputs": [
        {
          "output_type": "execute_result",
          "data": {
            "text/plain": [
              "30"
            ]
          },
          "metadata": {
            "tags": []
          },
          "execution_count": 7
        }
      ]
    },
    {
      "cell_type": "code",
      "metadata": {
        "id": "GQnSzOaBuvDC"
      },
      "source": [
        "df = df.values\n",
        "X, y = df[:,0:28], df[:,29]"
      ],
      "execution_count": 8,
      "outputs": []
    },
    {
      "cell_type": "code",
      "metadata": {
        "id": "Goez4hEVuW6R",
        "colab": {
          "base_uri": "https://localhost:8080/",
          "height": 238
        },
        "outputId": "a34bb05a-9205-4195-8273-787b534c5541"
      },
      "source": [
        "#Normalization\n",
        "scaler = MinMaxScaler(feature_range=(0,1))\n",
        "newX = scaler.fit_transform(X)\n",
        "scaler.transform(newX)\n",
        "\n",
        "display(newX)\n",
        "\n",
        "#split into source and target\n",
        "X, y = df[:,:-1], df[:,-1]\n",
        "\n",
        "#Train Test Split\n",
        "X_train, X_test, y_train, y_test = train_test_split(newX, y, test_size=0.33)"
      ],
      "execution_count": 9,
      "outputs": [
        {
          "output_type": "display_data",
          "data": {
            "text/plain": [
              "array([[0.00000000e+00, 6.55172414e-01, 1.66666667e-01, ...,\n",
              "        0.00000000e+00, 3.33333333e-01, 0.00000000e+00],\n",
              "       [3.84341911e-06, 6.55172414e-01, 1.66666667e-01, ...,\n",
              "        0.00000000e+00, 6.66666667e-01, 6.66666667e-01],\n",
              "       [7.68683821e-06, 6.55172414e-01, 1.66666667e-01, ...,\n",
              "        0.00000000e+00, 6.66666667e-01, 6.66666667e-01],\n",
              "       ...,\n",
              "       [9.99992313e-01, 6.55172414e-01, 1.66666667e-01, ...,\n",
              "        2.50000000e-01, 0.00000000e+00, 3.33333333e-01],\n",
              "       [9.99996157e-01, 6.55172414e-01, 1.66666667e-01, ...,\n",
              "        0.00000000e+00, 0.00000000e+00, 3.33333333e-01],\n",
              "       [1.00000000e+00, 6.55172414e-01, 1.66666667e-01, ...,\n",
              "        0.00000000e+00, 0.00000000e+00, 3.33333333e-01]])"
            ]
          },
          "metadata": {
            "tags": []
          }
        }
      ]
    },
    {
      "cell_type": "markdown",
      "metadata": {
        "id": "xhWXf6D0789A"
      },
      "source": [
        "# Logistic Regression"
      ]
    },
    {
      "cell_type": "code",
      "metadata": {
        "colab": {
          "base_uri": "https://localhost:8080/"
        },
        "id": "43Ie5pVAwrsf",
        "outputId": "0e897b22-c0ad-4b65-d5f1-f081a567d518"
      },
      "source": [
        "logreg = LogisticRegression(max_iter=1000)\n",
        "logreg.fit(X_train,y_train)"
      ],
      "execution_count": 10,
      "outputs": [
        {
          "output_type": "execute_result",
          "data": {
            "text/plain": [
              "LogisticRegression(C=1.0, class_weight=None, dual=False, fit_intercept=True,\n",
              "                   intercept_scaling=1, l1_ratio=None, max_iter=1000,\n",
              "                   multi_class='auto', n_jobs=None, penalty='l2',\n",
              "                   random_state=None, solver='lbfgs', tol=0.0001, verbose=0,\n",
              "                   warm_start=False)"
            ]
          },
          "metadata": {
            "tags": []
          },
          "execution_count": 10
        }
      ]
    },
    {
      "cell_type": "code",
      "metadata": {
        "colab": {
          "base_uri": "https://localhost:8080/",
          "height": 850
        },
        "id": "1vd5otW-yYmO",
        "outputId": "50f4815f-5099-4d8a-f621-6d128b6915a0"
      },
      "source": [
        "y_pred = logreg.predict(X_test)\n",
        "\n",
        "#Evaluate\n",
        "score = logreg.score(X_test, y_test)\n",
        "print(\"Evaluation metrics of logistic regression classifier: \", score)\n",
        "performance['Model'].append('Logistic Regression')\n",
        "performance['Accuracy'].append(score)\n",
        "conf_mat = confusion_matrix(y_test,y_pred)\n",
        "\n",
        "print(conf_mat)\n",
        "print(classification_report(y_test, y_pred))\n",
        "sens = conf_mat[0,0] / (conf_mat[0,0] + conf_mat[0,1])\n",
        "spec = conf_mat[1,1] / (conf_mat[1,0] + conf_mat[1,1])\n",
        "\n",
        "print(\"Sensitivity: \", sens)\n",
        "print(\"Specificity: \", spec)\n",
        "\n",
        "#Visualizing Confusion Matrix\n",
        "f, ax = plt.subplots(figsize=(5,5))\n",
        "sns.heatmap(conf_mat,annot=True,fmt=\".0f\",ax=ax, cmap=plt.cm.GnBu)\n",
        "plt.xlabel(\"Predicted Values\")\n",
        "plt.ylabel(\"True Values\")\n",
        "plt.show()\n",
        "\n",
        "#ROC Plot\n",
        "y_probs = logreg.predict_proba(X_test)\n",
        "y_probs = y_probs[:, 1]\n",
        "log_auc = roc_auc_score(y_test,y_probs)\n",
        "auc_list.append((\"Logistic Regression\",log_auc))\n",
        "ns_fpr, ns_tpr, _ = roc_curve(y_test, y_probs, pos_label=3)\n",
        "\n",
        "# plot the roc curve for the model\n",
        "pyplot.plot(ns_fpr, ns_tpr, linestyle='--', label='Logistic Regression')\n",
        "\n",
        "pyplot.xlabel(\"False Positive Rate\")\n",
        "pyplot.ylabel(\"True Positive Rate\")\n",
        "pyplot.title(\"ROC Curve\")\n",
        "\n",
        "# show the legend\n",
        "pyplot.legend()\n",
        "\n",
        "# show the plot\n",
        "pyplot.show()"
      ],
      "execution_count": 11,
      "outputs": [
        {
          "output_type": "stream",
          "text": [
            "Evaluation metrics of logistic regression classifier:  0.8413384267778529\n",
            "[[16883  7588]\n",
            " [ 6035 55356]]\n",
            "              precision    recall  f1-score   support\n",
            "\n",
            "         2.0       0.74      0.69      0.71     24471\n",
            "         3.0       0.88      0.90      0.89     61391\n",
            "\n",
            "    accuracy                           0.84     85862\n",
            "   macro avg       0.81      0.80      0.80     85862\n",
            "weighted avg       0.84      0.84      0.84     85862\n",
            "\n",
            "Sensitivity:  0.6899186792529933\n",
            "Specificity:  0.9016956882930722\n"
          ],
          "name": "stdout"
        },
        {
          "output_type": "display_data",
          "data": {
            "image/png": "[encoded data removed]",
            "text/plain": [
              "<Figure size 360x360 with 2 Axes>"
            ]
          },
          "metadata": {
            "tags": [],
            "needs_background": "light"
          }
        },
        {
          "output_type": "display_data",
          "data": {
            "image/png": "[encoded data removed]",
            "text/plain": [
              "<Figure size 432x288 with 1 Axes>"
            ]
          },
          "metadata": {
            "tags": [],
            "needs_background": "light"
          }
        }
      ]
    },
    {
      "cell_type": "markdown",
      "metadata": {
        "id": "eLk8QSr075Ql"
      },
      "source": [
        "# Naive Bayes"
      ]
    },
    {
      "cell_type": "code",
      "metadata": {
        "colab": {
          "base_uri": "https://localhost:8080/",
          "height": 850
        },
        "id": "b-wcAMyhyfzV",
        "outputId": "a14c468a-28d8-4f97-c98e-30ee47ffcc09"
      },
      "source": [
        "naive_bayes = GaussianNB()\n",
        "naive_bayes.fit(X_test,y_test)\n",
        "score = naive_bayes.score(X_test,y_test)\n",
        "print(\"Naive Bayes Classification Score: {}\".format(score))\n",
        "\n",
        "performance['Model'].append('Naive Bayes')\n",
        "performance['Accuracy'].append(score)\n",
        "\n",
        "y_pred = naive_bayes.predict(X_test)\n",
        "conf_mat = confusion_matrix(y_test,y_pred)\n",
        "print(conf_mat)\n",
        "print(classification_report(y_test, y_pred))\n",
        "sens = conf_mat[0,0] / (conf_mat[0,0] + conf_mat[0,1])\n",
        "spec = conf_mat[1,1] / (conf_mat[1,0] + conf_mat[1,1])\n",
        "\n",
        "print(\"Sensitivity: \", sens)\n",
        "print(\"Specificity: \", spec)\n",
        "\n",
        "#Visualizing Confusion Matrix\n",
        "f, ax = plt.subplots(figsize=(5,5))\n",
        "sns.heatmap(conf_mat,annot=True,fmt=\".0f\",ax=ax, cmap=plt.cm.GnBu)\n",
        "plt.xlabel(\"Predicted Values\")\n",
        "plt.ylabel(\"True Values\")\n",
        "plt.show()\n",
        "\n",
        "y_probs = naive_bayes.predict_proba(X_test)\n",
        "y_probs = y_probs[:, 1]\n",
        "log_auc = roc_auc_score(y_test,y_probs)\n",
        "auc_list.append((\"Naive Bayes\",log_auc))\n",
        "ns_fpr, ns_tpr, _ = roc_curve(y_test, y_probs, pos_label=3)\n",
        "\n",
        "# plot the roc curve for the model\n",
        "pyplot.plot(ns_fpr, ns_tpr, linestyle='--', label='Naive Bayes')\n",
        "pyplot.xlabel(\"False Positive Rate\")\n",
        "pyplot.ylabel(\"True Positive Rate\")\n",
        "pyplot.title(\"ROC Curve\")\n",
        "# show the legend\n",
        "pyplot.legend()\n",
        "\n",
        "# show the plot\n",
        "pyplot.show()"
      ],
      "execution_count": 12,
      "outputs": [
        {
          "output_type": "stream",
          "text": [
            "Naive Bayes Classification Score: 0.7565512100812932\n",
            "[[ 3581 20890]\n",
            " [   13 61378]]\n",
            "              precision    recall  f1-score   support\n",
            "\n",
            "         2.0       1.00      0.15      0.26     24471\n",
            "         3.0       0.75      1.00      0.85     61391\n",
            "\n",
            "    accuracy                           0.76     85862\n",
            "   macro avg       0.87      0.57      0.55     85862\n",
            "weighted avg       0.82      0.76      0.68     85862\n",
            "\n",
            "Sensitivity:  0.14633647991500143\n",
            "Specificity:  0.9997882425762734\n"
          ],
          "name": "stdout"
        },
        {
          "output_type": "display_data",
          "data": {
            "image/png": "[encoded data removed]",
            "text/plain": [
              "<Figure size 360x360 with 2 Axes>"
            ]
          },
          "metadata": {
            "tags": [],
            "needs_background": "light"
          }
        },
        {
          "output_type": "display_data",
          "data": {
            "image/png": "[encoded data removed]",
            "text/plain": [
              "<Figure size 432x288 with 1 Axes>"
            ]
          },
          "metadata": {
            "tags": [],
            "needs_background": "light"
          }
        }
      ]
    },
    {
      "cell_type": "markdown",
      "metadata": {
        "id": "RYINx0tzZlLj"
      },
      "source": [
        "# Decision Tree"
      ]
    },
    {
      "cell_type": "code",
      "metadata": {
        "colab": {
          "base_uri": "https://localhost:8080/",
          "height": 850
        },
        "id": "_KAnuGgLZk8W",
        "outputId": "16b765ee-345d-4015-dfbe-0b6252808ede"
      },
      "source": [
        "\n",
        "dtc = DecisionTreeClassifier()\n",
        "dtc.fit(X_train, y_train)\n",
        " \n",
        "y_pred_new = dtc.predict(X_test)\n",
        "score = dtc.score(X_test,y_test)\n",
        "print(\"Evaluation metrics of decision tree classifier: \", score)\n",
        " \n",
        "performance['Model'].append('Decision Tree')\n",
        "performance['Accuracy'].append(score)\n",
        "\n",
        "cm = confusion_matrix(y_test, y_pred_new)\n",
        "print(cm)\n",
        "print(classification_report(y_test, y_pred_new))\n",
        "sens = cm[0,0] / (cm[0,0] + cm[0,1])\n",
        "spec = cm[1,1] / (cm[1,0] + cm[1,1])\n",
        "\n",
        "print(\"Sensitivity: \", sens)\n",
        "print(\"Specificity: \", spec)\n",
        "\n",
        "#Visualizing Confusion Matrix\n",
        "f, ax = plt.subplots(figsize=(5,5))\n",
        "sns.heatmap(cm,annot=True,fmt=\".0f\",ax=ax, cmap=plt.cm.GnBu)\n",
        "plt.xlabel(\"Predicted Values\")\n",
        "plt.ylabel(\"True Values\")\n",
        "plt.show()\n",
        "\n",
        "y_probs = dtc.predict_proba(X_test)\n",
        "y_probs = y_probs[:, 1]\n",
        "log_auc = roc_auc_score(y_test,y_probs)\n",
        "auc_list.append((\"Decision Tree\",log_auc))\n",
        "ns_fpr, ns_tpr, _ = roc_curve(y_test, y_probs, pos_label=3)\n",
        "\n",
        "# plot the roc curve for the model\n",
        "pyplot.plot(ns_fpr, ns_tpr, linestyle='--', label='Decision Tree')\n",
        "pyplot.xlabel(\"False Positive Rate\")\n",
        "pyplot.ylabel(\"True Positive Rate\")\n",
        "pyplot.title(\"ROC Curve\")\n",
        "\n",
        "# show the legend\n",
        "pyplot.legend()\n",
        "\n",
        "# show the plot\n",
        "pyplot.show()"
      ],
      "execution_count": 13,
      "outputs": [
        {
          "output_type": "stream",
          "text": [
            "Evaluation metrics of decision tree classifier:  0.9044163890894692\n",
            "[[20359  4112]\n",
            " [ 4095 57296]]\n",
            "              precision    recall  f1-score   support\n",
            "\n",
            "         2.0       0.83      0.83      0.83     24471\n",
            "         3.0       0.93      0.93      0.93     61391\n",
            "\n",
            "    accuracy                           0.90     85862\n",
            "   macro avg       0.88      0.88      0.88     85862\n",
            "weighted avg       0.90      0.90      0.90     85862\n",
            "\n",
            "Sensitivity:  0.8319643659842262\n",
            "Specificity:  0.9332964115261194\n"
          ],
          "name": "stdout"
        },
        {
          "output_type": "display_data",
          "data": {
            "image/png": "[encoded data removed]",
            "text/plain": [
              "<Figure size 360x360 with 2 Axes>"
            ]
          },
          "metadata": {
            "tags": [],
            "needs_background": "light"
          }
        },
        {
          "output_type": "display_data",
          "data": {
            "image/png": "[encoded data removed]",
            "text/plain": [
              "<Figure size 432x288 with 1 Axes>"
            ]
          },
          "metadata": {
            "tags": [],
            "needs_background": "light"
          }
        }
      ]
    },
    {
      "cell_type": "markdown",
      "metadata": {
        "id": "BqYHVE9w7u3P"
      },
      "source": [
        "# K-Nearest Neighbors"
      ]
    },
    {
      "cell_type": "code",
      "metadata": {
        "colab": {
          "base_uri": "https://localhost:8080/",
          "height": 850
        },
        "id": "eODcUdVK6ePr",
        "outputId": "4c714218-0da9-4758-beae-694b10a281dd"
      },
      "source": [
        "\n",
        "\n",
        "knn = KNeighborsClassifier(n_neighbors=5)\n",
        "knn.fit(X_train,y_train)\n",
        "\n",
        "score = knn.score(X_test,y_test)\n",
        "print(\"Score for Number of Neighbors = 5: {}\".format(score))\n",
        "\n",
        "performance['Model'].append('KNN')\n",
        "performance['Accuracy'].append(score)\n",
        "\n",
        "y_pred = knn.predict(X_test)\n",
        "conf_mat = confusion_matrix(y_test,y_pred)\n",
        "print(conf_mat)\n",
        "print(classification_report(y_test, y_pred))\n",
        "sens = conf_mat[0,0] / (conf_mat[0,0] + conf_mat[0,1])\n",
        "spec = conf_mat[1,1] / (conf_mat[1,0] + conf_mat[1,1])\n",
        "\n",
        "print(\"Sensitivity: \", sens)\n",
        "print(\"Specificity: \", spec)\n",
        "\n",
        "#Visualizing Confusion Matrix\n",
        "f, ax = plt.subplots(figsize=(5,5))\n",
        "sns.heatmap(conf_mat,annot=True,fmt=\".0f\",ax=ax, cmap=plt.cm.GnBu)\n",
        "plt.xlabel(\"Predicted Values\")\n",
        "plt.ylabel(\"True Values\")\n",
        "plt.show()\n",
        "\n",
        "y_probs = knn.predict_proba(X_test)\n",
        "y_probs = y_probs[:, 1]\n",
        "log_auc = roc_auc_score(y_test,y_probs)\n",
        "auc_list.append((\"K-Nearest Neighbor\",log_auc))\n",
        "ns_fpr, ns_tpr, _ = roc_curve(y_test, y_probs, pos_label=3)\n",
        "\n",
        "# plot the roc curve for the model\n",
        "pyplot.plot(ns_fpr, ns_tpr, linestyle='--', label='KNN')\n",
        "pyplot.xlabel(\"False Positive Rate\")\n",
        "pyplot.ylabel(\"True Positive Rate\")\n",
        "pyplot.title(\"ROC Curve\")\n",
        "\n",
        "# show the legend\n",
        "pyplot.legend()\n",
        "\n",
        "# show the plot\n",
        "pyplot.show()"
      ],
      "execution_count": 14,
      "outputs": [
        {
          "output_type": "stream",
          "text": [
            "Score for Number of Neighbors = 5: 0.9005147795299434\n",
            "[[20048  4423]\n",
            " [ 4119 57272]]\n",
            "              precision    recall  f1-score   support\n",
            "\n",
            "         2.0       0.83      0.82      0.82     24471\n",
            "         3.0       0.93      0.93      0.93     61391\n",
            "\n",
            "    accuracy                           0.90     85862\n",
            "   macro avg       0.88      0.88      0.88     85862\n",
            "weighted avg       0.90      0.90      0.90     85862\n",
            "\n",
            "Sensitivity:  0.8192554452208737\n",
            "Specificity:  0.932905474743855\n"
          ],
          "name": "stdout"
        },
        {
          "output_type": "display_data",
          "data": {
            "image/png": "[encoded data removed]",
            "text/plain": [
              "<Figure size 360x360 with 2 Axes>"
            ]
          },
          "metadata": {
            "tags": [],
            "needs_background": "light"
          }
        },
        {
          "output_type": "display_data",
          "data": {
            "image/png": "[encoded data removed]",
            "text/plain": [
              "<Figure size 432x288 with 1 Axes>"
            ]
          },
          "metadata": {
            "tags": [],
            "needs_background": "light"
          }
        }
      ]
    },
    {
      "cell_type": "markdown",
      "metadata": {
        "id": "SV_BXo47eW1r"
      },
      "source": [
        "# Random Forest"
      ]
    },
    {
      "cell_type": "code",
      "metadata": {
        "colab": {
          "base_uri": "https://localhost:8080/",
          "height": 850
        },
        "id": "cZPIE6j2vXfo",
        "outputId": "c2c5b2e9-20dd-487b-f722-8d0088a5386c"
      },
      "source": [
        "# Instantiate\n",
        "clf = RandomForestClassifier(n_estimators=100)\n",
        "\n",
        "clf.fit(X_train, y_train)\n",
        "\n",
        "# Import confusion_matrix\n",
        "from sklearn import metrics\n",
        "\n",
        "y_pred = clf.predict(X_test)\n",
        "\n",
        "score = metrics.accuracy_score(y_test, y_pred)\n",
        "\n",
        "print(\"Evaluation metrics of random forest classifier: \", score)\n",
        "\n",
        "conf_mat = confusion_matrix(y_test, y_pred)\n",
        "print(conf_mat)\n",
        "print(classification_report(y_test, y_pred))\n",
        "sens = conf_mat[0,0] / (conf_mat[0,0] + conf_mat[0,1])\n",
        "spec = conf_mat[1,1] / (conf_mat[1,0] + conf_mat[1,1])\n",
        "\n",
        "print(\"Sensitivity: \", sens)\n",
        "print(\"Specificity: \", spec)\n",
        "\n",
        "#Visualizing Confusion Matrix\n",
        "f, ax = plt.subplots(figsize=(5,5))\n",
        "sns.heatmap(metrics.confusion_matrix(y_test, y_pred),annot=True,fmt=\".0f\",ax=ax, cmap=plt.cm.GnBu)\n",
        "plt.xlabel(\"Predicted Values\")\n",
        "plt.ylabel(\"True Values\")\n",
        "plt.show()\n",
        "\n",
        "\n",
        "performance['Model'].append('Random Forest')\n",
        "performance['Accuracy'].append(score)\n",
        "\n",
        "\n",
        "\n",
        "y_probs = clf.predict_proba(X_test)\n",
        "y_probs = y_probs[:, 1]\n",
        "log_auc = roc_auc_score(y_test,y_probs)\n",
        "auc_list.append((\"Random Forest\",log_auc))\n",
        "ns_fpr, ns_tpr, _ = roc_curve(y_test, y_probs, pos_label=3)\n",
        "\n",
        "# plot the roc curve for the model\n",
        "pyplot.plot(ns_fpr, ns_tpr, linestyle='--', label='RandomForest')\n",
        "pyplot.xlabel(\"False Positive Rate\")\n",
        "pyplot.ylabel(\"True Positive Rate\")\n",
        "pyplot.title(\"ROC Curve\")\n",
        "\n",
        "# show the legend\n",
        "pyplot.legend()\n",
        "\n",
        "# show the plot\n",
        "pyplot.show()"
      ],
      "execution_count": 15,
      "outputs": [
        {
          "output_type": "stream",
          "text": [
            "Evaluation metrics of random forest classifier:  0.9397288672521023\n",
            "[[21810  2661]\n",
            " [ 2514 58877]]\n",
            "              precision    recall  f1-score   support\n",
            "\n",
            "         2.0       0.90      0.89      0.89     24471\n",
            "         3.0       0.96      0.96      0.96     61391\n",
            "\n",
            "    accuracy                           0.94     85862\n",
            "   macro avg       0.93      0.93      0.93     85862\n",
            "weighted avg       0.94      0.94      0.94     85862\n",
            "\n",
            "Sensitivity:  0.8912590413142086\n",
            "Specificity:  0.9590493720577935\n"
          ],
          "name": "stdout"
        },
        {
          "output_type": "display_data",
          "data": {
            "image/png": "[encoded data removed]",
            "text/plain": [
              "<Figure size 360x360 with 2 Axes>"
            ]
          },
          "metadata": {
            "tags": [],
            "needs_background": "light"
          }
        },
        {
          "output_type": "display_data",
          "data": {
            "image/png": "[encoded data removed]",
            "text/plain": [
              "<Figure size 432x288 with 1 Axes>"
            ]
          },
          "metadata": {
            "tags": [],
            "needs_background": "light"
          }
        }
      ]
    },
    {
      "cell_type": "markdown",
      "metadata": {
        "id": "IT053QFL7j0q"
      },
      "source": [
        "# Artificial Neural Network"
      ]
    },
    {
      "cell_type": "code",
      "metadata": {
        "colab": {
          "base_uri": "https://localhost:8080/"
        },
        "id": "1xKYyppV6ePr",
        "outputId": "e0bf9609-6b8e-4d50-b9d0-0b505d6934cf"
      },
      "source": [
        "def build_classifier():\n",
        "    classifier = Sequential() # initialize neural network\n",
        "    classifier.add(Dense(units = 50, kernel_initializer = 'uniform', activation = 'relu', input_dim = X_train.shape[1]))\n",
        "    classifier.add(Dense(units = 10, kernel_initializer = 'uniform', activation = 'relu'))\n",
        "    classifier.add(Dense(units = 1, kernel_initializer = 'uniform', activation = 'sigmoid'))\n",
        "    classifier.compile(optimizer = 'adam', loss = 'binary_crossentropy', metrics = ['accuracy'])\n",
        "    return classifier\n",
        "classifier = KerasClassifier(build_fn = build_classifier, epochs = 10)\n",
        "accuracies = cross_val_score(estimator = classifier, X = X_train, y = y_train, cv = 3)\n",
        "mean = accuracies.mean()\n",
        "variance = accuracies.std()\n",
        "performance['Model'].append('ANN')\n",
        "performance['Accuracy'].append(mean)\n",
        "print(\"Accuracy mean: \"+ str(mean))\n",
        "print(\"Accuracy variance: \"+ str(variance))"
      ],
      "execution_count": 16,
      "outputs": [
        {
          "output_type": "stream",
          "text": [
            "Epoch 1/10\n",
            "3632/3632 [==============================] - 4s 1ms/step - loss: 0.6055 - accuracy: 0.7184\n",
            "Epoch 2/10\n",
            "3632/3632 [==============================] - 4s 1ms/step - loss: 0.5943 - accuracy: 0.7186\n",
            "Epoch 3/10\n",
            "3632/3632 [==============================] - 4s 1ms/step - loss: 0.5943 - accuracy: 0.7186\n",
            "Epoch 4/10\n",
            "3632/3632 [==============================] - 4s 1ms/step - loss: 0.5943 - accuracy: 0.7186\n",
            "Epoch 5/10\n",
            "3632/3632 [==============================] - 4s 1ms/step - loss: 0.5943 - accuracy: 0.7186\n",
            "Epoch 6/10\n",
            "3632/3632 [==============================] - 4s 1ms/step - loss: 0.5943 - accuracy: 0.7186\n",
            "Epoch 7/10\n",
            "3632/3632 [==============================] - 4s 1ms/step - loss: 0.5943 - accuracy: 0.7186\n",
            "Epoch 8/10\n",
            "3632/3632 [==============================] - 4s 1ms/step - loss: 0.5943 - accuracy: 0.7186\n",
            "Epoch 9/10\n",
            "3632/3632 [==============================] - 4s 1ms/step - loss: 0.5943 - accuracy: 0.7186\n",
            "Epoch 10/10\n",
            "3632/3632 [==============================] - 4s 1ms/step - loss: 0.5943 - accuracy: 0.7186\n",
            "1816/1816 [==============================] - 1s 818us/step - loss: 0.5919 - accuracy: 0.7212\n",
            "Epoch 1/10\n",
            "3632/3632 [==============================] - 4s 1ms/step - loss: 0.3609 - accuracy: 0.8339\n",
            "Epoch 2/10\n",
            "3632/3632 [==============================] - 4s 1ms/step - loss: 0.2939 - accuracy: 0.8728\n",
            "Epoch 3/10\n",
            "3632/3632 [==============================] - 4s 1ms/step - loss: 0.2840 - accuracy: 0.8775\n",
            "Epoch 4/10\n",
            "3632/3632 [==============================] - 4s 1ms/step - loss: 0.2805 - accuracy: 0.8779\n",
            "Epoch 5/10\n",
            "3632/3632 [==============================] - 4s 1ms/step - loss: 0.2774 - accuracy: 0.8796\n",
            "Epoch 6/10\n",
            "3632/3632 [==============================] - 4s 1ms/step - loss: 0.2754 - accuracy: 0.8809\n",
            "Epoch 7/10\n",
            "3632/3632 [==============================] - 4s 1ms/step - loss: 0.2750 - accuracy: 0.8809\n",
            "Epoch 8/10\n",
            "3632/3632 [==============================] - 4s 1ms/step - loss: 0.2721 - accuracy: 0.8829\n",
            "Epoch 9/10\n",
            "3632/3632 [==============================] - 4s 1ms/step - loss: 0.2713 - accuracy: 0.8834\n",
            "Epoch 10/10\n",
            "3632/3632 [==============================] - 4s 1ms/step - loss: 0.2695 - accuracy: 0.8849\n",
            "1816/1816 [==============================] - 2s 842us/step - loss: 0.2672 - accuracy: 0.8862\n",
            "Epoch 1/10\n",
            "3632/3632 [==============================] - 4s 1ms/step - loss: 0.3866 - accuracy: 0.8144\n",
            "Epoch 2/10\n",
            "3632/3632 [==============================] - 4s 1ms/step - loss: 0.3303 - accuracy: 0.8496\n",
            "Epoch 3/10\n",
            "3632/3632 [==============================] - 4s 1ms/step - loss: 0.3168 - accuracy: 0.8561\n",
            "Epoch 4/10\n",
            "3632/3632 [==============================] - 4s 1ms/step - loss: 0.3129 - accuracy: 0.8573\n",
            "Epoch 5/10\n",
            "3632/3632 [==============================] - 4s 1ms/step - loss: 0.3099 - accuracy: 0.8594\n",
            "Epoch 6/10\n",
            "3632/3632 [==============================] - 4s 1ms/step - loss: 0.2984 - accuracy: 0.8673\n",
            "Epoch 7/10\n",
            "3632/3632 [==============================] - 4s 1ms/step - loss: 0.2828 - accuracy: 0.8750\n",
            "Epoch 8/10\n",
            "3632/3632 [==============================] - 4s 1ms/step - loss: 0.2802 - accuracy: 0.8765\n",
            "Epoch 9/10\n",
            "3632/3632 [==============================] - 4s 1ms/step - loss: 0.2791 - accuracy: 0.8776\n",
            "Epoch 10/10\n",
            "3632/3632 [==============================] - 4s 1ms/step - loss: 0.2783 - accuracy: 0.8777\n",
            "1816/1816 [==============================] - 1s 821us/step - loss: 0.2758 - accuracy: 0.8785\n",
            "Accuracy mean: 0.8286351760228475\n",
            "Accuracy variance: 0.0760630219135507\n"
          ],
          "name": "stdout"
        }
      ]
    },
    {
      "cell_type": "code",
      "metadata": {
        "id": "SFOcMRm_lhA7",
        "colab": {
          "base_uri": "https://localhost:8080/",
          "height": 332
        },
        "outputId": "fbb3f8e7-06c0-4124-92bf-a75bd9bc316b"
      },
      "source": [
        "#Complete ROC\n",
        "\n",
        "#Logistic Regression\n",
        "y_probs_log = logreg.predict_proba(X_test)\n",
        "y_probs_log = y_probs_log[:, 1]\n",
        "ns_fpr, ns_tpr, _ = roc_curve(y_test, y_probs_log, pos_label=3)\n",
        "\n",
        "#Naive Bayes\n",
        "y_probs_naive = naive_bayes.predict_proba(X_test)\n",
        "y_probs_naive = y_probs_naive[:, 1]\n",
        "ns_fpr_naive, ns_tpr_naive, _ = roc_curve(y_test, y_probs_naive, pos_label=3)\n",
        "\n",
        "#Decision Tree\n",
        "y_probs_tree = dtc.predict_proba(X_test)\n",
        "y_probs_tree = y_probs_tree[:, 1]\n",
        "ns_fpr_tree, ns_tpr_tree, _ = roc_curve(y_test, y_probs_tree, pos_label=3)\n",
        "\n",
        "#K-Nearest Neighbor\n",
        "y_probs_neighbor = knn.predict_proba(X_test)\n",
        "y_probs_neighbor = y_probs_neighbor[:, 1]\n",
        "ns_fpr_neighbor, ns_tpr_neighbor, _ = roc_curve(y_test, y_probs_neighbor, pos_label=3)\n",
        "\n",
        "#Random Forest\n",
        "y_probs_forest = clf.predict_proba(X_test)\n",
        "y_probs_forest = y_probs_forest[:, 1]\n",
        "ns_fpr_forest, ns_tpr_forest, _ = roc_curve(y_test, y_probs_forest, pos_label=3)\n",
        "\n",
        "# Display area under curve list\n",
        "print(auc_list)\n",
        "\n",
        "# plot the roc curve for the model\n",
        "pyplot.plot(ns_fpr, ns_tpr, linestyle='--', label='Logistic Regression')\n",
        "pyplot.plot(ns_fpr_naive, ns_tpr_naive, linestyle='dashed', label='Naive Bayes')\n",
        "pyplot.plot(ns_fpr_tree, ns_tpr_tree, linestyle='dotted', label='Decision Tree')\n",
        "pyplot.plot(ns_fpr_neighbor, ns_tpr_neighbor, linestyle='dashdot', label='K-Nearest Neighbor')\n",
        "pyplot.plot(ns_fpr_forest, ns_tpr_forest, linestyle='solid', label='Random Forest')\n",
        "\n",
        "#Axis labels & Title\n",
        "pyplot.xlabel(\"False Positive Rate\")\n",
        "pyplot.ylabel(\"True Positive Rate\")\n",
        "pyplot.title(\"ROC Curve\")\n",
        "\n",
        "# show the legend\n",
        "pyplot.legend()\n",
        "\n",
        "# show the plot\n",
        "pyplot.show()"
      ],
      "execution_count": 17,
      "outputs": [
        {
          "output_type": "stream",
          "text": [
            "[('Logistic Regression', 0.910884696952846), ('Naive Bayes', 0.903429476787147), ('Decision Tree', 0.8826303887551727), ('K-Nearest Neighbor', 0.943602546883137), ('Random Forest', 0.981611356634446)]\n"
          ],
          "name": "stdout"
        },
        {
          "output_type": "display_data",
          "data": {
            "image/png": "[encoded data removed]",
            "text/plain": [
              "<Figure size 432x288 with 1 Axes>"
            ]
          },
          "metadata": {
            "tags": [],
            "needs_background": "light"
          }
        }
      ]
    },
    {
      "cell_type": "code",
      "metadata": {
        "colab": {
          "base_uri": "https://localhost:8080/",
          "height": 372
        },
        "id": "9SOpTJMdxKvu",
        "outputId": "2515b75b-7772-428e-9dab-40e61317ce04"
      },
      "source": [
        "import seaborn as sns\n",
        "dataFrame = pd.DataFrame(data=performance);\n",
        "\n",
        "# Plotting a vertical bar chart\n",
        "sns.barplot(x=dataFrame['Model'],y=dataFrame['Accuracy'], data=dataFrame, order = dataFrame.sort_values('Accuracy').Model, palette='rocket')\n",
        "plt.title(\"Comparing Accuracies of Classification Models\")\n",
        "plt.xticks(rotation=40)"
      ],
      "execution_count": 18,
      "outputs": [
        {
          "output_type": "execute_result",
          "data": {
            "text/plain": [
              "(array([0, 1, 2, 3, 4, 5]), <a list of 6 Text major ticklabel objects>)"
            ]
          },
          "metadata": {
            "tags": []
          },
          "execution_count": 18
        },
        {
          "output_type": "display_data",
          "data": {
            "image/png": "[encoded data removed]",
            "text/plain": [
              "<Figure size 432x288 with 1 Axes>"
            ]
          },
          "metadata": {
            "tags": [],
            "needs_background": "light"
          }
        }
      ]
    },
    {
      "cell_type": "code",
      "metadata": {
        "id": "H6pNAPcqL0RE"
      },
      "source": [
        ""
      ],
      "execution_count": 18,
      "outputs": []
    }
  ]
}